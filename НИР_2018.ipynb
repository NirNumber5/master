{
 "cells": [
  {
   "cell_type": "markdown",
   "id": "cb3c36d6",
   "metadata": {},
   "source": [
    "# Данные за 2018 год"
   ]
  },
  {
   "cell_type": "code",
   "execution_count": 3,
   "id": "2c05c6b6",
   "metadata": {
    "scrolled": true
   },
   "outputs": [
    {
     "data": {
      "text/html": [
       "<div>\n",
       "<style scoped>\n",
       "    .dataframe tbody tr th:only-of-type {\n",
       "        vertical-align: middle;\n",
       "    }\n",
       "\n",
       "    .dataframe tbody tr th {\n",
       "        vertical-align: top;\n",
       "    }\n",
       "\n",
       "    .dataframe thead th {\n",
       "        text-align: right;\n",
       "    }\n",
       "</style>\n",
       "<table border=\"1\" class=\"dataframe\">\n",
       "  <thead>\n",
       "    <tr style=\"text-align: right;\">\n",
       "      <th></th>\n",
       "      <th>id_applicant</th>\n",
       "      <th>id_partner</th>\n",
       "      <th>id_log</th>\n",
       "      <th>department_id</th>\n",
       "      <th>action_date</th>\n",
       "      <th>stage_name</th>\n",
       "      <th>activity_name</th>\n",
       "      <th>result_name</th>\n",
       "      <th>position_name</th>\n",
       "      <th>is_active_action</th>\n",
       "      <th>is_open_action</th>\n",
       "    </tr>\n",
       "  </thead>\n",
       "  <tbody>\n",
       "    <tr>\n",
       "      <th>0</th>\n",
       "      <td>3080432</td>\n",
       "      <td>2883423</td>\n",
       "      <td>-1</td>\n",
       "      <td>9044</td>\n",
       "      <td>2018-10-16 18:11:10.00318+00</td>\n",
       "      <td>Создание кандидата</td>\n",
       "      <td>NaN</td>\n",
       "      <td>NaN</td>\n",
       "      <td>Продавец-кассир</td>\n",
       "      <td>True</td>\n",
       "      <td>False</td>\n",
       "    </tr>\n",
       "    <tr>\n",
       "      <th>1</th>\n",
       "      <td>2873477</td>\n",
       "      <td>2761171</td>\n",
       "      <td>-1</td>\n",
       "      <td>32087</td>\n",
       "      <td>2018-08-15 10:36:32.936322+00</td>\n",
       "      <td>Создание кандидата</td>\n",
       "      <td>NaN</td>\n",
       "      <td>NaN</td>\n",
       "      <td>Продавец-кассир</td>\n",
       "      <td>True</td>\n",
       "      <td>False</td>\n",
       "    </tr>\n",
       "    <tr>\n",
       "      <th>2</th>\n",
       "      <td>2896621</td>\n",
       "      <td>2776555</td>\n",
       "      <td>-1</td>\n",
       "      <td>32087</td>\n",
       "      <td>2018-08-22 14:09:27.083354+00</td>\n",
       "      <td>Создание кандидата</td>\n",
       "      <td>NaN</td>\n",
       "      <td>NaN</td>\n",
       "      <td>Продавец-кассир</td>\n",
       "      <td>True</td>\n",
       "      <td>False</td>\n",
       "    </tr>\n",
       "    <tr>\n",
       "      <th>3</th>\n",
       "      <td>2906437</td>\n",
       "      <td>2782282</td>\n",
       "      <td>-1</td>\n",
       "      <td>32087</td>\n",
       "      <td>2018-08-24 15:55:27.912704+00</td>\n",
       "      <td>Создание кандидата</td>\n",
       "      <td>NaN</td>\n",
       "      <td>NaN</td>\n",
       "      <td>Продавец-кассир</td>\n",
       "      <td>True</td>\n",
       "      <td>False</td>\n",
       "    </tr>\n",
       "    <tr>\n",
       "      <th>4</th>\n",
       "      <td>2965200</td>\n",
       "      <td>2816229</td>\n",
       "      <td>-1</td>\n",
       "      <td>32087</td>\n",
       "      <td>2018-09-11 15:00:49.242929+00</td>\n",
       "      <td>Создание кандидата</td>\n",
       "      <td>NaN</td>\n",
       "      <td>NaN</td>\n",
       "      <td>Продавец-кассир</td>\n",
       "      <td>True</td>\n",
       "      <td>False</td>\n",
       "    </tr>\n",
       "    <tr>\n",
       "      <th>...</th>\n",
       "      <td>...</td>\n",
       "      <td>...</td>\n",
       "      <td>...</td>\n",
       "      <td>...</td>\n",
       "      <td>...</td>\n",
       "      <td>...</td>\n",
       "      <td>...</td>\n",
       "      <td>...</td>\n",
       "      <td>...</td>\n",
       "      <td>...</td>\n",
       "      <td>...</td>\n",
       "    </tr>\n",
       "    <tr>\n",
       "      <th>7211284</th>\n",
       "      <td>3221933</td>\n",
       "      <td>2968967</td>\n",
       "      <td>-1</td>\n",
       "      <td>25660</td>\n",
       "      <td>2020-04-23 15:05:45.859137+00</td>\n",
       "      <td>Интервью с руководителем</td>\n",
       "      <td>Узнать результаты интервью с руководителем</td>\n",
       "      <td>NaN</td>\n",
       "      <td>Продавец-кассир</td>\n",
       "      <td>True</td>\n",
       "      <td>True</td>\n",
       "    </tr>\n",
       "    <tr>\n",
       "      <th>7211285</th>\n",
       "      <td>3007369</td>\n",
       "      <td>2840731</td>\n",
       "      <td>-1</td>\n",
       "      <td>10687</td>\n",
       "      <td>2020-04-23 15:05:45.859137+00</td>\n",
       "      <td>Оформление</td>\n",
       "      <td>Узнать результаты приема</td>\n",
       "      <td>NaN</td>\n",
       "      <td>Продавец-кассир</td>\n",
       "      <td>True</td>\n",
       "      <td>True</td>\n",
       "    </tr>\n",
       "    <tr>\n",
       "      <th>7211286</th>\n",
       "      <td>3230514</td>\n",
       "      <td>2974049</td>\n",
       "      <td>-1</td>\n",
       "      <td>10718</td>\n",
       "      <td>2020-04-23 15:05:45.859137+00</td>\n",
       "      <td>Оформление</td>\n",
       "      <td>Узнать результаты приема</td>\n",
       "      <td>NaN</td>\n",
       "      <td>Продавец-кассир</td>\n",
       "      <td>True</td>\n",
       "      <td>True</td>\n",
       "    </tr>\n",
       "    <tr>\n",
       "      <th>7211287</th>\n",
       "      <td>3117018</td>\n",
       "      <td>2905192</td>\n",
       "      <td>-1</td>\n",
       "      <td>10718</td>\n",
       "      <td>2020-04-23 15:05:45.859137+00</td>\n",
       "      <td>Назначение времени на оформление/медосмотр</td>\n",
       "      <td>Назначить время на оформление/медосмотр (недоз...</td>\n",
       "      <td>NaN</td>\n",
       "      <td>Продавец-кассир</td>\n",
       "      <td>True</td>\n",
       "      <td>True</td>\n",
       "    </tr>\n",
       "    <tr>\n",
       "      <th>7211288</th>\n",
       "      <td>2581506</td>\n",
       "      <td>2596820</td>\n",
       "      <td>-1</td>\n",
       "      <td>10718</td>\n",
       "      <td>2020-04-23 15:05:45.859137+00</td>\n",
       "      <td>Ожидание</td>\n",
       "      <td>Вернуть в воронку</td>\n",
       "      <td>NaN</td>\n",
       "      <td>Продавец-кассир</td>\n",
       "      <td>True</td>\n",
       "      <td>True</td>\n",
       "    </tr>\n",
       "  </tbody>\n",
       "</table>\n",
       "<p>7211289 rows × 11 columns</p>\n",
       "</div>"
      ],
      "text/plain": [
       "         id_applicant  id_partner  id_log  department_id  \\\n",
       "0             3080432     2883423      -1           9044   \n",
       "1             2873477     2761171      -1          32087   \n",
       "2             2896621     2776555      -1          32087   \n",
       "3             2906437     2782282      -1          32087   \n",
       "4             2965200     2816229      -1          32087   \n",
       "...               ...         ...     ...            ...   \n",
       "7211284       3221933     2968967      -1          25660   \n",
       "7211285       3007369     2840731      -1          10687   \n",
       "7211286       3230514     2974049      -1          10718   \n",
       "7211287       3117018     2905192      -1          10718   \n",
       "7211288       2581506     2596820      -1          10718   \n",
       "\n",
       "                           action_date  \\\n",
       "0         2018-10-16 18:11:10.00318+00   \n",
       "1        2018-08-15 10:36:32.936322+00   \n",
       "2        2018-08-22 14:09:27.083354+00   \n",
       "3        2018-08-24 15:55:27.912704+00   \n",
       "4        2018-09-11 15:00:49.242929+00   \n",
       "...                                ...   \n",
       "7211284  2020-04-23 15:05:45.859137+00   \n",
       "7211285  2020-04-23 15:05:45.859137+00   \n",
       "7211286  2020-04-23 15:05:45.859137+00   \n",
       "7211287  2020-04-23 15:05:45.859137+00   \n",
       "7211288  2020-04-23 15:05:45.859137+00   \n",
       "\n",
       "                                         stage_name  \\\n",
       "0                                Создание кандидата   \n",
       "1                                Создание кандидата   \n",
       "2                                Создание кандидата   \n",
       "3                                Создание кандидата   \n",
       "4                                Создание кандидата   \n",
       "...                                             ...   \n",
       "7211284                    Интервью с руководителем   \n",
       "7211285                                  Оформление   \n",
       "7211286                                  Оформление   \n",
       "7211287  Назначение времени на оформление/медосмотр   \n",
       "7211288                                    Ожидание   \n",
       "\n",
       "                                             activity_name result_name  \\\n",
       "0                                                      NaN         NaN   \n",
       "1                                                      NaN         NaN   \n",
       "2                                                      NaN         NaN   \n",
       "3                                                      NaN         NaN   \n",
       "4                                                      NaN         NaN   \n",
       "...                                                    ...         ...   \n",
       "7211284         Узнать результаты интервью с руководителем         NaN   \n",
       "7211285                           Узнать результаты приема         NaN   \n",
       "7211286                           Узнать результаты приема         NaN   \n",
       "7211287  Назначить время на оформление/медосмотр (недоз...         NaN   \n",
       "7211288                                  Вернуть в воронку         NaN   \n",
       "\n",
       "           position_name  is_active_action  is_open_action  \n",
       "0        Продавец-кассир              True           False  \n",
       "1        Продавец-кассир              True           False  \n",
       "2        Продавец-кассир              True           False  \n",
       "3        Продавец-кассир              True           False  \n",
       "4        Продавец-кассир              True           False  \n",
       "...                  ...               ...             ...  \n",
       "7211284  Продавец-кассир              True            True  \n",
       "7211285  Продавец-кассир              True            True  \n",
       "7211286  Продавец-кассир              True            True  \n",
       "7211287  Продавец-кассир              True            True  \n",
       "7211288  Продавец-кассир              True            True  \n",
       "\n",
       "[7211289 rows x 11 columns]"
      ]
     },
     "execution_count": 3,
     "metadata": {},
     "output_type": "execute_result"
    }
   ],
   "source": [
    "import pandas as pd\n",
    "import numpy as np\n",
    "\n",
    "# Загружаем наш датасет с исходными данными\n",
    "data = pd.read_csv(\"C:\\\\Users\\\\anna.nazarova\\\\Desktop\\\\Мага\\\\НИР\\\\with_closed_ations_as________select_app_2018_X5_STORES.csv\")\n",
    "data"
   ]
  },
  {
   "cell_type": "markdown",
   "id": "10eb92eb",
   "metadata": {},
   "source": [
    "Нас интересует найм только продавцов-кассиров. Кроме того,оставим для анализа только активные действия:"
   ]
  },
  {
   "cell_type": "code",
   "execution_count": 4,
   "id": "f28dac11",
   "metadata": {
    "scrolled": true
   },
   "outputs": [
    {
     "data": {
      "text/html": [
       "<div>\n",
       "<style scoped>\n",
       "    .dataframe tbody tr th:only-of-type {\n",
       "        vertical-align: middle;\n",
       "    }\n",
       "\n",
       "    .dataframe tbody tr th {\n",
       "        vertical-align: top;\n",
       "    }\n",
       "\n",
       "    .dataframe thead th {\n",
       "        text-align: right;\n",
       "    }\n",
       "</style>\n",
       "<table border=\"1\" class=\"dataframe\">\n",
       "  <thead>\n",
       "    <tr style=\"text-align: right;\">\n",
       "      <th></th>\n",
       "      <th>id_applicant</th>\n",
       "      <th>id_partner</th>\n",
       "      <th>id_log</th>\n",
       "      <th>department_id</th>\n",
       "      <th>action_date</th>\n",
       "      <th>stage_name</th>\n",
       "      <th>activity_name</th>\n",
       "      <th>result_name</th>\n",
       "      <th>position_name</th>\n",
       "      <th>is_active_action</th>\n",
       "      <th>is_open_action</th>\n",
       "    </tr>\n",
       "  </thead>\n",
       "  <tbody>\n",
       "    <tr>\n",
       "      <th>0</th>\n",
       "      <td>3080432</td>\n",
       "      <td>2883423</td>\n",
       "      <td>-1</td>\n",
       "      <td>9044</td>\n",
       "      <td>2018-10-16 18:11:10.00318+00</td>\n",
       "      <td>Создание кандидата</td>\n",
       "      <td>NaN</td>\n",
       "      <td>NaN</td>\n",
       "      <td>Продавец-кассир</td>\n",
       "      <td>True</td>\n",
       "      <td>False</td>\n",
       "    </tr>\n",
       "    <tr>\n",
       "      <th>1</th>\n",
       "      <td>2873477</td>\n",
       "      <td>2761171</td>\n",
       "      <td>-1</td>\n",
       "      <td>32087</td>\n",
       "      <td>2018-08-15 10:36:32.936322+00</td>\n",
       "      <td>Создание кандидата</td>\n",
       "      <td>NaN</td>\n",
       "      <td>NaN</td>\n",
       "      <td>Продавец-кассир</td>\n",
       "      <td>True</td>\n",
       "      <td>False</td>\n",
       "    </tr>\n",
       "    <tr>\n",
       "      <th>2</th>\n",
       "      <td>2896621</td>\n",
       "      <td>2776555</td>\n",
       "      <td>-1</td>\n",
       "      <td>32087</td>\n",
       "      <td>2018-08-22 14:09:27.083354+00</td>\n",
       "      <td>Создание кандидата</td>\n",
       "      <td>NaN</td>\n",
       "      <td>NaN</td>\n",
       "      <td>Продавец-кассир</td>\n",
       "      <td>True</td>\n",
       "      <td>False</td>\n",
       "    </tr>\n",
       "    <tr>\n",
       "      <th>3</th>\n",
       "      <td>2906437</td>\n",
       "      <td>2782282</td>\n",
       "      <td>-1</td>\n",
       "      <td>32087</td>\n",
       "      <td>2018-08-24 15:55:27.912704+00</td>\n",
       "      <td>Создание кандидата</td>\n",
       "      <td>NaN</td>\n",
       "      <td>NaN</td>\n",
       "      <td>Продавец-кассир</td>\n",
       "      <td>True</td>\n",
       "      <td>False</td>\n",
       "    </tr>\n",
       "    <tr>\n",
       "      <th>4</th>\n",
       "      <td>2965200</td>\n",
       "      <td>2816229</td>\n",
       "      <td>-1</td>\n",
       "      <td>32087</td>\n",
       "      <td>2018-09-11 15:00:49.242929+00</td>\n",
       "      <td>Создание кандидата</td>\n",
       "      <td>NaN</td>\n",
       "      <td>NaN</td>\n",
       "      <td>Продавец-кассир</td>\n",
       "      <td>True</td>\n",
       "      <td>False</td>\n",
       "    </tr>\n",
       "    <tr>\n",
       "      <th>...</th>\n",
       "      <td>...</td>\n",
       "      <td>...</td>\n",
       "      <td>...</td>\n",
       "      <td>...</td>\n",
       "      <td>...</td>\n",
       "      <td>...</td>\n",
       "      <td>...</td>\n",
       "      <td>...</td>\n",
       "      <td>...</td>\n",
       "      <td>...</td>\n",
       "      <td>...</td>\n",
       "    </tr>\n",
       "    <tr>\n",
       "      <th>7211284</th>\n",
       "      <td>3221933</td>\n",
       "      <td>2968967</td>\n",
       "      <td>-1</td>\n",
       "      <td>25660</td>\n",
       "      <td>2020-04-23 15:05:45.859137+00</td>\n",
       "      <td>Интервью с руководителем</td>\n",
       "      <td>Узнать результаты интервью с руководителем</td>\n",
       "      <td>NaN</td>\n",
       "      <td>Продавец-кассир</td>\n",
       "      <td>True</td>\n",
       "      <td>True</td>\n",
       "    </tr>\n",
       "    <tr>\n",
       "      <th>7211285</th>\n",
       "      <td>3007369</td>\n",
       "      <td>2840731</td>\n",
       "      <td>-1</td>\n",
       "      <td>10687</td>\n",
       "      <td>2020-04-23 15:05:45.859137+00</td>\n",
       "      <td>Оформление</td>\n",
       "      <td>Узнать результаты приема</td>\n",
       "      <td>NaN</td>\n",
       "      <td>Продавец-кассир</td>\n",
       "      <td>True</td>\n",
       "      <td>True</td>\n",
       "    </tr>\n",
       "    <tr>\n",
       "      <th>7211286</th>\n",
       "      <td>3230514</td>\n",
       "      <td>2974049</td>\n",
       "      <td>-1</td>\n",
       "      <td>10718</td>\n",
       "      <td>2020-04-23 15:05:45.859137+00</td>\n",
       "      <td>Оформление</td>\n",
       "      <td>Узнать результаты приема</td>\n",
       "      <td>NaN</td>\n",
       "      <td>Продавец-кассир</td>\n",
       "      <td>True</td>\n",
       "      <td>True</td>\n",
       "    </tr>\n",
       "    <tr>\n",
       "      <th>7211287</th>\n",
       "      <td>3117018</td>\n",
       "      <td>2905192</td>\n",
       "      <td>-1</td>\n",
       "      <td>10718</td>\n",
       "      <td>2020-04-23 15:05:45.859137+00</td>\n",
       "      <td>Назначение времени на оформление/медосмотр</td>\n",
       "      <td>Назначить время на оформление/медосмотр (недоз...</td>\n",
       "      <td>NaN</td>\n",
       "      <td>Продавец-кассир</td>\n",
       "      <td>True</td>\n",
       "      <td>True</td>\n",
       "    </tr>\n",
       "    <tr>\n",
       "      <th>7211288</th>\n",
       "      <td>2581506</td>\n",
       "      <td>2596820</td>\n",
       "      <td>-1</td>\n",
       "      <td>10718</td>\n",
       "      <td>2020-04-23 15:05:45.859137+00</td>\n",
       "      <td>Ожидание</td>\n",
       "      <td>Вернуть в воронку</td>\n",
       "      <td>NaN</td>\n",
       "      <td>Продавец-кассир</td>\n",
       "      <td>True</td>\n",
       "      <td>True</td>\n",
       "    </tr>\n",
       "  </tbody>\n",
       "</table>\n",
       "<p>5587055 rows × 11 columns</p>\n",
       "</div>"
      ],
      "text/plain": [
       "         id_applicant  id_partner  id_log  department_id  \\\n",
       "0             3080432     2883423      -1           9044   \n",
       "1             2873477     2761171      -1          32087   \n",
       "2             2896621     2776555      -1          32087   \n",
       "3             2906437     2782282      -1          32087   \n",
       "4             2965200     2816229      -1          32087   \n",
       "...               ...         ...     ...            ...   \n",
       "7211284       3221933     2968967      -1          25660   \n",
       "7211285       3007369     2840731      -1          10687   \n",
       "7211286       3230514     2974049      -1          10718   \n",
       "7211287       3117018     2905192      -1          10718   \n",
       "7211288       2581506     2596820      -1          10718   \n",
       "\n",
       "                           action_date  \\\n",
       "0         2018-10-16 18:11:10.00318+00   \n",
       "1        2018-08-15 10:36:32.936322+00   \n",
       "2        2018-08-22 14:09:27.083354+00   \n",
       "3        2018-08-24 15:55:27.912704+00   \n",
       "4        2018-09-11 15:00:49.242929+00   \n",
       "...                                ...   \n",
       "7211284  2020-04-23 15:05:45.859137+00   \n",
       "7211285  2020-04-23 15:05:45.859137+00   \n",
       "7211286  2020-04-23 15:05:45.859137+00   \n",
       "7211287  2020-04-23 15:05:45.859137+00   \n",
       "7211288  2020-04-23 15:05:45.859137+00   \n",
       "\n",
       "                                         stage_name  \\\n",
       "0                                Создание кандидата   \n",
       "1                                Создание кандидата   \n",
       "2                                Создание кандидата   \n",
       "3                                Создание кандидата   \n",
       "4                                Создание кандидата   \n",
       "...                                             ...   \n",
       "7211284                    Интервью с руководителем   \n",
       "7211285                                  Оформление   \n",
       "7211286                                  Оформление   \n",
       "7211287  Назначение времени на оформление/медосмотр   \n",
       "7211288                                    Ожидание   \n",
       "\n",
       "                                             activity_name result_name  \\\n",
       "0                                                      NaN         NaN   \n",
       "1                                                      NaN         NaN   \n",
       "2                                                      NaN         NaN   \n",
       "3                                                      NaN         NaN   \n",
       "4                                                      NaN         NaN   \n",
       "...                                                    ...         ...   \n",
       "7211284         Узнать результаты интервью с руководителем         NaN   \n",
       "7211285                           Узнать результаты приема         NaN   \n",
       "7211286                           Узнать результаты приема         NaN   \n",
       "7211287  Назначить время на оформление/медосмотр (недоз...         NaN   \n",
       "7211288                                  Вернуть в воронку         NaN   \n",
       "\n",
       "           position_name  is_active_action  is_open_action  \n",
       "0        Продавец-кассир              True           False  \n",
       "1        Продавец-кассир              True           False  \n",
       "2        Продавец-кассир              True           False  \n",
       "3        Продавец-кассир              True           False  \n",
       "4        Продавец-кассир              True           False  \n",
       "...                  ...               ...             ...  \n",
       "7211284  Продавец-кассир              True            True  \n",
       "7211285  Продавец-кассир              True            True  \n",
       "7211286  Продавец-кассир              True            True  \n",
       "7211287  Продавец-кассир              True            True  \n",
       "7211288  Продавец-кассир              True            True  \n",
       "\n",
       "[5587055 rows x 11 columns]"
      ]
     },
     "execution_count": 4,
     "metadata": {},
     "output_type": "execute_result"
    }
   ],
   "source": [
    "le_masque = data['position_name'] == 'Продавец-кассир'\n",
    "le_masque &= data['is_active_action'] == True\n",
    "df_seller = data[le_masque]\n",
    "df_seller"
   ]
  },
  {
   "cell_type": "code",
   "execution_count": 11,
   "id": "b1668783",
   "metadata": {},
   "outputs": [
    {
     "data": {
      "text/plain": [
       "Index(['id_applicant', 'id_partner', 'id_log', 'department_id', 'action_date',\n",
       "       'stage_name', 'activity_name', 'result_name', 'position_name',\n",
       "       'is_active_action', 'is_open_action'],\n",
       "      dtype='object')"
      ]
     },
     "execution_count": 11,
     "metadata": {},
     "output_type": "execute_result"
    }
   ],
   "source": [
    "df_seller.columns #названия колонок"
   ]
  },
  {
   "cell_type": "markdown",
   "id": "7b2904bc",
   "metadata": {},
   "source": [
    "Предполагаю, что колонки отражают следующую информацию:\n",
    "###### 1) идентификатор кандидата;\n",
    "###### 2) идентификатор партнера (думаю, речь о компании, в которую мы побираем кандидата - 5-ка и т.д.);\n",
    "###### 3) идентификатор чего-то (для одного кандидата один такой индификатор вне зависимости от стадии/активности);\n",
    "###### 4) дата и время действия со стороны компании; \n",
    "###### 5) наименование стадии процесса найма;\n",
    "###### 6) наименование активности внутри этой стадии;\n",
    "###### 7) результат активности п.6;\n",
    "###### 8) наименование должности (можем удалить, оставили только продавцов-кассиром по условию);\n",
    "###### 9) флаг актуальности действия (можем удалить, оставили только актуальные записи)\n",
    "###### 10) открыто ли действие на данный момент    "
   ]
  },
  {
   "cell_type": "code",
   "execution_count": 15,
   "id": "6f48e020",
   "metadata": {
    "scrolled": true
   },
   "outputs": [
    {
     "data": {
      "text/html": [
       "<div>\n",
       "<style scoped>\n",
       "    .dataframe tbody tr th:only-of-type {\n",
       "        vertical-align: middle;\n",
       "    }\n",
       "\n",
       "    .dataframe tbody tr th {\n",
       "        vertical-align: top;\n",
       "    }\n",
       "\n",
       "    .dataframe thead th {\n",
       "        text-align: right;\n",
       "    }\n",
       "</style>\n",
       "<table border=\"1\" class=\"dataframe\">\n",
       "  <thead>\n",
       "    <tr style=\"text-align: right;\">\n",
       "      <th></th>\n",
       "      <th>id_applicant</th>\n",
       "      <th>id_partner</th>\n",
       "      <th>id_log</th>\n",
       "      <th>department_id</th>\n",
       "      <th>action_date</th>\n",
       "      <th>stage_name</th>\n",
       "      <th>activity_name</th>\n",
       "      <th>result_name</th>\n",
       "      <th>is_open_action</th>\n",
       "    </tr>\n",
       "  </thead>\n",
       "  <tbody>\n",
       "    <tr>\n",
       "      <th>1090921</th>\n",
       "      <td>2196745</td>\n",
       "      <td>2281753</td>\n",
       "      <td>-1</td>\n",
       "      <td>25165</td>\n",
       "      <td>2018-01-05 06:20:57.274499+00</td>\n",
       "      <td>Создание кандидата</td>\n",
       "      <td>NaN</td>\n",
       "      <td>NaN</td>\n",
       "      <td>False</td>\n",
       "    </tr>\n",
       "    <tr>\n",
       "      <th>6407648</th>\n",
       "      <td>2196745</td>\n",
       "      <td>2281753</td>\n",
       "      <td>10890124</td>\n",
       "      <td>25165</td>\n",
       "      <td>2018-01-05 06:21:16.616158+00</td>\n",
       "      <td>Интервью с руководителем</td>\n",
       "      <td>Назначить интервью с руководителем</td>\n",
       "      <td>Встреча назначена</td>\n",
       "      <td>False</td>\n",
       "    </tr>\n",
       "    <tr>\n",
       "      <th>6407647</th>\n",
       "      <td>2196745</td>\n",
       "      <td>2281753</td>\n",
       "      <td>10890125</td>\n",
       "      <td>25165</td>\n",
       "      <td>2018-01-05 06:21:17.145886+00</td>\n",
       "      <td>Интервью с руководителем</td>\n",
       "      <td>Узнать результаты интервью с руководителем</td>\n",
       "      <td>Подходит</td>\n",
       "      <td>False</td>\n",
       "    </tr>\n",
       "    <tr>\n",
       "      <th>6407646</th>\n",
       "      <td>2196745</td>\n",
       "      <td>2281753</td>\n",
       "      <td>10890126</td>\n",
       "      <td>25165</td>\n",
       "      <td>2018-01-05 06:21:17.616696+00</td>\n",
       "      <td>СБ</td>\n",
       "      <td>Подготовить анкету кандидата</td>\n",
       "      <td>Подготовлена</td>\n",
       "      <td>False</td>\n",
       "    </tr>\n",
       "    <tr>\n",
       "      <th>6407642</th>\n",
       "      <td>2196745</td>\n",
       "      <td>2281753</td>\n",
       "      <td>11280536</td>\n",
       "      <td>25165</td>\n",
       "      <td>2018-01-29 15:43:47.354909+00</td>\n",
       "      <td>Обработка</td>\n",
       "      <td>Провести первичную обработку</td>\n",
       "      <td>Подходит</td>\n",
       "      <td>False</td>\n",
       "    </tr>\n",
       "    <tr>\n",
       "      <th>...</th>\n",
       "      <td>...</td>\n",
       "      <td>...</td>\n",
       "      <td>...</td>\n",
       "      <td>...</td>\n",
       "      <td>...</td>\n",
       "      <td>...</td>\n",
       "      <td>...</td>\n",
       "      <td>...</td>\n",
       "      <td>...</td>\n",
       "    </tr>\n",
       "    <tr>\n",
       "      <th>3376830</th>\n",
       "      <td>3330735</td>\n",
       "      <td>1970383</td>\n",
       "      <td>17153319</td>\n",
       "      <td>32843</td>\n",
       "      <td>2018-12-29 19:25:47.832687+00</td>\n",
       "      <td>Обработка</td>\n",
       "      <td>Проверка формы обращения</td>\n",
       "      <td>Не резерв</td>\n",
       "      <td>False</td>\n",
       "    </tr>\n",
       "    <tr>\n",
       "      <th>3376829</th>\n",
       "      <td>3330735</td>\n",
       "      <td>1970383</td>\n",
       "      <td>17153320</td>\n",
       "      <td>32843</td>\n",
       "      <td>2018-12-29 19:25:58.002618+00</td>\n",
       "      <td>Интервью с руководителем</td>\n",
       "      <td>Назначить интервью с руководителем</td>\n",
       "      <td>Встреча назначена</td>\n",
       "      <td>False</td>\n",
       "    </tr>\n",
       "    <tr>\n",
       "      <th>3376828</th>\n",
       "      <td>3330735</td>\n",
       "      <td>1970383</td>\n",
       "      <td>17231319</td>\n",
       "      <td>32843</td>\n",
       "      <td>2019-01-11 12:26:29.466622+00</td>\n",
       "      <td>Интервью с руководителем</td>\n",
       "      <td>Узнать результаты интервью с руководителем</td>\n",
       "      <td>Нет обратной связи</td>\n",
       "      <td>False</td>\n",
       "    </tr>\n",
       "    <tr>\n",
       "      <th>3376827</th>\n",
       "      <td>3330735</td>\n",
       "      <td>1970383</td>\n",
       "      <td>17279875</td>\n",
       "      <td>32843</td>\n",
       "      <td>2019-01-15 09:19:37.355139+00</td>\n",
       "      <td>Интервью с руководителем</td>\n",
       "      <td>Узнать результаты интервью с руководителем</td>\n",
       "      <td>Нет обратной связи</td>\n",
       "      <td>False</td>\n",
       "    </tr>\n",
       "    <tr>\n",
       "      <th>3376824</th>\n",
       "      <td>3330735</td>\n",
       "      <td>1970383</td>\n",
       "      <td>17394979</td>\n",
       "      <td>32843</td>\n",
       "      <td>2019-01-21 09:51:38+00</td>\n",
       "      <td>Смена вакансии</td>\n",
       "      <td>NaN</td>\n",
       "      <td>NaN</td>\n",
       "      <td>False</td>\n",
       "    </tr>\n",
       "  </tbody>\n",
       "</table>\n",
       "<p>5587055 rows × 9 columns</p>\n",
       "</div>"
      ],
      "text/plain": [
       "         id_applicant  id_partner    id_log  department_id  \\\n",
       "1090921       2196745     2281753        -1          25165   \n",
       "6407648       2196745     2281753  10890124          25165   \n",
       "6407647       2196745     2281753  10890125          25165   \n",
       "6407646       2196745     2281753  10890126          25165   \n",
       "6407642       2196745     2281753  11280536          25165   \n",
       "...               ...         ...       ...            ...   \n",
       "3376830       3330735     1970383  17153319          32843   \n",
       "3376829       3330735     1970383  17153320          32843   \n",
       "3376828       3330735     1970383  17231319          32843   \n",
       "3376827       3330735     1970383  17279875          32843   \n",
       "3376824       3330735     1970383  17394979          32843   \n",
       "\n",
       "                           action_date                stage_name  \\\n",
       "1090921  2018-01-05 06:20:57.274499+00        Создание кандидата   \n",
       "6407648  2018-01-05 06:21:16.616158+00  Интервью с руководителем   \n",
       "6407647  2018-01-05 06:21:17.145886+00  Интервью с руководителем   \n",
       "6407646  2018-01-05 06:21:17.616696+00                        СБ   \n",
       "6407642  2018-01-29 15:43:47.354909+00                 Обработка   \n",
       "...                                ...                       ...   \n",
       "3376830  2018-12-29 19:25:47.832687+00                 Обработка   \n",
       "3376829  2018-12-29 19:25:58.002618+00  Интервью с руководителем   \n",
       "3376828  2019-01-11 12:26:29.466622+00  Интервью с руководителем   \n",
       "3376827  2019-01-15 09:19:37.355139+00  Интервью с руководителем   \n",
       "3376824         2019-01-21 09:51:38+00            Смена вакансии   \n",
       "\n",
       "                                      activity_name         result_name  \\\n",
       "1090921                                         NaN                 NaN   \n",
       "6407648          Назначить интервью с руководителем   Встреча назначена   \n",
       "6407647  Узнать результаты интервью с руководителем            Подходит   \n",
       "6407646                Подготовить анкету кандидата        Подготовлена   \n",
       "6407642                Провести первичную обработку            Подходит   \n",
       "...                                             ...                 ...   \n",
       "3376830                    Проверка формы обращения           Не резерв   \n",
       "3376829          Назначить интервью с руководителем   Встреча назначена   \n",
       "3376828  Узнать результаты интервью с руководителем  Нет обратной связи   \n",
       "3376827  Узнать результаты интервью с руководителем  Нет обратной связи   \n",
       "3376824                                         NaN                 NaN   \n",
       "\n",
       "         is_open_action  \n",
       "1090921           False  \n",
       "6407648           False  \n",
       "6407647           False  \n",
       "6407646           False  \n",
       "6407642           False  \n",
       "...                 ...  \n",
       "3376830           False  \n",
       "3376829           False  \n",
       "3376828           False  \n",
       "3376827           False  \n",
       "3376824           False  \n",
       "\n",
       "[5587055 rows x 9 columns]"
      ]
     },
     "execution_count": 15,
     "metadata": {},
     "output_type": "execute_result"
    }
   ],
   "source": [
    "sorted_df = df_seller.sort_values(by = ['id_applicant', 'action_date']) #отсортируем данные по кандидату и дате действия \n",
    "sorted_df = sorted_df.drop(['position_name', 'is_active_action'], axis =1)\n",
    "sorted_df"
   ]
  },
  {
   "cell_type": "code",
   "execution_count": 18,
   "id": "575bc1df",
   "metadata": {},
   "outputs": [
    {
     "data": {
      "text/plain": [
       "array(['Создание кандидата', 'Интервью с руководителем', 'СБ',\n",
       "       'Обработка', 'Назначение времени на оформление/медосмотр',\n",
       "       'Оформление', 'Смена вакансии', 'Выход на работу', 'Отказался',\n",
       "       'Резерв', 'Ожидание', 'Не прошел СБ', 'Мы отказали',\n",
       "       'Черный список', 'Кадровый резерв'], dtype=object)"
      ]
     },
     "execution_count": 18,
     "metadata": {},
     "output_type": "execute_result"
    }
   ],
   "source": [
    "sorted_df['stage_name'].unique() # уникальные стадии найма"
   ]
  },
  {
   "cell_type": "markdown",
   "id": "f787ca41",
   "metadata": {},
   "source": [
    "Для каждой стадии хочу посмотреть активности и их результаты "
   ]
  },
  {
   "cell_type": "markdown",
   "id": "30217cd7",
   "metadata": {},
   "source": [
    "1) Стадия 'Создание кандидата'"
   ]
  },
  {
   "cell_type": "code",
   "execution_count": 21,
   "id": "b646bd71",
   "metadata": {},
   "outputs": [
    {
     "data": {
      "text/plain": [
       "array([nan], dtype=object)"
      ]
     },
     "execution_count": 21,
     "metadata": {},
     "output_type": "execute_result"
    }
   ],
   "source": [
    "le_masque = sorted_df['stage_name'] == 'Создание кандидата'\n",
    "df_create = sorted_df[le_masque]\n",
    "df_create['activity_name'].unique()"
   ]
  },
  {
   "cell_type": "markdown",
   "id": "37b7028f",
   "metadata": {},
   "source": [
    "2) Стадия 'Интервью с руководителем'"
   ]
  },
  {
   "cell_type": "code",
   "execution_count": 22,
   "id": "44432fd5",
   "metadata": {},
   "outputs": [
    {
     "data": {
      "text/plain": [
       "array(['Назначить интервью с руководителем',\n",
       "       'Узнать результаты интервью с руководителем',\n",
       "       'Подготовить анкету кандидата'], dtype=object)"
      ]
     },
     "execution_count": 22,
     "metadata": {},
     "output_type": "execute_result"
    }
   ],
   "source": [
    "le_masque = sorted_df['stage_name'] == 'Интервью с руководителем'\n",
    "df_inter = sorted_df[le_masque]\n",
    "df_inter['activity_name'].unique()"
   ]
  },
  {
   "cell_type": "code",
   "execution_count": 24,
   "id": "05d0bbd8",
   "metadata": {},
   "outputs": [
    {
     "data": {
      "text/plain": [
       "array(['Встреча назначена', 'Резерв', 'Отказ кандидата',\n",
       "       'Нет обратной связи', 'Отказ руководителя', 'Подходит', nan,\n",
       "       'Перенос звонка', 'Ожидание', 'Недозвон', 'Перенос кандидата',\n",
       "       'Интервью с руководителем', 'Не подходит', 'Обработка', 'Принят'],\n",
       "      dtype=object)"
      ]
     },
     "execution_count": 24,
     "metadata": {},
     "output_type": "execute_result"
    }
   ],
   "source": [
    "le_masque = sorted_df['stage_name'] == 'Интервью с руководителем'\n",
    "le_masque &= sorted_df['activity_name'] == 'Назначить интервью с руководителем'\n",
    "df_inter_2 = sorted_df[le_masque]\n",
    "df_inter_2['result_name'].unique()"
   ]
  },
  {
   "cell_type": "code",
   "execution_count": 25,
   "id": "145fdf32",
   "metadata": {},
   "outputs": [
    {
     "data": {
      "text/plain": [
       "array(['Подходит', 'Нет обратной связи', 'Отказ кандидата', 'Резерв',\n",
       "       'Перенос кандидата', 'Не подходит', 'Встреча назначена',\n",
       "       'Перенос руководителя', 'Недозвон', nan, 'Ожидание',\n",
       "       'Перенос звонка', 'Интервью с руководителем', 'Черный список'],\n",
       "      dtype=object)"
      ]
     },
     "execution_count": 25,
     "metadata": {},
     "output_type": "execute_result"
    }
   ],
   "source": [
    "le_masque = sorted_df['stage_name'] == 'Интервью с руководителем'\n",
    "le_masque &= sorted_df['activity_name'] == 'Узнать результаты интервью с руководителем'\n",
    "df_inter_3 = sorted_df[le_masque]\n",
    "df_inter_3['result_name'].unique()"
   ]
  },
  {
   "cell_type": "code",
   "execution_count": 26,
   "id": "bd339794",
   "metadata": {},
   "outputs": [
    {
     "data": {
      "text/plain": [
       "array(['Подходит'], dtype=object)"
      ]
     },
     "execution_count": 26,
     "metadata": {},
     "output_type": "execute_result"
    }
   ],
   "source": [
    "le_masque = sorted_df['stage_name'] == 'Интервью с руководителем'\n",
    "le_masque &= sorted_df['activity_name'] == 'Подготовить анкету кандидата'\n",
    "df_inter_4 = sorted_df[le_masque]\n",
    "df_inter_4['result_name'].unique()"
   ]
  },
  {
   "cell_type": "markdown",
   "id": "0df7d95b",
   "metadata": {},
   "source": [
    "3) Стадия 'СБ' -- служба безопасности"
   ]
  },
  {
   "cell_type": "code",
   "execution_count": 28,
   "id": "4e29275c",
   "metadata": {},
   "outputs": [
    {
     "data": {
      "text/plain": [
       "array(['Подготовить анкету кандидата', 'Узнать результаты СБ',\n",
       "       'Получить согласование повторного приема и отправить в СБ',\n",
       "       'Проверка формы обращения'], dtype=object)"
      ]
     },
     "execution_count": 28,
     "metadata": {},
     "output_type": "execute_result"
    }
   ],
   "source": [
    "le_masque = sorted_df['stage_name'] == 'СБ'\n",
    "df_sb = sorted_df[le_masque]\n",
    "df_sb['activity_name'].unique()"
   ]
  },
  {
   "cell_type": "code",
   "execution_count": 29,
   "id": "ed3a3f96",
   "metadata": {},
   "outputs": [
    {
     "data": {
      "text/plain": [
       "array(['Подготовлена', 'Отказ кандидата', 'Не подготовлена', 'Подходит',\n",
       "       'Резерв', 'Встреча назначена', nan, 'СБ', 'Ожидание',\n",
       "       'Нет обратной связи', 'Данные не предоставлены'], dtype=object)"
      ]
     },
     "execution_count": 29,
     "metadata": {},
     "output_type": "execute_result"
    }
   ],
   "source": [
    "le_masque = sorted_df['stage_name'] == 'СБ'\n",
    "le_masque &= sorted_df['activity_name'] == 'Подготовить анкету кандидата'\n",
    "df_sb_2 = sorted_df[le_masque]\n",
    "df_sb_2['result_name'].unique()"
   ]
  },
  {
   "cell_type": "code",
   "execution_count": 30,
   "id": "3d0e1852",
   "metadata": {},
   "outputs": [
    {
     "data": {
      "text/plain": [
       "array(['Подходит', 'Не подходит', 'Нет обратной связи',\n",
       "       'Уточнение данных', 'Согласование повторного приема',\n",
       "       'Подготовлена', 'Резерв', 'Встреча назначена', nan, 'Получено',\n",
       "       'Недозвон', 'Перенос кандидата', 'Отказ кандидата', 'Ожидание',\n",
       "       'Черный список'], dtype=object)"
      ]
     },
     "execution_count": 30,
     "metadata": {},
     "output_type": "execute_result"
    }
   ],
   "source": [
    "le_masque = sorted_df['stage_name'] == 'СБ'\n",
    "le_masque &= sorted_df['activity_name'] == 'Узнать результаты СБ'\n",
    "df_sb_3 = sorted_df[le_masque]\n",
    "df_sb_3['result_name'].unique()"
   ]
  },
  {
   "cell_type": "code",
   "execution_count": 31,
   "id": "5717b019",
   "metadata": {},
   "outputs": [
    {
     "data": {
      "text/plain": [
       "array(['Не получено', 'Получено', 'Подготовлена', nan], dtype=object)"
      ]
     },
     "execution_count": 31,
     "metadata": {},
     "output_type": "execute_result"
    }
   ],
   "source": [
    "le_masque = sorted_df['stage_name'] == 'СБ'\n",
    "le_masque &= sorted_df['activity_name'] == 'Получить согласование повторного приема и отправить в СБ'\n",
    "df_sb_4 = sorted_df[le_masque]\n",
    "df_sb_4['result_name'].unique()"
   ]
  },
  {
   "cell_type": "code",
   "execution_count": 32,
   "id": "8146b23a",
   "metadata": {},
   "outputs": [
    {
     "data": {
      "text/plain": [
       "array(['Не резерв', 'Подготовлена', 'Кадровый резерв'], dtype=object)"
      ]
     },
     "execution_count": 32,
     "metadata": {},
     "output_type": "execute_result"
    }
   ],
   "source": [
    "le_masque = sorted_df['stage_name'] == 'СБ'\n",
    "le_masque &= sorted_df['activity_name'] == 'Проверка формы обращения'\n",
    "df_sb_5 = sorted_df[le_masque]\n",
    "df_sb_5['result_name'].unique()"
   ]
  },
  {
   "cell_type": "markdown",
   "id": "915ddd11",
   "metadata": {},
   "source": [
    "4) Стадия 'Обработка'"
   ]
  },
  {
   "cell_type": "code",
   "execution_count": 33,
   "id": "18805bb7",
   "metadata": {},
   "outputs": [
    {
     "data": {
      "text/plain": [
       "array(['Провести первичную обработку', 'Проверка формы обращения', nan,\n",
       "       'Проверка источника', 'Узнать результаты медосмотра',\n",
       "       'Узнать результаты СБ',\n",
       "       'Назначить время на оформление/медосмотр (недозвон)'], dtype=object)"
      ]
     },
     "execution_count": 33,
     "metadata": {},
     "output_type": "execute_result"
    }
   ],
   "source": [
    "le_masque = sorted_df['stage_name'] == 'Обработка'\n",
    "df_ob = sorted_df[le_masque]\n",
    "df_ob['activity_name'].unique()"
   ]
  },
  {
   "cell_type": "code",
   "execution_count": 34,
   "id": "5f63fed0",
   "metadata": {},
   "outputs": [
    {
     "data": {
      "text/plain": [
       "array(['Подходит', 'Недозвон', 'Отказ кандидата', 'Не подходит', 'Резерв',\n",
       "       'Перенос звонка', 'Ожидание', nan, 'Встреча назначена',\n",
       "       'Обработка', 'Интервью с руководителем',\n",
       "       'Назначить время на оформление/медосмотр', 'Нет обратной связи',\n",
       "       'Принят'], dtype=object)"
      ]
     },
     "execution_count": 34,
     "metadata": {},
     "output_type": "execute_result"
    }
   ],
   "source": [
    "le_masque = sorted_df['stage_name'] == 'Обработка'\n",
    "le_masque &= sorted_df['activity_name'] == 'Провести первичную обработку'\n",
    "df_ob_2 = sorted_df[le_masque]\n",
    "df_ob_2['result_name'].unique()"
   ]
  },
  {
   "cell_type": "code",
   "execution_count": 35,
   "id": "0e8f3020",
   "metadata": {},
   "outputs": [
    {
     "data": {
      "text/plain": [
       "array(['Не резерв', 'Подходит', 'Кадровый резерв'], dtype=object)"
      ]
     },
     "execution_count": 35,
     "metadata": {},
     "output_type": "execute_result"
    }
   ],
   "source": [
    "le_masque = sorted_df['stage_name'] == 'Обработка'\n",
    "le_masque &= sorted_df['activity_name'] == 'Проверка формы обращения'\n",
    "df_ob_3 = sorted_df[le_masque]\n",
    "df_ob_3['result_name'].unique()"
   ]
  },
  {
   "cell_type": "code",
   "execution_count": 36,
   "id": "65996721",
   "metadata": {},
   "outputs": [
    {
     "data": {
      "text/plain": [
       "array(['Источник не Яндекс Цифра', 'Источник Яндекс Цифра', 'Подходит',\n",
       "       nan], dtype=object)"
      ]
     },
     "execution_count": 36,
     "metadata": {},
     "output_type": "execute_result"
    }
   ],
   "source": [
    "le_masque = sorted_df['stage_name'] == 'Обработка'\n",
    "le_masque &= sorted_df['activity_name'] == 'Проверка источника'\n",
    "df_ob_4 = sorted_df[le_masque]\n",
    "df_ob_4['result_name'].unique()"
   ]
  },
  {
   "cell_type": "code",
   "execution_count": 37,
   "id": "9aad9a09",
   "metadata": {},
   "outputs": [
    {
     "data": {
      "text/plain": [
       "array(['Недозвон'], dtype=object)"
      ]
     },
     "execution_count": 37,
     "metadata": {},
     "output_type": "execute_result"
    }
   ],
   "source": [
    "le_masque = sorted_df['stage_name'] == 'Обработка'\n",
    "le_masque &= sorted_df['activity_name'] == 'Узнать результаты медосмотра'\n",
    "df_ob_5 = sorted_df[le_masque]\n",
    "df_ob_5['result_name'].unique()"
   ]
  },
  {
   "cell_type": "code",
   "execution_count": 38,
   "id": "6a76e96e",
   "metadata": {},
   "outputs": [
    {
     "data": {
      "text/plain": [
       "array(['Подходит'], dtype=object)"
      ]
     },
     "execution_count": 38,
     "metadata": {},
     "output_type": "execute_result"
    }
   ],
   "source": [
    "le_masque = sorted_df['stage_name'] == 'Обработка'\n",
    "le_masque &= sorted_df['activity_name'] == 'Узнать результаты СБ'\n",
    "df_ob_6 = sorted_df[le_masque]\n",
    "df_ob_6['result_name'].unique()"
   ]
  },
  {
   "cell_type": "code",
   "execution_count": 39,
   "id": "b8e76825",
   "metadata": {},
   "outputs": [
    {
     "data": {
      "text/plain": [
       "array(['Недозвон'], dtype=object)"
      ]
     },
     "execution_count": 39,
     "metadata": {},
     "output_type": "execute_result"
    }
   ],
   "source": [
    "le_masque = sorted_df['stage_name'] == 'Обработка'\n",
    "le_masque &= sorted_df['activity_name'] == 'Назначить время на оформление/медосмотр (недозвон)'\n",
    "df_ob_7 = sorted_df[le_masque]\n",
    "df_ob_7['result_name'].unique()"
   ]
  },
  {
   "cell_type": "markdown",
   "id": "e8188c2e",
   "metadata": {},
   "source": [
    "5) Стадия 'Назначение времени на оформление/медосмотр'"
   ]
  },
  {
   "cell_type": "code",
   "execution_count": 40,
   "id": "e15ca5cd",
   "metadata": {},
   "outputs": [
    {
     "data": {
      "text/plain": [
       "array(['Назначить время на оформление/медосмотр',\n",
       "       'Назначить время на оформление/медосмотр (недозвон)',\n",
       "       'Узнать результаты медосмотра'], dtype=object)"
      ]
     },
     "execution_count": 40,
     "metadata": {},
     "output_type": "execute_result"
    }
   ],
   "source": [
    "le_masque = sorted_df['stage_name'] == 'Назначение времени на оформление/медосмотр'\n",
    "df_ob = sorted_df[le_masque]\n",
    "df_ob['activity_name'].unique()"
   ]
  },
  {
   "cell_type": "code",
   "execution_count": 41,
   "id": "8adf743a",
   "metadata": {},
   "outputs": [
    {
     "data": {
      "text/plain": [
       "array(['Время назначено', 'Недозвон', 'Отказ кандидата',\n",
       "       'Направлен на медосмотр', 'Подходит', 'Резерв', 'Перенос звонка',\n",
       "       'Нет обратной связи', 'Ожидание', 'Не подходит',\n",
       "       'Назначить время на оформление/медосмотр', 'Принят',\n",
       "       'Встреча назначена', 'В ожидании', 'Оформление'], dtype=object)"
      ]
     },
     "execution_count": 41,
     "metadata": {},
     "output_type": "execute_result"
    }
   ],
   "source": [
    "le_masque = sorted_df['stage_name'] == 'Назначение времени на оформление/медосмотр'\n",
    "le_masque &= sorted_df['activity_name'] == 'Назначить время на оформление/медосмотр'\n",
    "df_of = sorted_df[le_masque]\n",
    "df_of['result_name'].unique()"
   ]
  },
  {
   "cell_type": "code",
   "execution_count": 42,
   "id": "651b084b",
   "metadata": {},
   "outputs": [
    {
     "data": {
      "text/plain": [
       "array(['Время назначено', 'Отказ кандидата', 'Направлен на медосмотр',\n",
       "       'Недозвон', 'Резерв', 'Перенос звонка', 'Подходит', 'Ожидание',\n",
       "       nan, 'СБ', 'Нет обратной связи', 'В ожидании', 'Черный список'],\n",
       "      dtype=object)"
      ]
     },
     "execution_count": 42,
     "metadata": {},
     "output_type": "execute_result"
    }
   ],
   "source": [
    "le_masque = sorted_df['stage_name'] == 'Назначение времени на оформление/медосмотр'\n",
    "le_masque &= sorted_df['activity_name'] == 'Назначить время на оформление/медосмотр (недозвон)'\n",
    "df_of_2 = sorted_df[le_masque]\n",
    "df_of_2['result_name'].unique()"
   ]
  },
  {
   "cell_type": "code",
   "execution_count": 43,
   "id": "9d865a10",
   "metadata": {},
   "outputs": [
    {
     "data": {
      "text/plain": [
       "array(['Подходит', 'Время назначено', 'Недозвон', 'Отказ кандидата',\n",
       "       'Резерв', 'Не подходит', 'Перенос звонка',\n",
       "       'Направлен на медосмотр', 'Ожидание', nan, 'В ожидании'],\n",
       "      dtype=object)"
      ]
     },
     "execution_count": 43,
     "metadata": {},
     "output_type": "execute_result"
    }
   ],
   "source": [
    "le_masque = sorted_df['stage_name'] == 'Назначение времени на оформление/медосмотр'\n",
    "le_masque &= sorted_df['activity_name'] == 'Узнать результаты медосмотра'\n",
    "df_of_3 = sorted_df[le_masque]\n",
    "df_of_3['result_name'].unique()"
   ]
  },
  {
   "cell_type": "markdown",
   "id": "0d458d32",
   "metadata": {},
   "source": [
    "6) Стадия 'Оформление'"
   ]
  },
  {
   "cell_type": "code",
   "execution_count": 44,
   "id": "da0526e4",
   "metadata": {},
   "outputs": [
    {
     "data": {
      "text/plain": [
       "array(['Узнать результаты приема',\n",
       "       'Назначить время на оформление/медосмотр',\n",
       "       'Назначить время на оформление/медосмотр (недозвон)',\n",
       "       'Назначить время на оформление', 'Узнать результаты медосмотра',\n",
       "       nan], dtype=object)"
      ]
     },
     "execution_count": 44,
     "metadata": {},
     "output_type": "execute_result"
    }
   ],
   "source": [
    "le_masque = sorted_df['stage_name'] == 'Оформление'\n",
    "df_off = sorted_df[le_masque]\n",
    "df_off['activity_name'].unique()"
   ]
  },
  {
   "cell_type": "code",
   "execution_count": 45,
   "id": "f2b6fa77",
   "metadata": {},
   "outputs": [
    {
     "data": {
      "text/plain": [
       "array(['В ожидании', 'Принят', 'Отказ кандидата', 'Резерв', 'Не принят',\n",
       "       nan, 'Недозвон', 'Подходит', 'Время назначено', 'Ожидание',\n",
       "       'Оформление', 'Нет обратной связи', 'Направлен на медосмотр',\n",
       "       'Встреча назначена', 'Черный список'], dtype=object)"
      ]
     },
     "execution_count": 45,
     "metadata": {},
     "output_type": "execute_result"
    }
   ],
   "source": [
    "le_masque = sorted_df['stage_name'] == 'Оформление'\n",
    "le_masque &= sorted_df['activity_name'] == 'Узнать результаты приема'\n",
    "df_off_2 = sorted_df[le_masque]\n",
    "df_off_2['result_name'].unique()"
   ]
  },
  {
   "cell_type": "code",
   "execution_count": 46,
   "id": "8b79454b",
   "metadata": {},
   "outputs": [
    {
     "data": {
      "text/plain": [
       "array(['Недозвон', 'Время назначено', 'Ожидание',\n",
       "       'Направлен на медосмотр', 'Отказ кандидата', 'Резерв', nan,\n",
       "       'Подходит', 'Не подходит', 'Встреча назначена', 'Перенос звонка'],\n",
       "      dtype=object)"
      ]
     },
     "execution_count": 46,
     "metadata": {},
     "output_type": "execute_result"
    }
   ],
   "source": [
    "le_masque = sorted_df['stage_name'] == 'Оформление'\n",
    "le_masque &= sorted_df['activity_name'] == 'Назначить время на оформление/медосмотр'\n",
    "df_off_3 = sorted_df[le_masque]\n",
    "df_off_3['result_name'].unique()"
   ]
  },
  {
   "cell_type": "code",
   "execution_count": 47,
   "id": "5fed4ff3",
   "metadata": {},
   "outputs": [
    {
     "data": {
      "text/plain": [
       "array(['Недозвон', 'Отказ кандидата', 'Время назначено', nan, 'Резерв',\n",
       "       'Ожидание'], dtype=object)"
      ]
     },
     "execution_count": 47,
     "metadata": {},
     "output_type": "execute_result"
    }
   ],
   "source": [
    "le_masque = sorted_df['stage_name'] == 'Оформление'\n",
    "le_masque &= sorted_df['activity_name'] == 'Назначить время на оформление/медосмотр (недозвон)'\n",
    "df_off_4 = sorted_df[le_masque]\n",
    "df_off_4['result_name'].unique()"
   ]
  },
  {
   "cell_type": "code",
   "execution_count": 48,
   "id": "b0cf02dd",
   "metadata": {},
   "outputs": [
    {
     "data": {
      "text/plain": [
       "array(['Время назначено'], dtype=object)"
      ]
     },
     "execution_count": 48,
     "metadata": {},
     "output_type": "execute_result"
    }
   ],
   "source": [
    "le_masque = sorted_df['stage_name'] == 'Оформление'\n",
    "le_masque &= sorted_df['activity_name'] == 'Назначить время на оформление'\n",
    "df_off_4 = sorted_df[le_masque]\n",
    "df_off_4['result_name'].unique()"
   ]
  },
  {
   "cell_type": "code",
   "execution_count": 49,
   "id": "836d4306",
   "metadata": {},
   "outputs": [
    {
     "data": {
      "text/plain": [
       "array(['Недозвон', 'Перенос звонка', 'Отказ кандидата', 'Подходит', nan,\n",
       "       'Резерв', 'Ожидание', 'Время назначено'], dtype=object)"
      ]
     },
     "execution_count": 49,
     "metadata": {},
     "output_type": "execute_result"
    }
   ],
   "source": [
    "le_masque = sorted_df['stage_name'] == 'Оформление'\n",
    "le_masque &= sorted_df['activity_name'] == 'Узнать результаты медосмотра'\n",
    "df_off_5 = sorted_df[le_masque]\n",
    "df_off_5['result_name'].unique()"
   ]
  },
  {
   "cell_type": "markdown",
   "id": "87b834ec",
   "metadata": {},
   "source": [
    "7) Стадия 'Смена вакансии'"
   ]
  },
  {
   "cell_type": "code",
   "execution_count": 51,
   "id": "c98f14f9",
   "metadata": {},
   "outputs": [
    {
     "data": {
      "text/plain": [
       "array([nan], dtype=object)"
      ]
     },
     "execution_count": 51,
     "metadata": {},
     "output_type": "execute_result"
    }
   ],
   "source": [
    "le_masque = sorted_df['stage_name'] == 'Смена вакансии'\n",
    "df_sm = sorted_df[le_masque]\n",
    "df_sm['activity_name'].unique()"
   ]
  },
  {
   "cell_type": "markdown",
   "id": "046a3fd7",
   "metadata": {},
   "source": [
    "8) Стадия 'Выход на работу'"
   ]
  },
  {
   "cell_type": "code",
   "execution_count": 52,
   "id": "d67657eb",
   "metadata": {},
   "outputs": [
    {
     "data": {
      "text/plain": [
       "array([nan, 'Проверить выход на работу', 'Узнать результаты приема'],\n",
       "      dtype=object)"
      ]
     },
     "execution_count": 52,
     "metadata": {},
     "output_type": "execute_result"
    }
   ],
   "source": [
    "le_masque = sorted_df['stage_name'] == 'Выход на работу'\n",
    "df_exit = sorted_df[le_masque]\n",
    "df_exit['activity_name'].unique()"
   ]
  },
  {
   "cell_type": "code",
   "execution_count": 53,
   "id": "822269ab",
   "metadata": {},
   "outputs": [
    {
     "data": {
      "text/plain": [
       "array(['Вышел'], dtype=object)"
      ]
     },
     "execution_count": 53,
     "metadata": {},
     "output_type": "execute_result"
    }
   ],
   "source": [
    "le_masque = sorted_df['stage_name'] == 'Выход на работу'\n",
    "le_masque &= sorted_df['activity_name'] == 'Проверить выход на работу'\n",
    "df_exit_2 = sorted_df[le_masque]\n",
    "df_exit_2['result_name'].unique()"
   ]
  },
  {
   "cell_type": "code",
   "execution_count": 54,
   "id": "65e678a9",
   "metadata": {},
   "outputs": [
    {
     "data": {
      "text/plain": [
       "array(['Принят'], dtype=object)"
      ]
     },
     "execution_count": 54,
     "metadata": {},
     "output_type": "execute_result"
    }
   ],
   "source": [
    "le_masque = sorted_df['stage_name'] == 'Выход на работу'\n",
    "le_masque &= sorted_df['activity_name'] == 'Узнать результаты приема'\n",
    "df_exit_3 = sorted_df[le_masque]\n",
    "df_exit_3['result_name'].unique()"
   ]
  },
  {
   "cell_type": "markdown",
   "id": "1b97b9b2",
   "metadata": {},
   "source": [
    "9) Стадия 'Отказался'"
   ]
  },
  {
   "cell_type": "code",
   "execution_count": 55,
   "id": "2887c02b",
   "metadata": {},
   "outputs": [
    {
     "data": {
      "text/plain": [
       "array([nan], dtype=object)"
      ]
     },
     "execution_count": 55,
     "metadata": {},
     "output_type": "execute_result"
    }
   ],
   "source": [
    "le_masque = sorted_df['stage_name'] == 'Отказался'\n",
    "df_otk = sorted_df[le_masque]\n",
    "df_otk['activity_name'].unique()"
   ]
  },
  {
   "cell_type": "markdown",
   "id": "ddefa258",
   "metadata": {},
   "source": [
    "10) Стадия 'Резерв'"
   ]
  },
  {
   "cell_type": "code",
   "execution_count": 59,
   "id": "12737839",
   "metadata": {},
   "outputs": [
    {
     "data": {
      "text/plain": [
       "array([nan], dtype=object)"
      ]
     },
     "execution_count": 59,
     "metadata": {},
     "output_type": "execute_result"
    }
   ],
   "source": [
    "le_masque = sorted_df['stage_name'] == 'Резерв'\n",
    "df_res = sorted_df[le_masque]\n",
    "df_res['activity_name'].unique()"
   ]
  },
  {
   "cell_type": "markdown",
   "id": "0c864cb7",
   "metadata": {},
   "source": [
    "11) Стадия 'Ожидание'"
   ]
  },
  {
   "cell_type": "code",
   "execution_count": 60,
   "id": "df75fcd9",
   "metadata": {},
   "outputs": [
    {
     "data": {
      "text/plain": [
       "array(['Вернуть в воронку', 'Назначить интервью с руководителем',\n",
       "       'Назначить время на оформление/медосмотр',\n",
       "       'Провести первичную обработку', 'Узнать результаты приема', nan],\n",
       "      dtype=object)"
      ]
     },
     "execution_count": 60,
     "metadata": {},
     "output_type": "execute_result"
    }
   ],
   "source": [
    "le_masque = sorted_df['stage_name'] == 'Ожидание'\n",
    "df_wait = sorted_df[le_masque]\n",
    "df_wait['activity_name'].unique()"
   ]
  },
  {
   "cell_type": "code",
   "execution_count": 61,
   "id": "34a7fdf3",
   "metadata": {},
   "outputs": [
    {
     "data": {
      "text/plain": [
       "array(['Назначить время на оформление/медосмотр', nan,\n",
       "       'Интервью с руководителем', 'Оформление', 'Обработка', 'Подходит',\n",
       "       'СБ', 'Недозвон', 'Ожидание', 'Нет обратной связи', 'В ожидании',\n",
       "       'Время назначено', 'Не подходит'], dtype=object)"
      ]
     },
     "execution_count": 61,
     "metadata": {},
     "output_type": "execute_result"
    }
   ],
   "source": [
    "le_masque = sorted_df['stage_name'] == 'Ожидание'\n",
    "le_masque &= sorted_df['activity_name'] == 'Вернуть в воронку'\n",
    "df_wait_1 = sorted_df[le_masque]\n",
    "df_wait_1['result_name'].unique()"
   ]
  },
  {
   "cell_type": "code",
   "execution_count": 62,
   "id": "23aa2437",
   "metadata": {},
   "outputs": [
    {
     "data": {
      "text/plain": [
       "array(['Интервью с руководителем', 'Обработка'], dtype=object)"
      ]
     },
     "execution_count": 62,
     "metadata": {},
     "output_type": "execute_result"
    }
   ],
   "source": [
    "le_masque = sorted_df['stage_name'] == 'Ожидание'\n",
    "le_masque &= sorted_df['activity_name'] == 'Назначить интервью с руководителем'\n",
    "df_wait_2 = sorted_df[le_masque]\n",
    "df_wait_2['result_name'].unique()"
   ]
  },
  {
   "cell_type": "code",
   "execution_count": 63,
   "id": "a0d85c50",
   "metadata": {},
   "outputs": [
    {
     "data": {
      "text/plain": [
       "array(['Назначить время на оформление/медосмотр'], dtype=object)"
      ]
     },
     "execution_count": 63,
     "metadata": {},
     "output_type": "execute_result"
    }
   ],
   "source": [
    "le_masque = sorted_df['stage_name'] == 'Ожидание'\n",
    "le_masque &= sorted_df['activity_name'] == 'Назначить время на оформление/медосмотр'\n",
    "df_wait_3 = sorted_df[le_masque]\n",
    "df_wait_3['result_name'].unique()"
   ]
  },
  {
   "cell_type": "code",
   "execution_count": 64,
   "id": "0e02f3b1",
   "metadata": {},
   "outputs": [
    {
     "data": {
      "text/plain": [
       "array(['Обработка'], dtype=object)"
      ]
     },
     "execution_count": 64,
     "metadata": {},
     "output_type": "execute_result"
    }
   ],
   "source": [
    "le_masque = sorted_df['stage_name'] == 'Ожидание'\n",
    "le_masque &= sorted_df['activity_name'] == 'Провести первичную обработку'\n",
    "df_wait_4 = sorted_df[le_masque]\n",
    "df_wait_4['result_name'].unique()"
   ]
  },
  {
   "cell_type": "code",
   "execution_count": 65,
   "id": "589d40bf",
   "metadata": {},
   "outputs": [
    {
     "data": {
      "text/plain": [
       "array(['Оформление'], dtype=object)"
      ]
     },
     "execution_count": 65,
     "metadata": {},
     "output_type": "execute_result"
    }
   ],
   "source": [
    "le_masque = sorted_df['stage_name'] == 'Ожидание'\n",
    "le_masque &= sorted_df['activity_name'] == 'Узнать результаты приема'\n",
    "df_wait_5 = sorted_df[le_masque]\n",
    "df_wait_5['result_name'].unique()"
   ]
  },
  {
   "cell_type": "markdown",
   "id": "5a12fb71",
   "metadata": {},
   "source": [
    "12) Стадия 'Не прошел СБ'"
   ]
  },
  {
   "cell_type": "code",
   "execution_count": 66,
   "id": "b166890d",
   "metadata": {},
   "outputs": [
    {
     "data": {
      "text/plain": [
       "array([nan, 'Вывести из черного списка'], dtype=object)"
      ]
     },
     "execution_count": 66,
     "metadata": {},
     "output_type": "execute_result"
    }
   ],
   "source": [
    "le_masque = sorted_df['stage_name'] == 'Не прошел СБ'\n",
    "df_dont = sorted_df[le_masque]\n",
    "df_dont['activity_name'].unique()"
   ]
  },
  {
   "cell_type": "code",
   "execution_count": 67,
   "id": "ac0d24b1",
   "metadata": {},
   "outputs": [
    {
     "data": {
      "text/plain": [
       "array([nan, 'В белый список'], dtype=object)"
      ]
     },
     "execution_count": 67,
     "metadata": {},
     "output_type": "execute_result"
    }
   ],
   "source": [
    "le_masque = sorted_df['stage_name'] == 'Не прошел СБ'\n",
    "le_masque &= sorted_df['activity_name'] == 'Вывести из черного списка'\n",
    "df_dont_1 = sorted_df[le_masque]\n",
    "df_dont_1['result_name'].unique()"
   ]
  },
  {
   "cell_type": "markdown",
   "id": "8390ba80",
   "metadata": {},
   "source": [
    "13) Стадия 'Мы отказали'"
   ]
  },
  {
   "cell_type": "code",
   "execution_count": 70,
   "id": "ed12855d",
   "metadata": {},
   "outputs": [
    {
     "data": {
      "text/plain": [
       "array([nan], dtype=object)"
      ]
     },
     "execution_count": 70,
     "metadata": {},
     "output_type": "execute_result"
    }
   ],
   "source": [
    "le_masque = sorted_df['stage_name'] == 'Мы отказали'\n",
    "df_hz = sorted_df[le_masque]\n",
    "df_hz['activity_name'].unique()"
   ]
  },
  {
   "cell_type": "markdown",
   "id": "a85eaafb",
   "metadata": {},
   "source": [
    "14) Стадия 'Черный список'"
   ]
  },
  {
   "cell_type": "code",
   "execution_count": 71,
   "id": "f3339584",
   "metadata": {},
   "outputs": [
    {
     "data": {
      "text/plain": [
       "array(['Вывести из черного списка'], dtype=object)"
      ]
     },
     "execution_count": 71,
     "metadata": {},
     "output_type": "execute_result"
    }
   ],
   "source": [
    "le_masque = sorted_df['stage_name'] == 'Черный список'\n",
    "df_black = sorted_df[le_masque]\n",
    "df_black['activity_name'].unique()"
   ]
  },
  {
   "cell_type": "code",
   "execution_count": 72,
   "id": "94e931e2",
   "metadata": {},
   "outputs": [
    {
     "data": {
      "text/plain": [
       "array(['В белый список', nan], dtype=object)"
      ]
     },
     "execution_count": 72,
     "metadata": {},
     "output_type": "execute_result"
    }
   ],
   "source": [
    "le_masque = sorted_df['stage_name'] == 'Черный список'\n",
    "le_masque &= sorted_df['activity_name'] == 'Вывести из черного списка'\n",
    "df_black_1 = sorted_df[le_masque]\n",
    "df_black_1['result_name'].unique()"
   ]
  },
  {
   "cell_type": "markdown",
   "id": "c5210ee2",
   "metadata": {},
   "source": [
    "15) Стадия 'Кадровый резерв'"
   ]
  },
  {
   "cell_type": "code",
   "execution_count": 75,
   "id": "223508d0",
   "metadata": {},
   "outputs": [
    {
     "data": {
      "text/plain": [
       "array([nan], dtype=object)"
      ]
     },
     "execution_count": 75,
     "metadata": {},
     "output_type": "execute_result"
    }
   ],
   "source": [
    "le_masque = sorted_df['stage_name'] == 'Кадровый резерв'\n",
    "df_res = sorted_df[le_masque]\n",
    "df_res['activity_name'].unique()"
   ]
  }
 ],
 "metadata": {
  "kernelspec": {
   "display_name": "Python 3 (ipykernel)",
   "language": "python",
   "name": "python3"
  },
  "language_info": {
   "codemirror_mode": {
    "name": "ipython",
    "version": 3
   },
   "file_extension": ".py",
   "mimetype": "text/x-python",
   "name": "python",
   "nbconvert_exporter": "python",
   "pygments_lexer": "ipython3",
   "version": "3.9.7"
  }
 },
 "nbformat": 4,
 "nbformat_minor": 5
}

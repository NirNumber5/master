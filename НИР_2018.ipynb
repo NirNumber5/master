{
 "cells": [
  {
   "cell_type": "markdown",
   "id": "cb3c36d6",
   "metadata": {},
   "source": [
    "# Данные за 2018 год"
   ]
  },
  {
   "cell_type": "code",
   "execution_count": 30,
   "id": "2c05c6b6",
   "metadata": {
    "scrolled": true
   },
   "outputs": [
    {
     "name": "stderr",
     "output_type": "stream",
     "text": [
      "C:\\Users\\anna.nazarova\\Anaconda3\\lib\\site-packages\\IPython\\core\\interactiveshell.py:3444: DtypeWarning: Columns (6,7) have mixed types.Specify dtype option on import or set low_memory=False.\n",
      "  exec(code_obj, self.user_global_ns, self.user_ns)\n"
     ]
    },
    {
     "data": {
      "text/html": [
       "<div>\n",
       "<style scoped>\n",
       "    .dataframe tbody tr th:only-of-type {\n",
       "        vertical-align: middle;\n",
       "    }\n",
       "\n",
       "    .dataframe tbody tr th {\n",
       "        vertical-align: top;\n",
       "    }\n",
       "\n",
       "    .dataframe thead th {\n",
       "        text-align: right;\n",
       "    }\n",
       "</style>\n",
       "<table border=\"1\" class=\"dataframe\">\n",
       "  <thead>\n",
       "    <tr style=\"text-align: right;\">\n",
       "      <th></th>\n",
       "      <th>id_applicant</th>\n",
       "      <th>id_partner</th>\n",
       "      <th>id_log</th>\n",
       "      <th>department_id</th>\n",
       "      <th>action_date</th>\n",
       "      <th>stage_name</th>\n",
       "      <th>activity_name</th>\n",
       "      <th>result_name</th>\n",
       "      <th>position_name</th>\n",
       "      <th>is_active_action</th>\n",
       "      <th>is_open_action</th>\n",
       "    </tr>\n",
       "  </thead>\n",
       "  <tbody>\n",
       "    <tr>\n",
       "      <th>0</th>\n",
       "      <td>3080432</td>\n",
       "      <td>2883423</td>\n",
       "      <td>-1</td>\n",
       "      <td>9044</td>\n",
       "      <td>2018-10-16 18:11:10.00318+00</td>\n",
       "      <td>Создание кандидата</td>\n",
       "      <td>NaN</td>\n",
       "      <td>NaN</td>\n",
       "      <td>Продавец-кассир</td>\n",
       "      <td>True</td>\n",
       "      <td>False</td>\n",
       "    </tr>\n",
       "    <tr>\n",
       "      <th>1</th>\n",
       "      <td>2873477</td>\n",
       "      <td>2761171</td>\n",
       "      <td>-1</td>\n",
       "      <td>32087</td>\n",
       "      <td>2018-08-15 10:36:32.936322+00</td>\n",
       "      <td>Создание кандидата</td>\n",
       "      <td>NaN</td>\n",
       "      <td>NaN</td>\n",
       "      <td>Продавец-кассир</td>\n",
       "      <td>True</td>\n",
       "      <td>False</td>\n",
       "    </tr>\n",
       "    <tr>\n",
       "      <th>2</th>\n",
       "      <td>2896621</td>\n",
       "      <td>2776555</td>\n",
       "      <td>-1</td>\n",
       "      <td>32087</td>\n",
       "      <td>2018-08-22 14:09:27.083354+00</td>\n",
       "      <td>Создание кандидата</td>\n",
       "      <td>NaN</td>\n",
       "      <td>NaN</td>\n",
       "      <td>Продавец-кассир</td>\n",
       "      <td>True</td>\n",
       "      <td>False</td>\n",
       "    </tr>\n",
       "    <tr>\n",
       "      <th>3</th>\n",
       "      <td>2906437</td>\n",
       "      <td>2782282</td>\n",
       "      <td>-1</td>\n",
       "      <td>32087</td>\n",
       "      <td>2018-08-24 15:55:27.912704+00</td>\n",
       "      <td>Создание кандидата</td>\n",
       "      <td>NaN</td>\n",
       "      <td>NaN</td>\n",
       "      <td>Продавец-кассир</td>\n",
       "      <td>True</td>\n",
       "      <td>False</td>\n",
       "    </tr>\n",
       "    <tr>\n",
       "      <th>4</th>\n",
       "      <td>2965200</td>\n",
       "      <td>2816229</td>\n",
       "      <td>-1</td>\n",
       "      <td>32087</td>\n",
       "      <td>2018-09-11 15:00:49.242929+00</td>\n",
       "      <td>Создание кандидата</td>\n",
       "      <td>NaN</td>\n",
       "      <td>NaN</td>\n",
       "      <td>Продавец-кассир</td>\n",
       "      <td>True</td>\n",
       "      <td>False</td>\n",
       "    </tr>\n",
       "    <tr>\n",
       "      <th>...</th>\n",
       "      <td>...</td>\n",
       "      <td>...</td>\n",
       "      <td>...</td>\n",
       "      <td>...</td>\n",
       "      <td>...</td>\n",
       "      <td>...</td>\n",
       "      <td>...</td>\n",
       "      <td>...</td>\n",
       "      <td>...</td>\n",
       "      <td>...</td>\n",
       "      <td>...</td>\n",
       "    </tr>\n",
       "    <tr>\n",
       "      <th>7211284</th>\n",
       "      <td>3221933</td>\n",
       "      <td>2968967</td>\n",
       "      <td>-1</td>\n",
       "      <td>25660</td>\n",
       "      <td>2020-04-23 15:05:45.859137+00</td>\n",
       "      <td>Интервью с руководителем</td>\n",
       "      <td>Узнать результаты интервью с руководителем</td>\n",
       "      <td>NaN</td>\n",
       "      <td>Продавец-кассир</td>\n",
       "      <td>True</td>\n",
       "      <td>True</td>\n",
       "    </tr>\n",
       "    <tr>\n",
       "      <th>7211285</th>\n",
       "      <td>3007369</td>\n",
       "      <td>2840731</td>\n",
       "      <td>-1</td>\n",
       "      <td>10687</td>\n",
       "      <td>2020-04-23 15:05:45.859137+00</td>\n",
       "      <td>Оформление</td>\n",
       "      <td>Узнать результаты приема</td>\n",
       "      <td>NaN</td>\n",
       "      <td>Продавец-кассир</td>\n",
       "      <td>True</td>\n",
       "      <td>True</td>\n",
       "    </tr>\n",
       "    <tr>\n",
       "      <th>7211286</th>\n",
       "      <td>3230514</td>\n",
       "      <td>2974049</td>\n",
       "      <td>-1</td>\n",
       "      <td>10718</td>\n",
       "      <td>2020-04-23 15:05:45.859137+00</td>\n",
       "      <td>Оформление</td>\n",
       "      <td>Узнать результаты приема</td>\n",
       "      <td>NaN</td>\n",
       "      <td>Продавец-кассир</td>\n",
       "      <td>True</td>\n",
       "      <td>True</td>\n",
       "    </tr>\n",
       "    <tr>\n",
       "      <th>7211287</th>\n",
       "      <td>3117018</td>\n",
       "      <td>2905192</td>\n",
       "      <td>-1</td>\n",
       "      <td>10718</td>\n",
       "      <td>2020-04-23 15:05:45.859137+00</td>\n",
       "      <td>Назначение времени на оформление/медосмотр</td>\n",
       "      <td>Назначить время на оформление/медосмотр (недоз...</td>\n",
       "      <td>NaN</td>\n",
       "      <td>Продавец-кассир</td>\n",
       "      <td>True</td>\n",
       "      <td>True</td>\n",
       "    </tr>\n",
       "    <tr>\n",
       "      <th>7211288</th>\n",
       "      <td>2581506</td>\n",
       "      <td>2596820</td>\n",
       "      <td>-1</td>\n",
       "      <td>10718</td>\n",
       "      <td>2020-04-23 15:05:45.859137+00</td>\n",
       "      <td>Ожидание</td>\n",
       "      <td>Вернуть в воронку</td>\n",
       "      <td>NaN</td>\n",
       "      <td>Продавец-кассир</td>\n",
       "      <td>True</td>\n",
       "      <td>True</td>\n",
       "    </tr>\n",
       "  </tbody>\n",
       "</table>\n",
       "<p>7211289 rows × 11 columns</p>\n",
       "</div>"
      ],
      "text/plain": [
       "         id_applicant  id_partner  id_log  department_id  \\\n",
       "0             3080432     2883423      -1           9044   \n",
       "1             2873477     2761171      -1          32087   \n",
       "2             2896621     2776555      -1          32087   \n",
       "3             2906437     2782282      -1          32087   \n",
       "4             2965200     2816229      -1          32087   \n",
       "...               ...         ...     ...            ...   \n",
       "7211284       3221933     2968967      -1          25660   \n",
       "7211285       3007369     2840731      -1          10687   \n",
       "7211286       3230514     2974049      -1          10718   \n",
       "7211287       3117018     2905192      -1          10718   \n",
       "7211288       2581506     2596820      -1          10718   \n",
       "\n",
       "                           action_date  \\\n",
       "0         2018-10-16 18:11:10.00318+00   \n",
       "1        2018-08-15 10:36:32.936322+00   \n",
       "2        2018-08-22 14:09:27.083354+00   \n",
       "3        2018-08-24 15:55:27.912704+00   \n",
       "4        2018-09-11 15:00:49.242929+00   \n",
       "...                                ...   \n",
       "7211284  2020-04-23 15:05:45.859137+00   \n",
       "7211285  2020-04-23 15:05:45.859137+00   \n",
       "7211286  2020-04-23 15:05:45.859137+00   \n",
       "7211287  2020-04-23 15:05:45.859137+00   \n",
       "7211288  2020-04-23 15:05:45.859137+00   \n",
       "\n",
       "                                         stage_name  \\\n",
       "0                                Создание кандидата   \n",
       "1                                Создание кандидата   \n",
       "2                                Создание кандидата   \n",
       "3                                Создание кандидата   \n",
       "4                                Создание кандидата   \n",
       "...                                             ...   \n",
       "7211284                    Интервью с руководителем   \n",
       "7211285                                  Оформление   \n",
       "7211286                                  Оформление   \n",
       "7211287  Назначение времени на оформление/медосмотр   \n",
       "7211288                                    Ожидание   \n",
       "\n",
       "                                             activity_name result_name  \\\n",
       "0                                                      NaN         NaN   \n",
       "1                                                      NaN         NaN   \n",
       "2                                                      NaN         NaN   \n",
       "3                                                      NaN         NaN   \n",
       "4                                                      NaN         NaN   \n",
       "...                                                    ...         ...   \n",
       "7211284         Узнать результаты интервью с руководителем         NaN   \n",
       "7211285                           Узнать результаты приема         NaN   \n",
       "7211286                           Узнать результаты приема         NaN   \n",
       "7211287  Назначить время на оформление/медосмотр (недоз...         NaN   \n",
       "7211288                                  Вернуть в воронку         NaN   \n",
       "\n",
       "           position_name  is_active_action  is_open_action  \n",
       "0        Продавец-кассир              True           False  \n",
       "1        Продавец-кассир              True           False  \n",
       "2        Продавец-кассир              True           False  \n",
       "3        Продавец-кассир              True           False  \n",
       "4        Продавец-кассир              True           False  \n",
       "...                  ...               ...             ...  \n",
       "7211284  Продавец-кассир              True            True  \n",
       "7211285  Продавец-кассир              True            True  \n",
       "7211286  Продавец-кассир              True            True  \n",
       "7211287  Продавец-кассир              True            True  \n",
       "7211288  Продавец-кассир              True            True  \n",
       "\n",
       "[7211289 rows x 11 columns]"
      ]
     },
     "execution_count": 30,
     "metadata": {},
     "output_type": "execute_result"
    }
   ],
   "source": [
    "import pandas as pd\n",
    "import numpy as np\n",
    "\n",
    "# Загружаем наш датасет с исходными данными\n",
    "data = pd.read_csv(\"C:\\\\Users\\\\anna.nazarova\\\\Desktop\\\\Мага\\\\НИР\\\\with_closed_ations_as________select_app_2018_X5_STORES.csv\")\n",
    "data"
   ]
  },
  {
   "cell_type": "markdown",
   "id": "10eb92eb",
   "metadata": {},
   "source": [
    "Нас интересует найм только продавцов-кассиров. Кроме того, оставим для анализа только активные записи:"
   ]
  },
  {
   "cell_type": "code",
   "execution_count": 31,
   "id": "f28dac11",
   "metadata": {
    "scrolled": true
   },
   "outputs": [
    {
     "data": {
      "text/html": [
       "<div>\n",
       "<style scoped>\n",
       "    .dataframe tbody tr th:only-of-type {\n",
       "        vertical-align: middle;\n",
       "    }\n",
       "\n",
       "    .dataframe tbody tr th {\n",
       "        vertical-align: top;\n",
       "    }\n",
       "\n",
       "    .dataframe thead th {\n",
       "        text-align: right;\n",
       "    }\n",
       "</style>\n",
       "<table border=\"1\" class=\"dataframe\">\n",
       "  <thead>\n",
       "    <tr style=\"text-align: right;\">\n",
       "      <th></th>\n",
       "      <th>id_applicant</th>\n",
       "      <th>id_partner</th>\n",
       "      <th>id_log</th>\n",
       "      <th>department_id</th>\n",
       "      <th>action_date</th>\n",
       "      <th>stage_name</th>\n",
       "      <th>activity_name</th>\n",
       "      <th>result_name</th>\n",
       "      <th>position_name</th>\n",
       "      <th>is_active_action</th>\n",
       "      <th>is_open_action</th>\n",
       "    </tr>\n",
       "  </thead>\n",
       "  <tbody>\n",
       "    <tr>\n",
       "      <th>0</th>\n",
       "      <td>3080432</td>\n",
       "      <td>2883423</td>\n",
       "      <td>-1</td>\n",
       "      <td>9044</td>\n",
       "      <td>2018-10-16 18:11:10.00318+00</td>\n",
       "      <td>Создание кандидата</td>\n",
       "      <td>NaN</td>\n",
       "      <td>NaN</td>\n",
       "      <td>Продавец-кассир</td>\n",
       "      <td>True</td>\n",
       "      <td>False</td>\n",
       "    </tr>\n",
       "    <tr>\n",
       "      <th>1</th>\n",
       "      <td>2873477</td>\n",
       "      <td>2761171</td>\n",
       "      <td>-1</td>\n",
       "      <td>32087</td>\n",
       "      <td>2018-08-15 10:36:32.936322+00</td>\n",
       "      <td>Создание кандидата</td>\n",
       "      <td>NaN</td>\n",
       "      <td>NaN</td>\n",
       "      <td>Продавец-кассир</td>\n",
       "      <td>True</td>\n",
       "      <td>False</td>\n",
       "    </tr>\n",
       "    <tr>\n",
       "      <th>2</th>\n",
       "      <td>2896621</td>\n",
       "      <td>2776555</td>\n",
       "      <td>-1</td>\n",
       "      <td>32087</td>\n",
       "      <td>2018-08-22 14:09:27.083354+00</td>\n",
       "      <td>Создание кандидата</td>\n",
       "      <td>NaN</td>\n",
       "      <td>NaN</td>\n",
       "      <td>Продавец-кассир</td>\n",
       "      <td>True</td>\n",
       "      <td>False</td>\n",
       "    </tr>\n",
       "    <tr>\n",
       "      <th>3</th>\n",
       "      <td>2906437</td>\n",
       "      <td>2782282</td>\n",
       "      <td>-1</td>\n",
       "      <td>32087</td>\n",
       "      <td>2018-08-24 15:55:27.912704+00</td>\n",
       "      <td>Создание кандидата</td>\n",
       "      <td>NaN</td>\n",
       "      <td>NaN</td>\n",
       "      <td>Продавец-кассир</td>\n",
       "      <td>True</td>\n",
       "      <td>False</td>\n",
       "    </tr>\n",
       "    <tr>\n",
       "      <th>4</th>\n",
       "      <td>2965200</td>\n",
       "      <td>2816229</td>\n",
       "      <td>-1</td>\n",
       "      <td>32087</td>\n",
       "      <td>2018-09-11 15:00:49.242929+00</td>\n",
       "      <td>Создание кандидата</td>\n",
       "      <td>NaN</td>\n",
       "      <td>NaN</td>\n",
       "      <td>Продавец-кассир</td>\n",
       "      <td>True</td>\n",
       "      <td>False</td>\n",
       "    </tr>\n",
       "    <tr>\n",
       "      <th>...</th>\n",
       "      <td>...</td>\n",
       "      <td>...</td>\n",
       "      <td>...</td>\n",
       "      <td>...</td>\n",
       "      <td>...</td>\n",
       "      <td>...</td>\n",
       "      <td>...</td>\n",
       "      <td>...</td>\n",
       "      <td>...</td>\n",
       "      <td>...</td>\n",
       "      <td>...</td>\n",
       "    </tr>\n",
       "    <tr>\n",
       "      <th>7211284</th>\n",
       "      <td>3221933</td>\n",
       "      <td>2968967</td>\n",
       "      <td>-1</td>\n",
       "      <td>25660</td>\n",
       "      <td>2020-04-23 15:05:45.859137+00</td>\n",
       "      <td>Интервью с руководителем</td>\n",
       "      <td>Узнать результаты интервью с руководителем</td>\n",
       "      <td>NaN</td>\n",
       "      <td>Продавец-кассир</td>\n",
       "      <td>True</td>\n",
       "      <td>True</td>\n",
       "    </tr>\n",
       "    <tr>\n",
       "      <th>7211285</th>\n",
       "      <td>3007369</td>\n",
       "      <td>2840731</td>\n",
       "      <td>-1</td>\n",
       "      <td>10687</td>\n",
       "      <td>2020-04-23 15:05:45.859137+00</td>\n",
       "      <td>Оформление</td>\n",
       "      <td>Узнать результаты приема</td>\n",
       "      <td>NaN</td>\n",
       "      <td>Продавец-кассир</td>\n",
       "      <td>True</td>\n",
       "      <td>True</td>\n",
       "    </tr>\n",
       "    <tr>\n",
       "      <th>7211286</th>\n",
       "      <td>3230514</td>\n",
       "      <td>2974049</td>\n",
       "      <td>-1</td>\n",
       "      <td>10718</td>\n",
       "      <td>2020-04-23 15:05:45.859137+00</td>\n",
       "      <td>Оформление</td>\n",
       "      <td>Узнать результаты приема</td>\n",
       "      <td>NaN</td>\n",
       "      <td>Продавец-кассир</td>\n",
       "      <td>True</td>\n",
       "      <td>True</td>\n",
       "    </tr>\n",
       "    <tr>\n",
       "      <th>7211287</th>\n",
       "      <td>3117018</td>\n",
       "      <td>2905192</td>\n",
       "      <td>-1</td>\n",
       "      <td>10718</td>\n",
       "      <td>2020-04-23 15:05:45.859137+00</td>\n",
       "      <td>Назначение времени на оформление/медосмотр</td>\n",
       "      <td>Назначить время на оформление/медосмотр (недоз...</td>\n",
       "      <td>NaN</td>\n",
       "      <td>Продавец-кассир</td>\n",
       "      <td>True</td>\n",
       "      <td>True</td>\n",
       "    </tr>\n",
       "    <tr>\n",
       "      <th>7211288</th>\n",
       "      <td>2581506</td>\n",
       "      <td>2596820</td>\n",
       "      <td>-1</td>\n",
       "      <td>10718</td>\n",
       "      <td>2020-04-23 15:05:45.859137+00</td>\n",
       "      <td>Ожидание</td>\n",
       "      <td>Вернуть в воронку</td>\n",
       "      <td>NaN</td>\n",
       "      <td>Продавец-кассир</td>\n",
       "      <td>True</td>\n",
       "      <td>True</td>\n",
       "    </tr>\n",
       "  </tbody>\n",
       "</table>\n",
       "<p>5587055 rows × 11 columns</p>\n",
       "</div>"
      ],
      "text/plain": [
       "         id_applicant  id_partner  id_log  department_id  \\\n",
       "0             3080432     2883423      -1           9044   \n",
       "1             2873477     2761171      -1          32087   \n",
       "2             2896621     2776555      -1          32087   \n",
       "3             2906437     2782282      -1          32087   \n",
       "4             2965200     2816229      -1          32087   \n",
       "...               ...         ...     ...            ...   \n",
       "7211284       3221933     2968967      -1          25660   \n",
       "7211285       3007369     2840731      -1          10687   \n",
       "7211286       3230514     2974049      -1          10718   \n",
       "7211287       3117018     2905192      -1          10718   \n",
       "7211288       2581506     2596820      -1          10718   \n",
       "\n",
       "                           action_date  \\\n",
       "0         2018-10-16 18:11:10.00318+00   \n",
       "1        2018-08-15 10:36:32.936322+00   \n",
       "2        2018-08-22 14:09:27.083354+00   \n",
       "3        2018-08-24 15:55:27.912704+00   \n",
       "4        2018-09-11 15:00:49.242929+00   \n",
       "...                                ...   \n",
       "7211284  2020-04-23 15:05:45.859137+00   \n",
       "7211285  2020-04-23 15:05:45.859137+00   \n",
       "7211286  2020-04-23 15:05:45.859137+00   \n",
       "7211287  2020-04-23 15:05:45.859137+00   \n",
       "7211288  2020-04-23 15:05:45.859137+00   \n",
       "\n",
       "                                         stage_name  \\\n",
       "0                                Создание кандидата   \n",
       "1                                Создание кандидата   \n",
       "2                                Создание кандидата   \n",
       "3                                Создание кандидата   \n",
       "4                                Создание кандидата   \n",
       "...                                             ...   \n",
       "7211284                    Интервью с руководителем   \n",
       "7211285                                  Оформление   \n",
       "7211286                                  Оформление   \n",
       "7211287  Назначение времени на оформление/медосмотр   \n",
       "7211288                                    Ожидание   \n",
       "\n",
       "                                             activity_name result_name  \\\n",
       "0                                                      NaN         NaN   \n",
       "1                                                      NaN         NaN   \n",
       "2                                                      NaN         NaN   \n",
       "3                                                      NaN         NaN   \n",
       "4                                                      NaN         NaN   \n",
       "...                                                    ...         ...   \n",
       "7211284         Узнать результаты интервью с руководителем         NaN   \n",
       "7211285                           Узнать результаты приема         NaN   \n",
       "7211286                           Узнать результаты приема         NaN   \n",
       "7211287  Назначить время на оформление/медосмотр (недоз...         NaN   \n",
       "7211288                                  Вернуть в воронку         NaN   \n",
       "\n",
       "           position_name  is_active_action  is_open_action  \n",
       "0        Продавец-кассир              True           False  \n",
       "1        Продавец-кассир              True           False  \n",
       "2        Продавец-кассир              True           False  \n",
       "3        Продавец-кассир              True           False  \n",
       "4        Продавец-кассир              True           False  \n",
       "...                  ...               ...             ...  \n",
       "7211284  Продавец-кассир              True            True  \n",
       "7211285  Продавец-кассир              True            True  \n",
       "7211286  Продавец-кассир              True            True  \n",
       "7211287  Продавец-кассир              True            True  \n",
       "7211288  Продавец-кассир              True            True  \n",
       "\n",
       "[5587055 rows x 11 columns]"
      ]
     },
     "execution_count": 31,
     "metadata": {},
     "output_type": "execute_result"
    }
   ],
   "source": [
    "le_masque = data['position_name'] == 'Продавец-кассир'\n",
    "le_masque &= data['is_active_action'] == True\n",
    "df_seller = data[le_masque]\n",
    "df_seller"
   ]
  },
  {
   "cell_type": "code",
   "execution_count": 32,
   "id": "b1668783",
   "metadata": {},
   "outputs": [
    {
     "data": {
      "text/plain": [
       "Index(['id_applicant', 'id_partner', 'id_log', 'department_id', 'action_date',\n",
       "       'stage_name', 'activity_name', 'result_name', 'position_name',\n",
       "       'is_active_action', 'is_open_action'],\n",
       "      dtype='object')"
      ]
     },
     "execution_count": 32,
     "metadata": {},
     "output_type": "execute_result"
    }
   ],
   "source": [
    "df_seller.columns #названия колонок"
   ]
  },
  {
   "cell_type": "markdown",
   "id": "7b2904bc",
   "metadata": {},
   "source": [
    "Предполагаю, что колонки отражают следующую информацию:\n",
    "###### 1) идентификатор кандидата;\n",
    "###### 2) идентификатор партнера (думаю, речь о компании, в которую мы побираем кандидата - 5-ка и т.д.);\n",
    "###### 3) идентификатор записи (номер записи в логе, одна запись (строчка) = один айдишник);\n",
    "###### 4) дата и время действия со стороны компании; \n",
    "###### 5) наименование стадии процесса найма;\n",
    "###### 6) наименование активности внутри этой стадии;\n",
    "###### 7) результат активности п.6;\n",
    "###### 8) наименование должности (можем удалить, оставили только продавцов-кассиром по условию);\n",
    "###### 9) флаг актуальности действия (можем удалить, оставили только актуальные записи)\n",
    "###### 10) открыто ли действие на данный момент    "
   ]
  },
  {
   "cell_type": "code",
   "execution_count": 33,
   "id": "6f48e020",
   "metadata": {
    "scrolled": true
   },
   "outputs": [
    {
     "data": {
      "text/html": [
       "<div>\n",
       "<style scoped>\n",
       "    .dataframe tbody tr th:only-of-type {\n",
       "        vertical-align: middle;\n",
       "    }\n",
       "\n",
       "    .dataframe tbody tr th {\n",
       "        vertical-align: top;\n",
       "    }\n",
       "\n",
       "    .dataframe thead th {\n",
       "        text-align: right;\n",
       "    }\n",
       "</style>\n",
       "<table border=\"1\" class=\"dataframe\">\n",
       "  <thead>\n",
       "    <tr style=\"text-align: right;\">\n",
       "      <th></th>\n",
       "      <th>id_applicant</th>\n",
       "      <th>id_partner</th>\n",
       "      <th>id_log</th>\n",
       "      <th>department_id</th>\n",
       "      <th>action_date</th>\n",
       "      <th>stage_name</th>\n",
       "      <th>activity_name</th>\n",
       "      <th>result_name</th>\n",
       "      <th>is_open_action</th>\n",
       "    </tr>\n",
       "  </thead>\n",
       "  <tbody>\n",
       "    <tr>\n",
       "      <th>1090921</th>\n",
       "      <td>2196745</td>\n",
       "      <td>2281753</td>\n",
       "      <td>-1</td>\n",
       "      <td>25165</td>\n",
       "      <td>2018-01-05 06:20:57.274499+00</td>\n",
       "      <td>Создание кандидата</td>\n",
       "      <td>NaN</td>\n",
       "      <td>NaN</td>\n",
       "      <td>False</td>\n",
       "    </tr>\n",
       "    <tr>\n",
       "      <th>6407648</th>\n",
       "      <td>2196745</td>\n",
       "      <td>2281753</td>\n",
       "      <td>10890124</td>\n",
       "      <td>25165</td>\n",
       "      <td>2018-01-05 06:21:16.616158+00</td>\n",
       "      <td>Интервью с руководителем</td>\n",
       "      <td>Назначить интервью с руководителем</td>\n",
       "      <td>Встреча назначена</td>\n",
       "      <td>False</td>\n",
       "    </tr>\n",
       "    <tr>\n",
       "      <th>6407647</th>\n",
       "      <td>2196745</td>\n",
       "      <td>2281753</td>\n",
       "      <td>10890125</td>\n",
       "      <td>25165</td>\n",
       "      <td>2018-01-05 06:21:17.145886+00</td>\n",
       "      <td>Интервью с руководителем</td>\n",
       "      <td>Узнать результаты интервью с руководителем</td>\n",
       "      <td>Подходит</td>\n",
       "      <td>False</td>\n",
       "    </tr>\n",
       "    <tr>\n",
       "      <th>6407646</th>\n",
       "      <td>2196745</td>\n",
       "      <td>2281753</td>\n",
       "      <td>10890126</td>\n",
       "      <td>25165</td>\n",
       "      <td>2018-01-05 06:21:17.616696+00</td>\n",
       "      <td>СБ</td>\n",
       "      <td>Подготовить анкету кандидата</td>\n",
       "      <td>Подготовлена</td>\n",
       "      <td>False</td>\n",
       "    </tr>\n",
       "    <tr>\n",
       "      <th>6407642</th>\n",
       "      <td>2196745</td>\n",
       "      <td>2281753</td>\n",
       "      <td>11280536</td>\n",
       "      <td>25165</td>\n",
       "      <td>2018-01-29 15:43:47.354909+00</td>\n",
       "      <td>Обработка</td>\n",
       "      <td>Провести первичную обработку</td>\n",
       "      <td>Подходит</td>\n",
       "      <td>False</td>\n",
       "    </tr>\n",
       "    <tr>\n",
       "      <th>...</th>\n",
       "      <td>...</td>\n",
       "      <td>...</td>\n",
       "      <td>...</td>\n",
       "      <td>...</td>\n",
       "      <td>...</td>\n",
       "      <td>...</td>\n",
       "      <td>...</td>\n",
       "      <td>...</td>\n",
       "      <td>...</td>\n",
       "    </tr>\n",
       "    <tr>\n",
       "      <th>3376830</th>\n",
       "      <td>3330735</td>\n",
       "      <td>1970383</td>\n",
       "      <td>17153319</td>\n",
       "      <td>32843</td>\n",
       "      <td>2018-12-29 19:25:47.832687+00</td>\n",
       "      <td>Обработка</td>\n",
       "      <td>Проверка формы обращения</td>\n",
       "      <td>Не резерв</td>\n",
       "      <td>False</td>\n",
       "    </tr>\n",
       "    <tr>\n",
       "      <th>3376829</th>\n",
       "      <td>3330735</td>\n",
       "      <td>1970383</td>\n",
       "      <td>17153320</td>\n",
       "      <td>32843</td>\n",
       "      <td>2018-12-29 19:25:58.002618+00</td>\n",
       "      <td>Интервью с руководителем</td>\n",
       "      <td>Назначить интервью с руководителем</td>\n",
       "      <td>Встреча назначена</td>\n",
       "      <td>False</td>\n",
       "    </tr>\n",
       "    <tr>\n",
       "      <th>3376828</th>\n",
       "      <td>3330735</td>\n",
       "      <td>1970383</td>\n",
       "      <td>17231319</td>\n",
       "      <td>32843</td>\n",
       "      <td>2019-01-11 12:26:29.466622+00</td>\n",
       "      <td>Интервью с руководителем</td>\n",
       "      <td>Узнать результаты интервью с руководителем</td>\n",
       "      <td>Нет обратной связи</td>\n",
       "      <td>False</td>\n",
       "    </tr>\n",
       "    <tr>\n",
       "      <th>3376827</th>\n",
       "      <td>3330735</td>\n",
       "      <td>1970383</td>\n",
       "      <td>17279875</td>\n",
       "      <td>32843</td>\n",
       "      <td>2019-01-15 09:19:37.355139+00</td>\n",
       "      <td>Интервью с руководителем</td>\n",
       "      <td>Узнать результаты интервью с руководителем</td>\n",
       "      <td>Нет обратной связи</td>\n",
       "      <td>False</td>\n",
       "    </tr>\n",
       "    <tr>\n",
       "      <th>3376824</th>\n",
       "      <td>3330735</td>\n",
       "      <td>1970383</td>\n",
       "      <td>17394979</td>\n",
       "      <td>32843</td>\n",
       "      <td>2019-01-21 09:51:38+00</td>\n",
       "      <td>Смена вакансии</td>\n",
       "      <td>NaN</td>\n",
       "      <td>NaN</td>\n",
       "      <td>False</td>\n",
       "    </tr>\n",
       "  </tbody>\n",
       "</table>\n",
       "<p>5587055 rows × 9 columns</p>\n",
       "</div>"
      ],
      "text/plain": [
       "         id_applicant  id_partner    id_log  department_id  \\\n",
       "1090921       2196745     2281753        -1          25165   \n",
       "6407648       2196745     2281753  10890124          25165   \n",
       "6407647       2196745     2281753  10890125          25165   \n",
       "6407646       2196745     2281753  10890126          25165   \n",
       "6407642       2196745     2281753  11280536          25165   \n",
       "...               ...         ...       ...            ...   \n",
       "3376830       3330735     1970383  17153319          32843   \n",
       "3376829       3330735     1970383  17153320          32843   \n",
       "3376828       3330735     1970383  17231319          32843   \n",
       "3376827       3330735     1970383  17279875          32843   \n",
       "3376824       3330735     1970383  17394979          32843   \n",
       "\n",
       "                           action_date                stage_name  \\\n",
       "1090921  2018-01-05 06:20:57.274499+00        Создание кандидата   \n",
       "6407648  2018-01-05 06:21:16.616158+00  Интервью с руководителем   \n",
       "6407647  2018-01-05 06:21:17.145886+00  Интервью с руководителем   \n",
       "6407646  2018-01-05 06:21:17.616696+00                        СБ   \n",
       "6407642  2018-01-29 15:43:47.354909+00                 Обработка   \n",
       "...                                ...                       ...   \n",
       "3376830  2018-12-29 19:25:47.832687+00                 Обработка   \n",
       "3376829  2018-12-29 19:25:58.002618+00  Интервью с руководителем   \n",
       "3376828  2019-01-11 12:26:29.466622+00  Интервью с руководителем   \n",
       "3376827  2019-01-15 09:19:37.355139+00  Интервью с руководителем   \n",
       "3376824         2019-01-21 09:51:38+00            Смена вакансии   \n",
       "\n",
       "                                      activity_name         result_name  \\\n",
       "1090921                                         NaN                 NaN   \n",
       "6407648          Назначить интервью с руководителем   Встреча назначена   \n",
       "6407647  Узнать результаты интервью с руководителем            Подходит   \n",
       "6407646                Подготовить анкету кандидата        Подготовлена   \n",
       "6407642                Провести первичную обработку            Подходит   \n",
       "...                                             ...                 ...   \n",
       "3376830                    Проверка формы обращения           Не резерв   \n",
       "3376829          Назначить интервью с руководителем   Встреча назначена   \n",
       "3376828  Узнать результаты интервью с руководителем  Нет обратной связи   \n",
       "3376827  Узнать результаты интервью с руководителем  Нет обратной связи   \n",
       "3376824                                         NaN                 NaN   \n",
       "\n",
       "         is_open_action  \n",
       "1090921           False  \n",
       "6407648           False  \n",
       "6407647           False  \n",
       "6407646           False  \n",
       "6407642           False  \n",
       "...                 ...  \n",
       "3376830           False  \n",
       "3376829           False  \n",
       "3376828           False  \n",
       "3376827           False  \n",
       "3376824           False  \n",
       "\n",
       "[5587055 rows x 9 columns]"
      ]
     },
     "execution_count": 33,
     "metadata": {},
     "output_type": "execute_result"
    }
   ],
   "source": [
    "sorted_df = df_seller.sort_values(by = ['id_applicant', 'action_date']) #отсортируем данные по кандидату и дате действия \n",
    "sorted_df = sorted_df.drop(['position_name', 'is_active_action'], axis =1)\n",
    "sorted_df"
   ]
  },
  {
   "cell_type": "code",
   "execution_count": 34,
   "id": "575bc1df",
   "metadata": {},
   "outputs": [
    {
     "data": {
      "text/plain": [
       "array(['Создание кандидата', 'Интервью с руководителем', 'СБ',\n",
       "       'Обработка', 'Назначение времени на оформление/медосмотр',\n",
       "       'Оформление', 'Смена вакансии', 'Выход на работу', 'Отказался',\n",
       "       'Резерв', 'Ожидание', 'Не прошел СБ', 'Мы отказали',\n",
       "       'Черный список', 'Кадровый резерв'], dtype=object)"
      ]
     },
     "execution_count": 34,
     "metadata": {},
     "output_type": "execute_result"
    }
   ],
   "source": [
    "sorted_df['stage_name'].unique() # уникальные стадии найма"
   ]
  },
  {
   "cell_type": "markdown",
   "id": "f787ca41",
   "metadata": {},
   "source": [
    "Для каждой стадии хочу посмотреть активности и их результаты "
   ]
  },
  {
   "cell_type": "markdown",
   "id": "30217cd7",
   "metadata": {},
   "source": [
    "1) Стадия 'Создание кандидата'"
   ]
  },
  {
   "cell_type": "code",
   "execution_count": 63,
   "id": "b646bd71",
   "metadata": {},
   "outputs": [
    {
     "data": {
      "text/plain": [
       "array([nan], dtype=object)"
      ]
     },
     "execution_count": 63,
     "metadata": {},
     "output_type": "execute_result"
    }
   ],
   "source": [
    "le_masque = sorted_df['stage_name'] == 'Создание кандидата'\n",
    "df_create = sorted_df[le_masque]\n",
    "df_create['activity_name'].unique()"
   ]
  },
  {
   "cell_type": "markdown",
   "id": "37b7028f",
   "metadata": {},
   "source": [
    "2) Стадия 'Интервью с руководителем'"
   ]
  },
  {
   "cell_type": "code",
   "execution_count": 64,
   "id": "44432fd5",
   "metadata": {},
   "outputs": [
    {
     "data": {
      "text/plain": [
       "array(['Назначить интервью с руководителем',\n",
       "       'Узнать результаты интервью с руководителем',\n",
       "       'Подготовить анкету кандидата'], dtype=object)"
      ]
     },
     "execution_count": 64,
     "metadata": {},
     "output_type": "execute_result"
    }
   ],
   "source": [
    "le_masque = sorted_df['stage_name'] == 'Интервью с руководителем'\n",
    "df_inter = sorted_df[le_masque]\n",
    "df_inter['activity_name'].unique()"
   ]
  },
  {
   "cell_type": "code",
   "execution_count": 65,
   "id": "05d0bbd8",
   "metadata": {},
   "outputs": [
    {
     "data": {
      "text/plain": [
       "array(['Встреча назначена', 'Резерв', 'Отказ кандидата',\n",
       "       'Нет обратной связи', 'Отказ руководителя', 'Подходит', nan,\n",
       "       'Перенос звонка', 'Ожидание', 'Недозвон', 'Перенос кандидата',\n",
       "       'Интервью с руководителем', 'Не подходит', 'Обработка', 'Принят'],\n",
       "      dtype=object)"
      ]
     },
     "execution_count": 65,
     "metadata": {},
     "output_type": "execute_result"
    }
   ],
   "source": [
    "le_masque = sorted_df['stage_name'] == 'Интервью с руководителем'\n",
    "le_masque &= sorted_df['activity_name'] == 'Назначить интервью с руководителем'\n",
    "df_inter_2 = sorted_df[le_masque]\n",
    "df_inter_2['result_name'].unique()"
   ]
  },
  {
   "cell_type": "code",
   "execution_count": 66,
   "id": "145fdf32",
   "metadata": {},
   "outputs": [
    {
     "data": {
      "text/plain": [
       "array(['Подходит', 'Нет обратной связи', 'Отказ кандидата', 'Резерв',\n",
       "       'Перенос кандидата', 'Не подходит', 'Встреча назначена',\n",
       "       'Перенос руководителя', 'Недозвон', nan, 'Ожидание',\n",
       "       'Перенос звонка', 'Интервью с руководителем', 'Черный список'],\n",
       "      dtype=object)"
      ]
     },
     "execution_count": 66,
     "metadata": {},
     "output_type": "execute_result"
    }
   ],
   "source": [
    "le_masque = sorted_df['stage_name'] == 'Интервью с руководителем'\n",
    "le_masque &= sorted_df['activity_name'] == 'Узнать результаты интервью с руководителем'\n",
    "df_inter_3 = sorted_df[le_masque]\n",
    "df_inter_3['result_name'].unique()"
   ]
  },
  {
   "cell_type": "code",
   "execution_count": 67,
   "id": "bd339794",
   "metadata": {},
   "outputs": [
    {
     "data": {
      "text/plain": [
       "array(['Подходит'], dtype=object)"
      ]
     },
     "execution_count": 67,
     "metadata": {},
     "output_type": "execute_result"
    }
   ],
   "source": [
    "le_masque = sorted_df['stage_name'] == 'Интервью с руководителем'\n",
    "le_masque &= sorted_df['activity_name'] == 'Подготовить анкету кандидата'\n",
    "df_inter_4 = sorted_df[le_masque]\n",
    "df_inter_4['result_name'].unique()"
   ]
  },
  {
   "cell_type": "markdown",
   "id": "0df7d95b",
   "metadata": {},
   "source": [
    "3) Стадия 'СБ' -- служба безопасности"
   ]
  },
  {
   "cell_type": "code",
   "execution_count": 68,
   "id": "4e29275c",
   "metadata": {},
   "outputs": [
    {
     "data": {
      "text/plain": [
       "array(['Подготовить анкету кандидата', 'Узнать результаты СБ',\n",
       "       'Получить согласование повторного приема и отправить в СБ',\n",
       "       'Проверка формы обращения'], dtype=object)"
      ]
     },
     "execution_count": 68,
     "metadata": {},
     "output_type": "execute_result"
    }
   ],
   "source": [
    "le_masque = sorted_df['stage_name'] == 'СБ'\n",
    "df_sb = sorted_df[le_masque]\n",
    "df_sb['activity_name'].unique()"
   ]
  },
  {
   "cell_type": "code",
   "execution_count": 69,
   "id": "ed3a3f96",
   "metadata": {},
   "outputs": [
    {
     "data": {
      "text/plain": [
       "array(['Подготовлена', 'Отказ кандидата', 'Не подготовлена', 'Подходит',\n",
       "       'Резерв', 'Встреча назначена', nan, 'СБ', 'Ожидание',\n",
       "       'Нет обратной связи', 'Данные не предоставлены'], dtype=object)"
      ]
     },
     "execution_count": 69,
     "metadata": {},
     "output_type": "execute_result"
    }
   ],
   "source": [
    "le_masque = sorted_df['stage_name'] == 'СБ'\n",
    "le_masque &= sorted_df['activity_name'] == 'Подготовить анкету кандидата'\n",
    "df_sb_2 = sorted_df[le_masque]\n",
    "df_sb_2['result_name'].unique()"
   ]
  },
  {
   "cell_type": "code",
   "execution_count": 70,
   "id": "3d0e1852",
   "metadata": {},
   "outputs": [
    {
     "data": {
      "text/plain": [
       "array(['Подходит', 'Не подходит', 'Нет обратной связи',\n",
       "       'Уточнение данных', 'Согласование повторного приема',\n",
       "       'Подготовлена', 'Резерв', 'Встреча назначена', nan, 'Получено',\n",
       "       'Недозвон', 'Перенос кандидата', 'Отказ кандидата', 'Ожидание',\n",
       "       'Черный список'], dtype=object)"
      ]
     },
     "execution_count": 70,
     "metadata": {},
     "output_type": "execute_result"
    }
   ],
   "source": [
    "le_masque = sorted_df['stage_name'] == 'СБ'\n",
    "le_masque &= sorted_df['activity_name'] == 'Узнать результаты СБ'\n",
    "df_sb_3 = sorted_df[le_masque]\n",
    "df_sb_3['result_name'].unique()"
   ]
  },
  {
   "cell_type": "code",
   "execution_count": 71,
   "id": "5717b019",
   "metadata": {},
   "outputs": [
    {
     "data": {
      "text/plain": [
       "array(['Не получено', 'Получено', 'Подготовлена', nan], dtype=object)"
      ]
     },
     "execution_count": 71,
     "metadata": {},
     "output_type": "execute_result"
    }
   ],
   "source": [
    "le_masque = sorted_df['stage_name'] == 'СБ'\n",
    "le_masque &= sorted_df['activity_name'] == 'Получить согласование повторного приема и отправить в СБ'\n",
    "df_sb_4 = sorted_df[le_masque]\n",
    "df_sb_4['result_name'].unique()"
   ]
  },
  {
   "cell_type": "code",
   "execution_count": 72,
   "id": "8146b23a",
   "metadata": {},
   "outputs": [
    {
     "data": {
      "text/plain": [
       "array(['Не резерв', 'Подготовлена', 'Кадровый резерв'], dtype=object)"
      ]
     },
     "execution_count": 72,
     "metadata": {},
     "output_type": "execute_result"
    }
   ],
   "source": [
    "le_masque = sorted_df['stage_name'] == 'СБ'\n",
    "le_masque &= sorted_df['activity_name'] == 'Проверка формы обращения'\n",
    "df_sb_5 = sorted_df[le_masque]\n",
    "df_sb_5['result_name'].unique()"
   ]
  },
  {
   "cell_type": "markdown",
   "id": "915ddd11",
   "metadata": {},
   "source": [
    "4) Стадия 'Обработка'"
   ]
  },
  {
   "cell_type": "code",
   "execution_count": 44,
   "id": "18805bb7",
   "metadata": {},
   "outputs": [
    {
     "data": {
      "text/plain": [
       "array(['Провести первичную обработку', 'Проверка формы обращения', nan,\n",
       "       'Проверка источника', 'Узнать результаты медосмотра',\n",
       "       'Узнать результаты СБ',\n",
       "       'Назначить время на оформление/медосмотр (недозвон)'], dtype=object)"
      ]
     },
     "execution_count": 44,
     "metadata": {},
     "output_type": "execute_result"
    }
   ],
   "source": [
    "le_masque = sorted_df['stage_name'] == 'Обработка'\n",
    "df_ob = sorted_df[le_masque]\n",
    "df_ob['activity_name'].unique()"
   ]
  },
  {
   "cell_type": "code",
   "execution_count": 45,
   "id": "5f63fed0",
   "metadata": {},
   "outputs": [
    {
     "data": {
      "text/plain": [
       "array(['Подходит', 'Недозвон', 'Отказ кандидата', 'Не подходит', 'Резерв',\n",
       "       'Перенос звонка', 'Ожидание', nan, 'Встреча назначена',\n",
       "       'Обработка', 'Интервью с руководителем',\n",
       "       'Назначить время на оформление/медосмотр', 'Нет обратной связи',\n",
       "       'Принят'], dtype=object)"
      ]
     },
     "execution_count": 45,
     "metadata": {},
     "output_type": "execute_result"
    }
   ],
   "source": [
    "le_masque = sorted_df['stage_name'] == 'Обработка'\n",
    "le_masque &= sorted_df['activity_name'] == 'Провести первичную обработку'\n",
    "df_ob_2 = sorted_df[le_masque]\n",
    "df_ob_2['result_name'].unique()"
   ]
  },
  {
   "cell_type": "code",
   "execution_count": 35,
   "id": "0e8f3020",
   "metadata": {},
   "outputs": [
    {
     "data": {
      "text/plain": [
       "array(['Не резерв', 'Подходит', 'Кадровый резерв'], dtype=object)"
      ]
     },
     "execution_count": 35,
     "metadata": {},
     "output_type": "execute_result"
    }
   ],
   "source": [
    "le_masque = sorted_df['stage_name'] == 'Обработка'\n",
    "le_masque &= sorted_df['activity_name'] == 'Проверка формы обращения'\n",
    "df_ob_3 = sorted_df[le_masque]\n",
    "df_ob_3['result_name'].unique()"
   ]
  },
  {
   "cell_type": "code",
   "execution_count": 36,
   "id": "65996721",
   "metadata": {},
   "outputs": [
    {
     "data": {
      "text/plain": [
       "array(['Источник не Яндекс Цифра', 'Источник Яндекс Цифра', 'Подходит',\n",
       "       nan], dtype=object)"
      ]
     },
     "execution_count": 36,
     "metadata": {},
     "output_type": "execute_result"
    }
   ],
   "source": [
    "le_masque = sorted_df['stage_name'] == 'Обработка'\n",
    "le_masque &= sorted_df['activity_name'] == 'Проверка источника'\n",
    "df_ob_4 = sorted_df[le_masque]\n",
    "df_ob_4['result_name'].unique()"
   ]
  },
  {
   "cell_type": "code",
   "execution_count": 37,
   "id": "9aad9a09",
   "metadata": {},
   "outputs": [
    {
     "data": {
      "text/plain": [
       "array(['Недозвон'], dtype=object)"
      ]
     },
     "execution_count": 37,
     "metadata": {},
     "output_type": "execute_result"
    }
   ],
   "source": [
    "le_masque = sorted_df['stage_name'] == 'Обработка'\n",
    "le_masque &= sorted_df['activity_name'] == 'Узнать результаты медосмотра'\n",
    "df_ob_5 = sorted_df[le_masque]\n",
    "df_ob_5['result_name'].unique()"
   ]
  },
  {
   "cell_type": "code",
   "execution_count": 38,
   "id": "6a76e96e",
   "metadata": {},
   "outputs": [
    {
     "data": {
      "text/plain": [
       "array(['Подходит'], dtype=object)"
      ]
     },
     "execution_count": 38,
     "metadata": {},
     "output_type": "execute_result"
    }
   ],
   "source": [
    "le_masque = sorted_df['stage_name'] == 'Обработка'\n",
    "le_masque &= sorted_df['activity_name'] == 'Узнать результаты СБ'\n",
    "df_ob_6 = sorted_df[le_masque]\n",
    "df_ob_6['result_name'].unique()"
   ]
  },
  {
   "cell_type": "code",
   "execution_count": 46,
   "id": "b8e76825",
   "metadata": {},
   "outputs": [
    {
     "data": {
      "text/plain": [
       "array(['Недозвон'], dtype=object)"
      ]
     },
     "execution_count": 46,
     "metadata": {},
     "output_type": "execute_result"
    }
   ],
   "source": [
    "le_masque = sorted_df['stage_name'] == 'Обработка'\n",
    "le_masque &= sorted_df['activity_name'] == 'Назначить время на оформление/медосмотр (недозвон)'\n",
    "df_ob_7 = sorted_df[le_masque]\n",
    "df_ob_7['result_name'].unique()"
   ]
  },
  {
   "cell_type": "markdown",
   "id": "e8188c2e",
   "metadata": {},
   "source": [
    "5) Стадия 'Назначение времени на оформление/медосмотр'"
   ]
  },
  {
   "cell_type": "code",
   "execution_count": 40,
   "id": "e15ca5cd",
   "metadata": {},
   "outputs": [
    {
     "data": {
      "text/plain": [
       "array(['Назначить время на оформление/медосмотр',\n",
       "       'Назначить время на оформление/медосмотр (недозвон)',\n",
       "       'Узнать результаты медосмотра'], dtype=object)"
      ]
     },
     "execution_count": 40,
     "metadata": {},
     "output_type": "execute_result"
    }
   ],
   "source": [
    "le_masque = sorted_df['stage_name'] == 'Назначение времени на оформление/медосмотр'\n",
    "df_ob = sorted_df[le_masque]\n",
    "df_ob['activity_name'].unique()"
   ]
  },
  {
   "cell_type": "code",
   "execution_count": 41,
   "id": "8adf743a",
   "metadata": {},
   "outputs": [
    {
     "data": {
      "text/plain": [
       "array(['Время назначено', 'Недозвон', 'Отказ кандидата',\n",
       "       'Направлен на медосмотр', 'Подходит', 'Резерв', 'Перенос звонка',\n",
       "       'Нет обратной связи', 'Ожидание', 'Не подходит',\n",
       "       'Назначить время на оформление/медосмотр', 'Принят',\n",
       "       'Встреча назначена', 'В ожидании', 'Оформление'], dtype=object)"
      ]
     },
     "execution_count": 41,
     "metadata": {},
     "output_type": "execute_result"
    }
   ],
   "source": [
    "le_masque = sorted_df['stage_name'] == 'Назначение времени на оформление/медосмотр'\n",
    "le_masque &= sorted_df['activity_name'] == 'Назначить время на оформление/медосмотр'\n",
    "df_of = sorted_df[le_masque]\n",
    "df_of['result_name'].unique()"
   ]
  },
  {
   "cell_type": "code",
   "execution_count": 42,
   "id": "651b084b",
   "metadata": {},
   "outputs": [
    {
     "data": {
      "text/plain": [
       "array(['Время назначено', 'Отказ кандидата', 'Направлен на медосмотр',\n",
       "       'Недозвон', 'Резерв', 'Перенос звонка', 'Подходит', 'Ожидание',\n",
       "       nan, 'СБ', 'Нет обратной связи', 'В ожидании', 'Черный список'],\n",
       "      dtype=object)"
      ]
     },
     "execution_count": 42,
     "metadata": {},
     "output_type": "execute_result"
    }
   ],
   "source": [
    "le_masque = sorted_df['stage_name'] == 'Назначение времени на оформление/медосмотр'\n",
    "le_masque &= sorted_df['activity_name'] == 'Назначить время на оформление/медосмотр (недозвон)'\n",
    "df_of_2 = sorted_df[le_masque]\n",
    "df_of_2['result_name'].unique()"
   ]
  },
  {
   "cell_type": "code",
   "execution_count": 43,
   "id": "9d865a10",
   "metadata": {},
   "outputs": [
    {
     "data": {
      "text/plain": [
       "array(['Подходит', 'Время назначено', 'Недозвон', 'Отказ кандидата',\n",
       "       'Резерв', 'Не подходит', 'Перенос звонка',\n",
       "       'Направлен на медосмотр', 'Ожидание', nan, 'В ожидании'],\n",
       "      dtype=object)"
      ]
     },
     "execution_count": 43,
     "metadata": {},
     "output_type": "execute_result"
    }
   ],
   "source": [
    "le_masque = sorted_df['stage_name'] == 'Назначение времени на оформление/медосмотр'\n",
    "le_masque &= sorted_df['activity_name'] == 'Узнать результаты медосмотра'\n",
    "df_of_3 = sorted_df[le_masque]\n",
    "df_of_3['result_name'].unique()"
   ]
  },
  {
   "cell_type": "markdown",
   "id": "0d458d32",
   "metadata": {},
   "source": [
    "6) Стадия 'Оформление'"
   ]
  },
  {
   "cell_type": "code",
   "execution_count": 44,
   "id": "da0526e4",
   "metadata": {},
   "outputs": [
    {
     "data": {
      "text/plain": [
       "array(['Узнать результаты приема',\n",
       "       'Назначить время на оформление/медосмотр',\n",
       "       'Назначить время на оформление/медосмотр (недозвон)',\n",
       "       'Назначить время на оформление', 'Узнать результаты медосмотра',\n",
       "       nan], dtype=object)"
      ]
     },
     "execution_count": 44,
     "metadata": {},
     "output_type": "execute_result"
    }
   ],
   "source": [
    "le_masque = sorted_df['stage_name'] == 'Оформление'\n",
    "df_off = sorted_df[le_masque]\n",
    "df_off['activity_name'].unique()"
   ]
  },
  {
   "cell_type": "code",
   "execution_count": 45,
   "id": "f2b6fa77",
   "metadata": {},
   "outputs": [
    {
     "data": {
      "text/plain": [
       "array(['В ожидании', 'Принят', 'Отказ кандидата', 'Резерв', 'Не принят',\n",
       "       nan, 'Недозвон', 'Подходит', 'Время назначено', 'Ожидание',\n",
       "       'Оформление', 'Нет обратной связи', 'Направлен на медосмотр',\n",
       "       'Встреча назначена', 'Черный список'], dtype=object)"
      ]
     },
     "execution_count": 45,
     "metadata": {},
     "output_type": "execute_result"
    }
   ],
   "source": [
    "le_masque = sorted_df['stage_name'] == 'Оформление'\n",
    "le_masque &= sorted_df['activity_name'] == 'Узнать результаты приема'\n",
    "df_off_2 = sorted_df[le_masque]\n",
    "df_off_2['result_name'].unique()"
   ]
  },
  {
   "cell_type": "code",
   "execution_count": 46,
   "id": "8b79454b",
   "metadata": {},
   "outputs": [
    {
     "data": {
      "text/plain": [
       "array(['Недозвон', 'Время назначено', 'Ожидание',\n",
       "       'Направлен на медосмотр', 'Отказ кандидата', 'Резерв', nan,\n",
       "       'Подходит', 'Не подходит', 'Встреча назначена', 'Перенос звонка'],\n",
       "      dtype=object)"
      ]
     },
     "execution_count": 46,
     "metadata": {},
     "output_type": "execute_result"
    }
   ],
   "source": [
    "le_masque = sorted_df['stage_name'] == 'Оформление'\n",
    "le_masque &= sorted_df['activity_name'] == 'Назначить время на оформление/медосмотр'\n",
    "df_off_3 = sorted_df[le_masque]\n",
    "df_off_3['result_name'].unique()"
   ]
  },
  {
   "cell_type": "code",
   "execution_count": 47,
   "id": "5fed4ff3",
   "metadata": {},
   "outputs": [
    {
     "data": {
      "text/plain": [
       "array(['Недозвон', 'Отказ кандидата', 'Время назначено', nan, 'Резерв',\n",
       "       'Ожидание'], dtype=object)"
      ]
     },
     "execution_count": 47,
     "metadata": {},
     "output_type": "execute_result"
    }
   ],
   "source": [
    "le_masque = sorted_df['stage_name'] == 'Оформление'\n",
    "le_masque &= sorted_df['activity_name'] == 'Назначить время на оформление/медосмотр (недозвон)'\n",
    "df_off_4 = sorted_df[le_masque]\n",
    "df_off_4['result_name'].unique()"
   ]
  },
  {
   "cell_type": "code",
   "execution_count": 48,
   "id": "b0cf02dd",
   "metadata": {},
   "outputs": [
    {
     "data": {
      "text/plain": [
       "array(['Время назначено'], dtype=object)"
      ]
     },
     "execution_count": 48,
     "metadata": {},
     "output_type": "execute_result"
    }
   ],
   "source": [
    "le_masque = sorted_df['stage_name'] == 'Оформление'\n",
    "le_masque &= sorted_df['activity_name'] == 'Назначить время на оформление'\n",
    "df_off_4 = sorted_df[le_masque]\n",
    "df_off_4['result_name'].unique()"
   ]
  },
  {
   "cell_type": "code",
   "execution_count": 49,
   "id": "836d4306",
   "metadata": {},
   "outputs": [
    {
     "data": {
      "text/plain": [
       "array(['Недозвон', 'Перенос звонка', 'Отказ кандидата', 'Подходит', nan,\n",
       "       'Резерв', 'Ожидание', 'Время назначено'], dtype=object)"
      ]
     },
     "execution_count": 49,
     "metadata": {},
     "output_type": "execute_result"
    }
   ],
   "source": [
    "le_masque = sorted_df['stage_name'] == 'Оформление'\n",
    "le_masque &= sorted_df['activity_name'] == 'Узнать результаты медосмотра'\n",
    "df_off_5 = sorted_df[le_masque]\n",
    "df_off_5['result_name'].unique()"
   ]
  },
  {
   "cell_type": "markdown",
   "id": "87b834ec",
   "metadata": {},
   "source": [
    "7) Стадия 'Смена вакансии'"
   ]
  },
  {
   "cell_type": "code",
   "execution_count": 51,
   "id": "c98f14f9",
   "metadata": {},
   "outputs": [
    {
     "data": {
      "text/plain": [
       "array([nan], dtype=object)"
      ]
     },
     "execution_count": 51,
     "metadata": {},
     "output_type": "execute_result"
    }
   ],
   "source": [
    "le_masque = sorted_df['stage_name'] == 'Смена вакансии'\n",
    "df_sm = sorted_df[le_masque]\n",
    "df_sm['activity_name'].unique()"
   ]
  },
  {
   "cell_type": "markdown",
   "id": "046a3fd7",
   "metadata": {},
   "source": [
    "8) Стадия 'Выход на работу'"
   ]
  },
  {
   "cell_type": "code",
   "execution_count": 52,
   "id": "d67657eb",
   "metadata": {},
   "outputs": [
    {
     "data": {
      "text/plain": [
       "array([nan, 'Проверить выход на работу', 'Узнать результаты приема'],\n",
       "      dtype=object)"
      ]
     },
     "execution_count": 52,
     "metadata": {},
     "output_type": "execute_result"
    }
   ],
   "source": [
    "le_masque = sorted_df['stage_name'] == 'Выход на работу'\n",
    "df_exit = sorted_df[le_masque]\n",
    "df_exit['activity_name'].unique()"
   ]
  },
  {
   "cell_type": "code",
   "execution_count": 53,
   "id": "822269ab",
   "metadata": {},
   "outputs": [
    {
     "data": {
      "text/plain": [
       "array(['Вышел'], dtype=object)"
      ]
     },
     "execution_count": 53,
     "metadata": {},
     "output_type": "execute_result"
    }
   ],
   "source": [
    "le_masque = sorted_df['stage_name'] == 'Выход на работу'\n",
    "le_masque &= sorted_df['activity_name'] == 'Проверить выход на работу'\n",
    "df_exit_2 = sorted_df[le_masque]\n",
    "df_exit_2['result_name'].unique()"
   ]
  },
  {
   "cell_type": "code",
   "execution_count": 73,
   "id": "65e678a9",
   "metadata": {},
   "outputs": [
    {
     "data": {
      "text/plain": [
       "array(['Принят'], dtype=object)"
      ]
     },
     "execution_count": 73,
     "metadata": {},
     "output_type": "execute_result"
    }
   ],
   "source": [
    "le_masque = sorted_df['stage_name'] == 'Выход на работу'\n",
    "le_masque &= sorted_df['activity_name'] == 'Узнать результаты приема'\n",
    "df_exit_3 = sorted_df[le_masque]\n",
    "df_exit_3['result_name'].unique()"
   ]
  },
  {
   "cell_type": "markdown",
   "id": "1b97b9b2",
   "metadata": {},
   "source": [
    "9) Стадия 'Отказался'"
   ]
  },
  {
   "cell_type": "code",
   "execution_count": 55,
   "id": "2887c02b",
   "metadata": {},
   "outputs": [
    {
     "data": {
      "text/plain": [
       "array([nan], dtype=object)"
      ]
     },
     "execution_count": 55,
     "metadata": {},
     "output_type": "execute_result"
    }
   ],
   "source": [
    "le_masque = sorted_df['stage_name'] == 'Отказался'\n",
    "df_otk = sorted_df[le_masque]\n",
    "df_otk['activity_name'].unique()"
   ]
  },
  {
   "cell_type": "markdown",
   "id": "ddefa258",
   "metadata": {},
   "source": [
    "10) Стадия 'Резерв'"
   ]
  },
  {
   "cell_type": "code",
   "execution_count": 59,
   "id": "12737839",
   "metadata": {},
   "outputs": [
    {
     "data": {
      "text/plain": [
       "array([nan], dtype=object)"
      ]
     },
     "execution_count": 59,
     "metadata": {},
     "output_type": "execute_result"
    }
   ],
   "source": [
    "le_masque = sorted_df['stage_name'] == 'Резерв'\n",
    "df_res = sorted_df[le_masque]\n",
    "df_res['activity_name'].unique()"
   ]
  },
  {
   "cell_type": "markdown",
   "id": "0c864cb7",
   "metadata": {},
   "source": [
    "11) Стадия 'Ожидание'"
   ]
  },
  {
   "cell_type": "code",
   "execution_count": 60,
   "id": "df75fcd9",
   "metadata": {},
   "outputs": [
    {
     "data": {
      "text/plain": [
       "array(['Вернуть в воронку', 'Назначить интервью с руководителем',\n",
       "       'Назначить время на оформление/медосмотр',\n",
       "       'Провести первичную обработку', 'Узнать результаты приема', nan],\n",
       "      dtype=object)"
      ]
     },
     "execution_count": 60,
     "metadata": {},
     "output_type": "execute_result"
    }
   ],
   "source": [
    "le_masque = sorted_df['stage_name'] == 'Ожидание'\n",
    "df_wait = sorted_df[le_masque]\n",
    "df_wait['activity_name'].unique()"
   ]
  },
  {
   "cell_type": "code",
   "execution_count": 61,
   "id": "34a7fdf3",
   "metadata": {},
   "outputs": [
    {
     "data": {
      "text/plain": [
       "array(['Назначить время на оформление/медосмотр', nan,\n",
       "       'Интервью с руководителем', 'Оформление', 'Обработка', 'Подходит',\n",
       "       'СБ', 'Недозвон', 'Ожидание', 'Нет обратной связи', 'В ожидании',\n",
       "       'Время назначено', 'Не подходит'], dtype=object)"
      ]
     },
     "execution_count": 61,
     "metadata": {},
     "output_type": "execute_result"
    }
   ],
   "source": [
    "le_masque = sorted_df['stage_name'] == 'Ожидание'\n",
    "le_masque &= sorted_df['activity_name'] == 'Вернуть в воронку'\n",
    "df_wait_1 = sorted_df[le_masque]\n",
    "df_wait_1['result_name'].unique()"
   ]
  },
  {
   "cell_type": "code",
   "execution_count": 62,
   "id": "23aa2437",
   "metadata": {},
   "outputs": [
    {
     "data": {
      "text/plain": [
       "array(['Интервью с руководителем', 'Обработка'], dtype=object)"
      ]
     },
     "execution_count": 62,
     "metadata": {},
     "output_type": "execute_result"
    }
   ],
   "source": [
    "le_masque = sorted_df['stage_name'] == 'Ожидание'\n",
    "le_masque &= sorted_df['activity_name'] == 'Назначить интервью с руководителем'\n",
    "df_wait_2 = sorted_df[le_masque]\n",
    "df_wait_2['result_name'].unique()"
   ]
  },
  {
   "cell_type": "code",
   "execution_count": 63,
   "id": "a0d85c50",
   "metadata": {},
   "outputs": [
    {
     "data": {
      "text/plain": [
       "array(['Назначить время на оформление/медосмотр'], dtype=object)"
      ]
     },
     "execution_count": 63,
     "metadata": {},
     "output_type": "execute_result"
    }
   ],
   "source": [
    "le_masque = sorted_df['stage_name'] == 'Ожидание'\n",
    "le_masque &= sorted_df['activity_name'] == 'Назначить время на оформление/медосмотр'\n",
    "df_wait_3 = sorted_df[le_masque]\n",
    "df_wait_3['result_name'].unique()"
   ]
  },
  {
   "cell_type": "code",
   "execution_count": 64,
   "id": "0e02f3b1",
   "metadata": {},
   "outputs": [
    {
     "data": {
      "text/plain": [
       "array(['Обработка'], dtype=object)"
      ]
     },
     "execution_count": 64,
     "metadata": {},
     "output_type": "execute_result"
    }
   ],
   "source": [
    "le_masque = sorted_df['stage_name'] == 'Ожидание'\n",
    "le_masque &= sorted_df['activity_name'] == 'Провести первичную обработку'\n",
    "df_wait_4 = sorted_df[le_masque]\n",
    "df_wait_4['result_name'].unique()"
   ]
  },
  {
   "cell_type": "code",
   "execution_count": 65,
   "id": "589d40bf",
   "metadata": {},
   "outputs": [
    {
     "data": {
      "text/plain": [
       "array(['Оформление'], dtype=object)"
      ]
     },
     "execution_count": 65,
     "metadata": {},
     "output_type": "execute_result"
    }
   ],
   "source": [
    "le_masque = sorted_df['stage_name'] == 'Ожидание'\n",
    "le_masque &= sorted_df['activity_name'] == 'Узнать результаты приема'\n",
    "df_wait_5 = sorted_df[le_masque]\n",
    "df_wait_5['result_name'].unique()"
   ]
  },
  {
   "cell_type": "markdown",
   "id": "5a12fb71",
   "metadata": {},
   "source": [
    "12) Стадия 'Не прошел СБ'"
   ]
  },
  {
   "cell_type": "code",
   "execution_count": 66,
   "id": "b166890d",
   "metadata": {},
   "outputs": [
    {
     "data": {
      "text/plain": [
       "array([nan, 'Вывести из черного списка'], dtype=object)"
      ]
     },
     "execution_count": 66,
     "metadata": {},
     "output_type": "execute_result"
    }
   ],
   "source": [
    "le_masque = sorted_df['stage_name'] == 'Не прошел СБ'\n",
    "df_dont = sorted_df[le_masque]\n",
    "df_dont['activity_name'].unique()"
   ]
  },
  {
   "cell_type": "code",
   "execution_count": 67,
   "id": "ac0d24b1",
   "metadata": {},
   "outputs": [
    {
     "data": {
      "text/plain": [
       "array([nan, 'В белый список'], dtype=object)"
      ]
     },
     "execution_count": 67,
     "metadata": {},
     "output_type": "execute_result"
    }
   ],
   "source": [
    "le_masque = sorted_df['stage_name'] == 'Не прошел СБ'\n",
    "le_masque &= sorted_df['activity_name'] == 'Вывести из черного списка'\n",
    "df_dont_1 = sorted_df[le_masque]\n",
    "df_dont_1['result_name'].unique()"
   ]
  },
  {
   "cell_type": "markdown",
   "id": "8390ba80",
   "metadata": {},
   "source": [
    "13) Стадия 'Мы отказали'"
   ]
  },
  {
   "cell_type": "code",
   "execution_count": 70,
   "id": "ed12855d",
   "metadata": {},
   "outputs": [
    {
     "data": {
      "text/plain": [
       "array([nan], dtype=object)"
      ]
     },
     "execution_count": 70,
     "metadata": {},
     "output_type": "execute_result"
    }
   ],
   "source": [
    "le_masque = sorted_df['stage_name'] == 'Мы отказали'\n",
    "df_hz = sorted_df[le_masque]\n",
    "df_hz['activity_name'].unique()"
   ]
  },
  {
   "cell_type": "markdown",
   "id": "a85eaafb",
   "metadata": {},
   "source": [
    "14) Стадия 'Черный список'"
   ]
  },
  {
   "cell_type": "code",
   "execution_count": 71,
   "id": "f3339584",
   "metadata": {},
   "outputs": [
    {
     "data": {
      "text/plain": [
       "array(['Вывести из черного списка'], dtype=object)"
      ]
     },
     "execution_count": 71,
     "metadata": {},
     "output_type": "execute_result"
    }
   ],
   "source": [
    "le_masque = sorted_df['stage_name'] == 'Черный список'\n",
    "df_black = sorted_df[le_masque]\n",
    "df_black['activity_name'].unique()"
   ]
  },
  {
   "cell_type": "code",
   "execution_count": 72,
   "id": "94e931e2",
   "metadata": {},
   "outputs": [
    {
     "data": {
      "text/plain": [
       "array(['В белый список', nan], dtype=object)"
      ]
     },
     "execution_count": 72,
     "metadata": {},
     "output_type": "execute_result"
    }
   ],
   "source": [
    "le_masque = sorted_df['stage_name'] == 'Черный список'\n",
    "le_masque &= sorted_df['activity_name'] == 'Вывести из черного списка'\n",
    "df_black_1 = sorted_df[le_masque]\n",
    "df_black_1['result_name'].unique()"
   ]
  },
  {
   "cell_type": "markdown",
   "id": "c5210ee2",
   "metadata": {},
   "source": [
    "15) Стадия 'Кадровый резерв'"
   ]
  },
  {
   "cell_type": "code",
   "execution_count": 47,
   "id": "223508d0",
   "metadata": {},
   "outputs": [
    {
     "data": {
      "text/plain": [
       "array([nan], dtype=object)"
      ]
     },
     "execution_count": 47,
     "metadata": {},
     "output_type": "execute_result"
    }
   ],
   "source": [
    "le_masque = sorted_df['stage_name'] == 'Кадровый резерв'\n",
    "df_res = sorted_df[le_masque]\n",
    "df_res['activity_name'].unique()"
   ]
  },
  {
   "cell_type": "code",
   "execution_count": 48,
   "id": "5c68b004",
   "metadata": {},
   "outputs": [
    {
     "data": {
      "text/plain": [
       "Подходит                                   1243739\n",
       "Встреча назначена                           652277\n",
       "Недозвон                                    436727\n",
       "Отказ кандидата                             388421\n",
       "Нет обратной связи                          383348\n",
       "Подготовлена                                320500\n",
       "Источник не Яндекс Цифра                    233733\n",
       "В ожидании                                  190485\n",
       "Время назначено                             168194\n",
       "Принят                                      113246\n",
       "Не подходит                                 106133\n",
       "Перенос кандидата                            69746\n",
       "Резерв                                       67575\n",
       "Не резерв                                    65979\n",
       "Ожидание                                     24160\n",
       "Направлен на медосмотр                       12389\n",
       "Перенос звонка                                8479\n",
       "Назначить время на оформление/медосмотр       4486\n",
       "Интервью с руководителем                      3912\n",
       "Не принят                                     2608\n",
       "Оформление                                    2560\n",
       "Получено                                      1950\n",
       "Согласование повторного приема                1943\n",
       "Обработка                                     1676\n",
       "Уточнение данных                               826\n",
       "Кадровый резерв                                548\n",
       "Перенос руководителя                           289\n",
       "Отказ руководителя                             285\n",
       "Источник Яндекс Цифра                          276\n",
       "СБ                                             222\n",
       "Не получено                                     92\n",
       "Не подготовлена                                  7\n",
       "Черный список                                    6\n",
       "В белый список                                   6\n",
       "Вышел                                            2\n",
       "Данные не предоставлены                          1\n",
       "Name: result_name, dtype: int64"
      ]
     },
     "execution_count": 48,
     "metadata": {},
     "output_type": "execute_result"
    }
   ],
   "source": [
    "sorted_df['result_name'].value_counts()"
   ]
  },
  {
   "cell_type": "markdown",
   "id": "96f607f8",
   "metadata": {},
   "source": [
    "Посмотрим на тех двух кандидатов, которы вышли на работу:"
   ]
  },
  {
   "cell_type": "code",
   "execution_count": 49,
   "id": "8cb778fb",
   "metadata": {
    "scrolled": true
   },
   "outputs": [
    {
     "data": {
      "text/html": [
       "<div>\n",
       "<style scoped>\n",
       "    .dataframe tbody tr th:only-of-type {\n",
       "        vertical-align: middle;\n",
       "    }\n",
       "\n",
       "    .dataframe tbody tr th {\n",
       "        vertical-align: top;\n",
       "    }\n",
       "\n",
       "    .dataframe thead th {\n",
       "        text-align: right;\n",
       "    }\n",
       "</style>\n",
       "<table border=\"1\" class=\"dataframe\">\n",
       "  <thead>\n",
       "    <tr style=\"text-align: right;\">\n",
       "      <th></th>\n",
       "      <th>id_applicant</th>\n",
       "      <th>id_partner</th>\n",
       "      <th>id_log</th>\n",
       "      <th>department_id</th>\n",
       "      <th>action_date</th>\n",
       "      <th>stage_name</th>\n",
       "      <th>activity_name</th>\n",
       "      <th>result_name</th>\n",
       "      <th>is_open_action</th>\n",
       "    </tr>\n",
       "  </thead>\n",
       "  <tbody>\n",
       "    <tr>\n",
       "      <th>7132391</th>\n",
       "      <td>2249244</td>\n",
       "      <td>2422399</td>\n",
       "      <td>11385092</td>\n",
       "      <td>32125</td>\n",
       "      <td>2018-02-02 16:33:04.980892+00</td>\n",
       "      <td>Выход на работу</td>\n",
       "      <td>Проверить выход на работу</td>\n",
       "      <td>Вышел</td>\n",
       "      <td>False</td>\n",
       "    </tr>\n",
       "    <tr>\n",
       "      <th>3789147</th>\n",
       "      <td>2251045</td>\n",
       "      <td>2171663</td>\n",
       "      <td>11406269</td>\n",
       "      <td>10422</td>\n",
       "      <td>2018-02-05 16:13:56.646279+00</td>\n",
       "      <td>Выход на работу</td>\n",
       "      <td>Проверить выход на работу</td>\n",
       "      <td>Вышел</td>\n",
       "      <td>False</td>\n",
       "    </tr>\n",
       "  </tbody>\n",
       "</table>\n",
       "</div>"
      ],
      "text/plain": [
       "         id_applicant  id_partner    id_log  department_id  \\\n",
       "7132391       2249244     2422399  11385092          32125   \n",
       "3789147       2251045     2171663  11406269          10422   \n",
       "\n",
       "                           action_date       stage_name  \\\n",
       "7132391  2018-02-02 16:33:04.980892+00  Выход на работу   \n",
       "3789147  2018-02-05 16:13:56.646279+00  Выход на работу   \n",
       "\n",
       "                     activity_name result_name  is_open_action  \n",
       "7132391  Проверить выход на работу       Вышел           False  \n",
       "3789147  Проверить выход на работу       Вышел           False  "
      ]
     },
     "execution_count": 49,
     "metadata": {},
     "output_type": "execute_result"
    }
   ],
   "source": [
    "sorted_df[sorted_df['result_name'] == 'Вышел']"
   ]
  },
  {
   "cell_type": "markdown",
   "id": "02b2eeb2",
   "metadata": {},
   "source": [
    "1. Кандидат с айдишником 2251045:"
   ]
  },
  {
   "cell_type": "code",
   "execution_count": 50,
   "id": "22d3ed1f",
   "metadata": {},
   "outputs": [
    {
     "data": {
      "text/html": [
       "<div>\n",
       "<style scoped>\n",
       "    .dataframe tbody tr th:only-of-type {\n",
       "        vertical-align: middle;\n",
       "    }\n",
       "\n",
       "    .dataframe tbody tr th {\n",
       "        vertical-align: top;\n",
       "    }\n",
       "\n",
       "    .dataframe thead th {\n",
       "        text-align: right;\n",
       "    }\n",
       "</style>\n",
       "<table border=\"1\" class=\"dataframe\">\n",
       "  <thead>\n",
       "    <tr style=\"text-align: right;\">\n",
       "      <th></th>\n",
       "      <th>id_applicant</th>\n",
       "      <th>id_partner</th>\n",
       "      <th>id_log</th>\n",
       "      <th>department_id</th>\n",
       "      <th>action_date</th>\n",
       "      <th>stage_name</th>\n",
       "      <th>activity_name</th>\n",
       "      <th>result_name</th>\n",
       "      <th>is_open_action</th>\n",
       "    </tr>\n",
       "  </thead>\n",
       "  <tbody>\n",
       "    <tr>\n",
       "      <th>427181</th>\n",
       "      <td>2251045</td>\n",
       "      <td>2171663</td>\n",
       "      <td>-1</td>\n",
       "      <td>10422</td>\n",
       "      <td>2018-01-22 12:40:52.124006+00</td>\n",
       "      <td>Создание кандидата</td>\n",
       "      <td>NaN</td>\n",
       "      <td>NaN</td>\n",
       "      <td>False</td>\n",
       "    </tr>\n",
       "    <tr>\n",
       "      <th>3789146</th>\n",
       "      <td>2251045</td>\n",
       "      <td>2171663</td>\n",
       "      <td>11150408</td>\n",
       "      <td>10422</td>\n",
       "      <td>2018-01-22 12:41:03.906953+00</td>\n",
       "      <td>Обработка</td>\n",
       "      <td>Провести первичную обработку</td>\n",
       "      <td>Подходит</td>\n",
       "      <td>False</td>\n",
       "    </tr>\n",
       "    <tr>\n",
       "      <th>3789145</th>\n",
       "      <td>2251045</td>\n",
       "      <td>2171663</td>\n",
       "      <td>11150409</td>\n",
       "      <td>10422</td>\n",
       "      <td>2018-01-22 12:41:04.520436+00</td>\n",
       "      <td>Интервью с руководителем</td>\n",
       "      <td>Назначить интервью с руководителем</td>\n",
       "      <td>Встреча назначена</td>\n",
       "      <td>False</td>\n",
       "    </tr>\n",
       "    <tr>\n",
       "      <th>3789144</th>\n",
       "      <td>2251045</td>\n",
       "      <td>2171663</td>\n",
       "      <td>11150410</td>\n",
       "      <td>10422</td>\n",
       "      <td>2018-01-22 12:41:05.174733+00</td>\n",
       "      <td>Интервью с руководителем</td>\n",
       "      <td>Узнать результаты интервью с руководителем</td>\n",
       "      <td>Подходит</td>\n",
       "      <td>False</td>\n",
       "    </tr>\n",
       "    <tr>\n",
       "      <th>3789143</th>\n",
       "      <td>2251045</td>\n",
       "      <td>2171663</td>\n",
       "      <td>11150413</td>\n",
       "      <td>10422</td>\n",
       "      <td>2018-01-22 12:41:06.02009+00</td>\n",
       "      <td>СБ</td>\n",
       "      <td>Подготовить анкету кандидата</td>\n",
       "      <td>Подготовлена</td>\n",
       "      <td>False</td>\n",
       "    </tr>\n",
       "    <tr>\n",
       "      <th>3789154</th>\n",
       "      <td>2251045</td>\n",
       "      <td>2171663</td>\n",
       "      <td>11152851</td>\n",
       "      <td>10422</td>\n",
       "      <td>2018-01-22 13:58:28.864804+00</td>\n",
       "      <td>СБ</td>\n",
       "      <td>Узнать результаты СБ</td>\n",
       "      <td>Подходит</td>\n",
       "      <td>False</td>\n",
       "    </tr>\n",
       "    <tr>\n",
       "      <th>3789153</th>\n",
       "      <td>2251045</td>\n",
       "      <td>2171663</td>\n",
       "      <td>11163625</td>\n",
       "      <td>10422</td>\n",
       "      <td>2018-01-23 09:26:38.122946+00</td>\n",
       "      <td>Назначение времени на оформление/медосмотр</td>\n",
       "      <td>Назначить время на оформление/медосмотр</td>\n",
       "      <td>Время назначено</td>\n",
       "      <td>False</td>\n",
       "    </tr>\n",
       "    <tr>\n",
       "      <th>3789152</th>\n",
       "      <td>2251045</td>\n",
       "      <td>2171663</td>\n",
       "      <td>11252155</td>\n",
       "      <td>10422</td>\n",
       "      <td>2018-01-26 14:33:08.245627+00</td>\n",
       "      <td>Оформление</td>\n",
       "      <td>Узнать результаты приема</td>\n",
       "      <td>В ожидании</td>\n",
       "      <td>False</td>\n",
       "    </tr>\n",
       "    <tr>\n",
       "      <th>3789151</th>\n",
       "      <td>2251045</td>\n",
       "      <td>2171663</td>\n",
       "      <td>11295859</td>\n",
       "      <td>10422</td>\n",
       "      <td>2018-01-30 11:40:05.600159+00</td>\n",
       "      <td>Оформление</td>\n",
       "      <td>Узнать результаты приема</td>\n",
       "      <td>В ожидании</td>\n",
       "      <td>False</td>\n",
       "    </tr>\n",
       "    <tr>\n",
       "      <th>3789150</th>\n",
       "      <td>2251045</td>\n",
       "      <td>2171663</td>\n",
       "      <td>11351807</td>\n",
       "      <td>10422</td>\n",
       "      <td>2018-02-01 13:01:04.048388+00</td>\n",
       "      <td>Оформление</td>\n",
       "      <td>Узнать результаты приема</td>\n",
       "      <td>В ожидании</td>\n",
       "      <td>False</td>\n",
       "    </tr>\n",
       "    <tr>\n",
       "      <th>3789149</th>\n",
       "      <td>2251045</td>\n",
       "      <td>2171663</td>\n",
       "      <td>11397104</td>\n",
       "      <td>10422</td>\n",
       "      <td>2018-02-05 11:44:26.055939+00</td>\n",
       "      <td>Оформление</td>\n",
       "      <td>Узнать результаты приема</td>\n",
       "      <td>В ожидании</td>\n",
       "      <td>False</td>\n",
       "    </tr>\n",
       "    <tr>\n",
       "      <th>3789147</th>\n",
       "      <td>2251045</td>\n",
       "      <td>2171663</td>\n",
       "      <td>11406269</td>\n",
       "      <td>10422</td>\n",
       "      <td>2018-02-05 16:13:56.646279+00</td>\n",
       "      <td>Выход на работу</td>\n",
       "      <td>Проверить выход на работу</td>\n",
       "      <td>Вышел</td>\n",
       "      <td>False</td>\n",
       "    </tr>\n",
       "  </tbody>\n",
       "</table>\n",
       "</div>"
      ],
      "text/plain": [
       "         id_applicant  id_partner    id_log  department_id  \\\n",
       "427181        2251045     2171663        -1          10422   \n",
       "3789146       2251045     2171663  11150408          10422   \n",
       "3789145       2251045     2171663  11150409          10422   \n",
       "3789144       2251045     2171663  11150410          10422   \n",
       "3789143       2251045     2171663  11150413          10422   \n",
       "3789154       2251045     2171663  11152851          10422   \n",
       "3789153       2251045     2171663  11163625          10422   \n",
       "3789152       2251045     2171663  11252155          10422   \n",
       "3789151       2251045     2171663  11295859          10422   \n",
       "3789150       2251045     2171663  11351807          10422   \n",
       "3789149       2251045     2171663  11397104          10422   \n",
       "3789147       2251045     2171663  11406269          10422   \n",
       "\n",
       "                           action_date  \\\n",
       "427181   2018-01-22 12:40:52.124006+00   \n",
       "3789146  2018-01-22 12:41:03.906953+00   \n",
       "3789145  2018-01-22 12:41:04.520436+00   \n",
       "3789144  2018-01-22 12:41:05.174733+00   \n",
       "3789143   2018-01-22 12:41:06.02009+00   \n",
       "3789154  2018-01-22 13:58:28.864804+00   \n",
       "3789153  2018-01-23 09:26:38.122946+00   \n",
       "3789152  2018-01-26 14:33:08.245627+00   \n",
       "3789151  2018-01-30 11:40:05.600159+00   \n",
       "3789150  2018-02-01 13:01:04.048388+00   \n",
       "3789149  2018-02-05 11:44:26.055939+00   \n",
       "3789147  2018-02-05 16:13:56.646279+00   \n",
       "\n",
       "                                         stage_name  \\\n",
       "427181                           Создание кандидата   \n",
       "3789146                                   Обработка   \n",
       "3789145                    Интервью с руководителем   \n",
       "3789144                    Интервью с руководителем   \n",
       "3789143                                          СБ   \n",
       "3789154                                          СБ   \n",
       "3789153  Назначение времени на оформление/медосмотр   \n",
       "3789152                                  Оформление   \n",
       "3789151                                  Оформление   \n",
       "3789150                                  Оформление   \n",
       "3789149                                  Оформление   \n",
       "3789147                             Выход на работу   \n",
       "\n",
       "                                      activity_name        result_name  \\\n",
       "427181                                          NaN                NaN   \n",
       "3789146                Провести первичную обработку           Подходит   \n",
       "3789145          Назначить интервью с руководителем  Встреча назначена   \n",
       "3789144  Узнать результаты интервью с руководителем           Подходит   \n",
       "3789143                Подготовить анкету кандидата       Подготовлена   \n",
       "3789154                        Узнать результаты СБ           Подходит   \n",
       "3789153     Назначить время на оформление/медосмотр    Время назначено   \n",
       "3789152                    Узнать результаты приема         В ожидании   \n",
       "3789151                    Узнать результаты приема         В ожидании   \n",
       "3789150                    Узнать результаты приема         В ожидании   \n",
       "3789149                    Узнать результаты приема         В ожидании   \n",
       "3789147                   Проверить выход на работу              Вышел   \n",
       "\n",
       "         is_open_action  \n",
       "427181            False  \n",
       "3789146           False  \n",
       "3789145           False  \n",
       "3789144           False  \n",
       "3789143           False  \n",
       "3789154           False  \n",
       "3789153           False  \n",
       "3789152           False  \n",
       "3789151           False  \n",
       "3789150           False  \n",
       "3789149           False  \n",
       "3789147           False  "
      ]
     },
     "execution_count": 50,
     "metadata": {},
     "output_type": "execute_result"
    }
   ],
   "source": [
    "sorted_df[sorted_df['id_applicant'] == 2251045]"
   ]
  },
  {
   "cell_type": "markdown",
   "id": "e52e010e",
   "metadata": {},
   "source": [
    "Что получается (идеальный сценарий):\n",
    "* Создаем кандидата, проводим первичную обработку. \n",
    "* Если подходит, то назначить собеседование. \n",
    "* Узнать результаты собеседования, если подходит, то готовим анкету кандидата для службы безопасности. \n",
    "* Узнать результаты проверки СБ, если подходит, то назначить время на оформление/медосмотр.\n",
    "* Оформление...\n",
    "* В итоге, проверить выход кандидата на работу, ура, вышел!"
   ]
  },
  {
   "cell_type": "markdown",
   "id": "a88aa400",
   "metadata": {},
   "source": [
    "2. Кандидат с айдишником 2249244"
   ]
  },
  {
   "cell_type": "code",
   "execution_count": 51,
   "id": "8eec27d2",
   "metadata": {},
   "outputs": [
    {
     "data": {
      "text/html": [
       "<div>\n",
       "<style scoped>\n",
       "    .dataframe tbody tr th:only-of-type {\n",
       "        vertical-align: middle;\n",
       "    }\n",
       "\n",
       "    .dataframe tbody tr th {\n",
       "        vertical-align: top;\n",
       "    }\n",
       "\n",
       "    .dataframe thead th {\n",
       "        text-align: right;\n",
       "    }\n",
       "</style>\n",
       "<table border=\"1\" class=\"dataframe\">\n",
       "  <thead>\n",
       "    <tr style=\"text-align: right;\">\n",
       "      <th></th>\n",
       "      <th>id_applicant</th>\n",
       "      <th>id_partner</th>\n",
       "      <th>id_log</th>\n",
       "      <th>department_id</th>\n",
       "      <th>action_date</th>\n",
       "      <th>stage_name</th>\n",
       "      <th>activity_name</th>\n",
       "      <th>result_name</th>\n",
       "      <th>is_open_action</th>\n",
       "    </tr>\n",
       "  </thead>\n",
       "  <tbody>\n",
       "    <tr>\n",
       "      <th>805627</th>\n",
       "      <td>2249244</td>\n",
       "      <td>2422399</td>\n",
       "      <td>-1</td>\n",
       "      <td>32125</td>\n",
       "      <td>2018-01-22 10:03:49.549788+00</td>\n",
       "      <td>Создание кандидата</td>\n",
       "      <td>NaN</td>\n",
       "      <td>NaN</td>\n",
       "      <td>False</td>\n",
       "    </tr>\n",
       "    <tr>\n",
       "      <th>7132395</th>\n",
       "      <td>2249244</td>\n",
       "      <td>2422399</td>\n",
       "      <td>11142977</td>\n",
       "      <td>32125</td>\n",
       "      <td>2018-01-22 10:04:03.056379+00</td>\n",
       "      <td>Обработка</td>\n",
       "      <td>Провести первичную обработку</td>\n",
       "      <td>Подходит</td>\n",
       "      <td>False</td>\n",
       "    </tr>\n",
       "    <tr>\n",
       "      <th>7132394</th>\n",
       "      <td>2249244</td>\n",
       "      <td>2422399</td>\n",
       "      <td>11142978</td>\n",
       "      <td>32125</td>\n",
       "      <td>2018-01-22 10:04:03.734163+00</td>\n",
       "      <td>Интервью с руководителем</td>\n",
       "      <td>Назначить интервью с руководителем</td>\n",
       "      <td>Встреча назначена</td>\n",
       "      <td>False</td>\n",
       "    </tr>\n",
       "    <tr>\n",
       "      <th>7132393</th>\n",
       "      <td>2249244</td>\n",
       "      <td>2422399</td>\n",
       "      <td>11142980</td>\n",
       "      <td>32125</td>\n",
       "      <td>2018-01-22 10:04:04.660851+00</td>\n",
       "      <td>Интервью с руководителем</td>\n",
       "      <td>Узнать результаты интервью с руководителем</td>\n",
       "      <td>Подходит</td>\n",
       "      <td>False</td>\n",
       "    </tr>\n",
       "    <tr>\n",
       "      <th>7132392</th>\n",
       "      <td>2249244</td>\n",
       "      <td>2422399</td>\n",
       "      <td>11142981</td>\n",
       "      <td>32125</td>\n",
       "      <td>2018-01-22 10:04:05.424206+00</td>\n",
       "      <td>СБ</td>\n",
       "      <td>Подготовить анкету кандидата</td>\n",
       "      <td>Подготовлена</td>\n",
       "      <td>False</td>\n",
       "    </tr>\n",
       "    <tr>\n",
       "      <th>7132404</th>\n",
       "      <td>2249244</td>\n",
       "      <td>2422399</td>\n",
       "      <td>11150805</td>\n",
       "      <td>32125</td>\n",
       "      <td>2018-01-22 12:50:28.502967+00</td>\n",
       "      <td>СБ</td>\n",
       "      <td>Узнать результаты СБ</td>\n",
       "      <td>Подходит</td>\n",
       "      <td>False</td>\n",
       "    </tr>\n",
       "    <tr>\n",
       "      <th>7132403</th>\n",
       "      <td>2249244</td>\n",
       "      <td>2422399</td>\n",
       "      <td>11163491</td>\n",
       "      <td>32125</td>\n",
       "      <td>2018-01-23 09:23:19.232394+00</td>\n",
       "      <td>Назначение времени на оформление/медосмотр</td>\n",
       "      <td>Назначить время на оформление/медосмотр</td>\n",
       "      <td>Недозвон</td>\n",
       "      <td>False</td>\n",
       "    </tr>\n",
       "    <tr>\n",
       "      <th>7132402</th>\n",
       "      <td>2249244</td>\n",
       "      <td>2422399</td>\n",
       "      <td>11259207</td>\n",
       "      <td>32125</td>\n",
       "      <td>2018-01-26 17:12:16.545772+00</td>\n",
       "      <td>Назначение времени на оформление/медосмотр</td>\n",
       "      <td>Назначить время на оформление/медосмотр (недоз...</td>\n",
       "      <td>Недозвон</td>\n",
       "      <td>False</td>\n",
       "    </tr>\n",
       "    <tr>\n",
       "      <th>7132401</th>\n",
       "      <td>2249244</td>\n",
       "      <td>2422399</td>\n",
       "      <td>11295821</td>\n",
       "      <td>32125</td>\n",
       "      <td>2018-01-30 11:39:28.471224+00</td>\n",
       "      <td>Назначение времени на оформление/медосмотр</td>\n",
       "      <td>Назначить время на оформление/медосмотр (недоз...</td>\n",
       "      <td>Недозвон</td>\n",
       "      <td>False</td>\n",
       "    </tr>\n",
       "    <tr>\n",
       "      <th>7132400</th>\n",
       "      <td>2249244</td>\n",
       "      <td>2422399</td>\n",
       "      <td>11331570</td>\n",
       "      <td>32125</td>\n",
       "      <td>2018-01-31 14:52:06.588788+00</td>\n",
       "      <td>Назначение времени на оформление/медосмотр</td>\n",
       "      <td>Назначить время на оформление/медосмотр (недоз...</td>\n",
       "      <td>Недозвон</td>\n",
       "      <td>False</td>\n",
       "    </tr>\n",
       "    <tr>\n",
       "      <th>7132396</th>\n",
       "      <td>2249244</td>\n",
       "      <td>2422399</td>\n",
       "      <td>11351350</td>\n",
       "      <td>32125</td>\n",
       "      <td>2018-02-01 12:55:22.407976+00</td>\n",
       "      <td>Назначение времени на оформление/медосмотр</td>\n",
       "      <td>Назначить время на оформление/медосмотр (недоз...</td>\n",
       "      <td>Время назначено</td>\n",
       "      <td>False</td>\n",
       "    </tr>\n",
       "    <tr>\n",
       "      <th>7132391</th>\n",
       "      <td>2249244</td>\n",
       "      <td>2422399</td>\n",
       "      <td>11385092</td>\n",
       "      <td>32125</td>\n",
       "      <td>2018-02-02 16:33:04.980892+00</td>\n",
       "      <td>Выход на работу</td>\n",
       "      <td>Проверить выход на работу</td>\n",
       "      <td>Вышел</td>\n",
       "      <td>False</td>\n",
       "    </tr>\n",
       "  </tbody>\n",
       "</table>\n",
       "</div>"
      ],
      "text/plain": [
       "         id_applicant  id_partner    id_log  department_id  \\\n",
       "805627        2249244     2422399        -1          32125   \n",
       "7132395       2249244     2422399  11142977          32125   \n",
       "7132394       2249244     2422399  11142978          32125   \n",
       "7132393       2249244     2422399  11142980          32125   \n",
       "7132392       2249244     2422399  11142981          32125   \n",
       "7132404       2249244     2422399  11150805          32125   \n",
       "7132403       2249244     2422399  11163491          32125   \n",
       "7132402       2249244     2422399  11259207          32125   \n",
       "7132401       2249244     2422399  11295821          32125   \n",
       "7132400       2249244     2422399  11331570          32125   \n",
       "7132396       2249244     2422399  11351350          32125   \n",
       "7132391       2249244     2422399  11385092          32125   \n",
       "\n",
       "                           action_date  \\\n",
       "805627   2018-01-22 10:03:49.549788+00   \n",
       "7132395  2018-01-22 10:04:03.056379+00   \n",
       "7132394  2018-01-22 10:04:03.734163+00   \n",
       "7132393  2018-01-22 10:04:04.660851+00   \n",
       "7132392  2018-01-22 10:04:05.424206+00   \n",
       "7132404  2018-01-22 12:50:28.502967+00   \n",
       "7132403  2018-01-23 09:23:19.232394+00   \n",
       "7132402  2018-01-26 17:12:16.545772+00   \n",
       "7132401  2018-01-30 11:39:28.471224+00   \n",
       "7132400  2018-01-31 14:52:06.588788+00   \n",
       "7132396  2018-02-01 12:55:22.407976+00   \n",
       "7132391  2018-02-02 16:33:04.980892+00   \n",
       "\n",
       "                                         stage_name  \\\n",
       "805627                           Создание кандидата   \n",
       "7132395                                   Обработка   \n",
       "7132394                    Интервью с руководителем   \n",
       "7132393                    Интервью с руководителем   \n",
       "7132392                                          СБ   \n",
       "7132404                                          СБ   \n",
       "7132403  Назначение времени на оформление/медосмотр   \n",
       "7132402  Назначение времени на оформление/медосмотр   \n",
       "7132401  Назначение времени на оформление/медосмотр   \n",
       "7132400  Назначение времени на оформление/медосмотр   \n",
       "7132396  Назначение времени на оформление/медосмотр   \n",
       "7132391                             Выход на работу   \n",
       "\n",
       "                                             activity_name        result_name  \\\n",
       "805627                                                 NaN                NaN   \n",
       "7132395                       Провести первичную обработку           Подходит   \n",
       "7132394                 Назначить интервью с руководителем  Встреча назначена   \n",
       "7132393         Узнать результаты интервью с руководителем           Подходит   \n",
       "7132392                       Подготовить анкету кандидата       Подготовлена   \n",
       "7132404                               Узнать результаты СБ           Подходит   \n",
       "7132403            Назначить время на оформление/медосмотр           Недозвон   \n",
       "7132402  Назначить время на оформление/медосмотр (недоз...           Недозвон   \n",
       "7132401  Назначить время на оформление/медосмотр (недоз...           Недозвон   \n",
       "7132400  Назначить время на оформление/медосмотр (недоз...           Недозвон   \n",
       "7132396  Назначить время на оформление/медосмотр (недоз...    Время назначено   \n",
       "7132391                          Проверить выход на работу              Вышел   \n",
       "\n",
       "         is_open_action  \n",
       "805627            False  \n",
       "7132395           False  \n",
       "7132394           False  \n",
       "7132393           False  \n",
       "7132392           False  \n",
       "7132404           False  \n",
       "7132403           False  \n",
       "7132402           False  \n",
       "7132401           False  \n",
       "7132400           False  \n",
       "7132396           False  \n",
       "7132391           False  "
      ]
     },
     "execution_count": 51,
     "metadata": {},
     "output_type": "execute_result"
    }
   ],
   "source": [
    "sorted_df[sorted_df['id_applicant'] == 2249244]"
   ]
  },
  {
   "cell_type": "markdown",
   "id": "729ce221",
   "metadata": {},
   "source": [
    "Этапы аналогичны до назначения времени на оформление/медосмотр. Не могли дозвониться до кандидата неделю, дозвонились, назначили время, через день он уже вышел... Странно, а где оформление?)"
   ]
  },
  {
   "cell_type": "markdown",
   "id": "456041b6",
   "metadata": {},
   "source": [
    "В целом, интересно время действий.За один день сразу несколько этапов: и кандидата создали, и проверили первично, и интервью провели, и СБ проверила. Невозможно)\n",
    "    Предполагаю, что hr не заполняет информацию своевременно. А уже через какое-то время, когда кандидат на офрмлении, возможно, hr понимает, что надо бы и предыдущие стадии отразить в базе и фигачит их друх за другом с разницей в секунду"
   ]
  },
  {
   "cell_type": "markdown",
   "id": "cf4b3016",
   "metadata": {},
   "source": [
    "Посмотрим другие сценарии:"
   ]
  },
  {
   "cell_type": "code",
   "execution_count": 52,
   "id": "21317ffd",
   "metadata": {},
   "outputs": [
    {
     "data": {
      "text/html": [
       "<div>\n",
       "<style scoped>\n",
       "    .dataframe tbody tr th:only-of-type {\n",
       "        vertical-align: middle;\n",
       "    }\n",
       "\n",
       "    .dataframe tbody tr th {\n",
       "        vertical-align: top;\n",
       "    }\n",
       "\n",
       "    .dataframe thead th {\n",
       "        text-align: right;\n",
       "    }\n",
       "</style>\n",
       "<table border=\"1\" class=\"dataframe\">\n",
       "  <thead>\n",
       "    <tr style=\"text-align: right;\">\n",
       "      <th></th>\n",
       "      <th>id_applicant</th>\n",
       "      <th>id_partner</th>\n",
       "      <th>id_log</th>\n",
       "      <th>department_id</th>\n",
       "      <th>action_date</th>\n",
       "      <th>stage_name</th>\n",
       "      <th>activity_name</th>\n",
       "      <th>result_name</th>\n",
       "      <th>is_open_action</th>\n",
       "    </tr>\n",
       "  </thead>\n",
       "  <tbody>\n",
       "    <tr>\n",
       "      <th>569387</th>\n",
       "      <td>2957104</td>\n",
       "      <td>2811715</td>\n",
       "      <td>-1</td>\n",
       "      <td>6668</td>\n",
       "      <td>2018-09-10 09:24:18.058855+00</td>\n",
       "      <td>Создание кандидата</td>\n",
       "      <td>NaN</td>\n",
       "      <td>NaN</td>\n",
       "      <td>False</td>\n",
       "    </tr>\n",
       "    <tr>\n",
       "      <th>1179406</th>\n",
       "      <td>2957104</td>\n",
       "      <td>2811715</td>\n",
       "      <td>15210672</td>\n",
       "      <td>6668</td>\n",
       "      <td>2018-09-10 09:25:41.344279+00</td>\n",
       "      <td>Обработка</td>\n",
       "      <td>Провести первичную обработку</td>\n",
       "      <td>Не подходит</td>\n",
       "      <td>False</td>\n",
       "    </tr>\n",
       "    <tr>\n",
       "      <th>1179395</th>\n",
       "      <td>2957104</td>\n",
       "      <td>2811715</td>\n",
       "      <td>15210693</td>\n",
       "      <td>6668</td>\n",
       "      <td>2018-09-10 09:26:56.854672+00</td>\n",
       "      <td>Мы отказали</td>\n",
       "      <td>NaN</td>\n",
       "      <td>Не подходит</td>\n",
       "      <td>False</td>\n",
       "    </tr>\n",
       "  </tbody>\n",
       "</table>\n",
       "</div>"
      ],
      "text/plain": [
       "         id_applicant  id_partner    id_log  department_id  \\\n",
       "569387        2957104     2811715        -1           6668   \n",
       "1179406       2957104     2811715  15210672           6668   \n",
       "1179395       2957104     2811715  15210693           6668   \n",
       "\n",
       "                           action_date          stage_name  \\\n",
       "569387   2018-09-10 09:24:18.058855+00  Создание кандидата   \n",
       "1179406  2018-09-10 09:25:41.344279+00           Обработка   \n",
       "1179395  2018-09-10 09:26:56.854672+00         Мы отказали   \n",
       "\n",
       "                        activity_name  result_name  is_open_action  \n",
       "569387                            NaN          NaN           False  \n",
       "1179406  Провести первичную обработку  Не подходит           False  \n",
       "1179395                           NaN  Не подходит           False  "
      ]
     },
     "execution_count": 52,
     "metadata": {},
     "output_type": "execute_result"
    }
   ],
   "source": [
    "sorted_df[sorted_df['id_applicant'] == 2957104]"
   ]
  },
  {
   "cell_type": "markdown",
   "id": "a3a85cfa",
   "metadata": {},
   "source": [
    "Если кандидат не подходит на первом этапе обработки, отказываем :("
   ]
  },
  {
   "cell_type": "code",
   "execution_count": 53,
   "id": "7324ca57",
   "metadata": {
    "scrolled": true
   },
   "outputs": [
    {
     "data": {
      "text/html": [
       "<div>\n",
       "<style scoped>\n",
       "    .dataframe tbody tr th:only-of-type {\n",
       "        vertical-align: middle;\n",
       "    }\n",
       "\n",
       "    .dataframe tbody tr th {\n",
       "        vertical-align: top;\n",
       "    }\n",
       "\n",
       "    .dataframe thead th {\n",
       "        text-align: right;\n",
       "    }\n",
       "</style>\n",
       "<table border=\"1\" class=\"dataframe\">\n",
       "  <thead>\n",
       "    <tr style=\"text-align: right;\">\n",
       "      <th></th>\n",
       "      <th>id_applicant</th>\n",
       "      <th>id_partner</th>\n",
       "      <th>id_log</th>\n",
       "      <th>department_id</th>\n",
       "      <th>action_date</th>\n",
       "      <th>stage_name</th>\n",
       "      <th>activity_name</th>\n",
       "      <th>result_name</th>\n",
       "      <th>is_open_action</th>\n",
       "    </tr>\n",
       "  </thead>\n",
       "  <tbody>\n",
       "    <tr>\n",
       "      <th>540784</th>\n",
       "      <td>2442073</td>\n",
       "      <td>2519012</td>\n",
       "      <td>-1</td>\n",
       "      <td>11404</td>\n",
       "      <td>2018-03-27 15:10:20.815826+00</td>\n",
       "      <td>Создание кандидата</td>\n",
       "      <td>NaN</td>\n",
       "      <td>NaN</td>\n",
       "      <td>False</td>\n",
       "    </tr>\n",
       "    <tr>\n",
       "      <th>1629052</th>\n",
       "      <td>2442073</td>\n",
       "      <td>2519012</td>\n",
       "      <td>12155081</td>\n",
       "      <td>11404</td>\n",
       "      <td>2018-03-27 15:10:51.560498+00</td>\n",
       "      <td>Обработка</td>\n",
       "      <td>Провести первичную обработку</td>\n",
       "      <td>Подходит</td>\n",
       "      <td>False</td>\n",
       "    </tr>\n",
       "    <tr>\n",
       "      <th>1629051</th>\n",
       "      <td>2442073</td>\n",
       "      <td>2519012</td>\n",
       "      <td>12155085</td>\n",
       "      <td>11404</td>\n",
       "      <td>2018-03-27 15:11:03.882588+00</td>\n",
       "      <td>Интервью с руководителем</td>\n",
       "      <td>Назначить интервью с руководителем</td>\n",
       "      <td>Встреча назначена</td>\n",
       "      <td>False</td>\n",
       "    </tr>\n",
       "    <tr>\n",
       "      <th>1629049</th>\n",
       "      <td>2442073</td>\n",
       "      <td>2519012</td>\n",
       "      <td>12193822</td>\n",
       "      <td>11404</td>\n",
       "      <td>2018-03-29 13:18:28.871399+00</td>\n",
       "      <td>Интервью с руководителем</td>\n",
       "      <td>Узнать результаты интервью с руководителем</td>\n",
       "      <td>Перенос кандидата</td>\n",
       "      <td>False</td>\n",
       "    </tr>\n",
       "    <tr>\n",
       "      <th>1629050</th>\n",
       "      <td>2442073</td>\n",
       "      <td>2519012</td>\n",
       "      <td>12193832</td>\n",
       "      <td>11404</td>\n",
       "      <td>2018-03-29 13:18:47.842058+00</td>\n",
       "      <td>Интервью с руководителем</td>\n",
       "      <td>Назначить интервью с руководителем</td>\n",
       "      <td>Встреча назначена</td>\n",
       "      <td>False</td>\n",
       "    </tr>\n",
       "    <tr>\n",
       "      <th>1629047</th>\n",
       "      <td>2442073</td>\n",
       "      <td>2519012</td>\n",
       "      <td>12237404</td>\n",
       "      <td>11404</td>\n",
       "      <td>2018-04-02 11:01:07.774847+00</td>\n",
       "      <td>Интервью с руководителем</td>\n",
       "      <td>Узнать результаты интервью с руководителем</td>\n",
       "      <td>Не подходит</td>\n",
       "      <td>False</td>\n",
       "    </tr>\n",
       "    <tr>\n",
       "      <th>1629048</th>\n",
       "      <td>2442073</td>\n",
       "      <td>2519012</td>\n",
       "      <td>12237427</td>\n",
       "      <td>11404</td>\n",
       "      <td>2018-04-02 11:01:36.630792+00</td>\n",
       "      <td>Мы отказали</td>\n",
       "      <td>NaN</td>\n",
       "      <td>Нет обратной связи</td>\n",
       "      <td>False</td>\n",
       "    </tr>\n",
       "    <tr>\n",
       "      <th>1629046</th>\n",
       "      <td>2442073</td>\n",
       "      <td>2519012</td>\n",
       "      <td>12293044</td>\n",
       "      <td>11404</td>\n",
       "      <td>2018-04-04 16:26:46.782684+00</td>\n",
       "      <td>Интервью с руководителем</td>\n",
       "      <td>Узнать результаты интервью с руководителем</td>\n",
       "      <td>Не подходит</td>\n",
       "      <td>False</td>\n",
       "    </tr>\n",
       "  </tbody>\n",
       "</table>\n",
       "</div>"
      ],
      "text/plain": [
       "         id_applicant  id_partner    id_log  department_id  \\\n",
       "540784        2442073     2519012        -1          11404   \n",
       "1629052       2442073     2519012  12155081          11404   \n",
       "1629051       2442073     2519012  12155085          11404   \n",
       "1629049       2442073     2519012  12193822          11404   \n",
       "1629050       2442073     2519012  12193832          11404   \n",
       "1629047       2442073     2519012  12237404          11404   \n",
       "1629048       2442073     2519012  12237427          11404   \n",
       "1629046       2442073     2519012  12293044          11404   \n",
       "\n",
       "                           action_date                stage_name  \\\n",
       "540784   2018-03-27 15:10:20.815826+00        Создание кандидата   \n",
       "1629052  2018-03-27 15:10:51.560498+00                 Обработка   \n",
       "1629051  2018-03-27 15:11:03.882588+00  Интервью с руководителем   \n",
       "1629049  2018-03-29 13:18:28.871399+00  Интервью с руководителем   \n",
       "1629050  2018-03-29 13:18:47.842058+00  Интервью с руководителем   \n",
       "1629047  2018-04-02 11:01:07.774847+00  Интервью с руководителем   \n",
       "1629048  2018-04-02 11:01:36.630792+00               Мы отказали   \n",
       "1629046  2018-04-04 16:26:46.782684+00  Интервью с руководителем   \n",
       "\n",
       "                                      activity_name         result_name  \\\n",
       "540784                                          NaN                 NaN   \n",
       "1629052                Провести первичную обработку            Подходит   \n",
       "1629051          Назначить интервью с руководителем   Встреча назначена   \n",
       "1629049  Узнать результаты интервью с руководителем   Перенос кандидата   \n",
       "1629050          Назначить интервью с руководителем   Встреча назначена   \n",
       "1629047  Узнать результаты интервью с руководителем         Не подходит   \n",
       "1629048                                         NaN  Нет обратной связи   \n",
       "1629046  Узнать результаты интервью с руководителем         Не подходит   \n",
       "\n",
       "         is_open_action  \n",
       "540784            False  \n",
       "1629052           False  \n",
       "1629051           False  \n",
       "1629049           False  \n",
       "1629050           False  \n",
       "1629047           False  \n",
       "1629048           False  \n",
       "1629046           False  "
      ]
     },
     "execution_count": 53,
     "metadata": {},
     "output_type": "execute_result"
    }
   ],
   "source": [
    "sorted_df[sorted_df['id_applicant'] == 2442073]"
   ]
  },
  {
   "cell_type": "markdown",
   "id": "9c798f63",
   "metadata": {},
   "source": [
    "Не подошел на этапе собеседования, отказываем :("
   ]
  },
  {
   "cell_type": "code",
   "execution_count": 58,
   "id": "cb710824",
   "metadata": {},
   "outputs": [
    {
     "data": {
      "text/html": [
       "<div>\n",
       "<style scoped>\n",
       "    .dataframe tbody tr th:only-of-type {\n",
       "        vertical-align: middle;\n",
       "    }\n",
       "\n",
       "    .dataframe tbody tr th {\n",
       "        vertical-align: top;\n",
       "    }\n",
       "\n",
       "    .dataframe thead th {\n",
       "        text-align: right;\n",
       "    }\n",
       "</style>\n",
       "<table border=\"1\" class=\"dataframe\">\n",
       "  <thead>\n",
       "    <tr style=\"text-align: right;\">\n",
       "      <th></th>\n",
       "      <th>id_applicant</th>\n",
       "      <th>id_partner</th>\n",
       "      <th>id_log</th>\n",
       "      <th>department_id</th>\n",
       "      <th>action_date</th>\n",
       "      <th>stage_name</th>\n",
       "      <th>activity_name</th>\n",
       "      <th>result_name</th>\n",
       "      <th>is_open_action</th>\n",
       "    </tr>\n",
       "  </thead>\n",
       "  <tbody>\n",
       "    <tr>\n",
       "      <th>245572</th>\n",
       "      <td>3330732</td>\n",
       "      <td>3034085</td>\n",
       "      <td>-1</td>\n",
       "      <td>24012</td>\n",
       "      <td>2018-12-29 19:08:02.334804+00</td>\n",
       "      <td>Создание кандидата</td>\n",
       "      <td>NaN</td>\n",
       "      <td>NaN</td>\n",
       "      <td>False</td>\n",
       "    </tr>\n",
       "    <tr>\n",
       "      <th>5780153</th>\n",
       "      <td>3330732</td>\n",
       "      <td>3034085</td>\n",
       "      <td>17153311</td>\n",
       "      <td>24012</td>\n",
       "      <td>2018-12-29 19:08:31.297688+00</td>\n",
       "      <td>Обработка</td>\n",
       "      <td>Провести первичную обработку</td>\n",
       "      <td>Подходит</td>\n",
       "      <td>False</td>\n",
       "    </tr>\n",
       "    <tr>\n",
       "      <th>5780154</th>\n",
       "      <td>3330732</td>\n",
       "      <td>3034085</td>\n",
       "      <td>17153312</td>\n",
       "      <td>24012</td>\n",
       "      <td>2018-12-29 19:08:31.690072+00</td>\n",
       "      <td>Обработка</td>\n",
       "      <td>Проверка формы обращения</td>\n",
       "      <td>Не резерв</td>\n",
       "      <td>False</td>\n",
       "    </tr>\n",
       "    <tr>\n",
       "      <th>5780152</th>\n",
       "      <td>3330732</td>\n",
       "      <td>3034085</td>\n",
       "      <td>17153313</td>\n",
       "      <td>24012</td>\n",
       "      <td>2018-12-29 19:08:44.957172+00</td>\n",
       "      <td>Интервью с руководителем</td>\n",
       "      <td>Назначить интервью с руководителем</td>\n",
       "      <td>Встреча назначена</td>\n",
       "      <td>False</td>\n",
       "    </tr>\n",
       "    <tr>\n",
       "      <th>5780149</th>\n",
       "      <td>3330732</td>\n",
       "      <td>3034085</td>\n",
       "      <td>17185078</td>\n",
       "      <td>24012</td>\n",
       "      <td>2019-01-09 16:49:58.275223+00</td>\n",
       "      <td>Интервью с руководителем</td>\n",
       "      <td>Узнать результаты интервью с руководителем</td>\n",
       "      <td>Подходит</td>\n",
       "      <td>False</td>\n",
       "    </tr>\n",
       "    <tr>\n",
       "      <th>5780150</th>\n",
       "      <td>3330732</td>\n",
       "      <td>3034085</td>\n",
       "      <td>17185079</td>\n",
       "      <td>24012</td>\n",
       "      <td>2019-01-09 16:50:01.470807+00</td>\n",
       "      <td>СБ</td>\n",
       "      <td>Подготовить анкету кандидата</td>\n",
       "      <td>Подготовлена</td>\n",
       "      <td>False</td>\n",
       "    </tr>\n",
       "    <tr>\n",
       "      <th>5780151</th>\n",
       "      <td>3330732</td>\n",
       "      <td>3034085</td>\n",
       "      <td>17191883</td>\n",
       "      <td>24012</td>\n",
       "      <td>2019-01-10 09:30:02.929802+00</td>\n",
       "      <td>СБ</td>\n",
       "      <td>Узнать результаты СБ</td>\n",
       "      <td>Не подходит</td>\n",
       "      <td>False</td>\n",
       "    </tr>\n",
       "  </tbody>\n",
       "</table>\n",
       "</div>"
      ],
      "text/plain": [
       "         id_applicant  id_partner    id_log  department_id  \\\n",
       "245572        3330732     3034085        -1          24012   \n",
       "5780153       3330732     3034085  17153311          24012   \n",
       "5780154       3330732     3034085  17153312          24012   \n",
       "5780152       3330732     3034085  17153313          24012   \n",
       "5780149       3330732     3034085  17185078          24012   \n",
       "5780150       3330732     3034085  17185079          24012   \n",
       "5780151       3330732     3034085  17191883          24012   \n",
       "\n",
       "                           action_date                stage_name  \\\n",
       "245572   2018-12-29 19:08:02.334804+00        Создание кандидата   \n",
       "5780153  2018-12-29 19:08:31.297688+00                 Обработка   \n",
       "5780154  2018-12-29 19:08:31.690072+00                 Обработка   \n",
       "5780152  2018-12-29 19:08:44.957172+00  Интервью с руководителем   \n",
       "5780149  2019-01-09 16:49:58.275223+00  Интервью с руководителем   \n",
       "5780150  2019-01-09 16:50:01.470807+00                        СБ   \n",
       "5780151  2019-01-10 09:30:02.929802+00                        СБ   \n",
       "\n",
       "                                      activity_name        result_name  \\\n",
       "245572                                          NaN                NaN   \n",
       "5780153                Провести первичную обработку           Подходит   \n",
       "5780154                    Проверка формы обращения          Не резерв   \n",
       "5780152          Назначить интервью с руководителем  Встреча назначена   \n",
       "5780149  Узнать результаты интервью с руководителем           Подходит   \n",
       "5780150                Подготовить анкету кандидата       Подготовлена   \n",
       "5780151                        Узнать результаты СБ        Не подходит   \n",
       "\n",
       "         is_open_action  \n",
       "245572            False  \n",
       "5780153           False  \n",
       "5780154           False  \n",
       "5780152           False  \n",
       "5780149           False  \n",
       "5780150           False  \n",
       "5780151           False  "
      ]
     },
     "execution_count": 58,
     "metadata": {},
     "output_type": "execute_result"
    }
   ],
   "source": [
    "sorted_df[sorted_df['id_applicant'] == 3330732]"
   ]
  },
  {
   "cell_type": "markdown",
   "id": "45780831",
   "metadata": {},
   "source": [
    "Не прошел проверку службой безопасности, отказываем :("
   ]
  },
  {
   "cell_type": "code",
   "execution_count": 59,
   "id": "74059c32",
   "metadata": {},
   "outputs": [
    {
     "data": {
      "text/html": [
       "<div>\n",
       "<style scoped>\n",
       "    .dataframe tbody tr th:only-of-type {\n",
       "        vertical-align: middle;\n",
       "    }\n",
       "\n",
       "    .dataframe tbody tr th {\n",
       "        vertical-align: top;\n",
       "    }\n",
       "\n",
       "    .dataframe thead th {\n",
       "        text-align: right;\n",
       "    }\n",
       "</style>\n",
       "<table border=\"1\" class=\"dataframe\">\n",
       "  <thead>\n",
       "    <tr style=\"text-align: right;\">\n",
       "      <th></th>\n",
       "      <th>id_applicant</th>\n",
       "      <th>id_partner</th>\n",
       "      <th>id_log</th>\n",
       "      <th>department_id</th>\n",
       "      <th>action_date</th>\n",
       "      <th>stage_name</th>\n",
       "      <th>activity_name</th>\n",
       "      <th>result_name</th>\n",
       "      <th>is_open_action</th>\n",
       "    </tr>\n",
       "  </thead>\n",
       "  <tbody>\n",
       "    <tr>\n",
       "      <th>223599</th>\n",
       "      <td>3034085</td>\n",
       "      <td>2851930</td>\n",
       "      <td>-1</td>\n",
       "      <td>10390</td>\n",
       "      <td>2018-10-02 14:14:54.979972+00</td>\n",
       "      <td>Создание кандидата</td>\n",
       "      <td>NaN</td>\n",
       "      <td>NaN</td>\n",
       "      <td>False</td>\n",
       "    </tr>\n",
       "    <tr>\n",
       "      <th>2106640</th>\n",
       "      <td>3034085</td>\n",
       "      <td>2851930</td>\n",
       "      <td>15646027</td>\n",
       "      <td>10390</td>\n",
       "      <td>2018-10-02 14:15:11.268373+00</td>\n",
       "      <td>Обработка</td>\n",
       "      <td>Провести первичную обработку</td>\n",
       "      <td>Подходит</td>\n",
       "      <td>False</td>\n",
       "    </tr>\n",
       "    <tr>\n",
       "      <th>2106639</th>\n",
       "      <td>3034085</td>\n",
       "      <td>2851930</td>\n",
       "      <td>15646035</td>\n",
       "      <td>10390</td>\n",
       "      <td>2018-10-02 14:15:23.509419+00</td>\n",
       "      <td>Интервью с руководителем</td>\n",
       "      <td>Назначить интервью с руководителем</td>\n",
       "      <td>Встреча назначена</td>\n",
       "      <td>False</td>\n",
       "    </tr>\n",
       "    <tr>\n",
       "      <th>2106638</th>\n",
       "      <td>3034085</td>\n",
       "      <td>2851930</td>\n",
       "      <td>15646428</td>\n",
       "      <td>10390</td>\n",
       "      <td>2018-10-02 14:24:27+00</td>\n",
       "      <td>Смена вакансии</td>\n",
       "      <td>NaN</td>\n",
       "      <td>NaN</td>\n",
       "      <td>False</td>\n",
       "    </tr>\n",
       "  </tbody>\n",
       "</table>\n",
       "</div>"
      ],
      "text/plain": [
       "         id_applicant  id_partner    id_log  department_id  \\\n",
       "223599        3034085     2851930        -1          10390   \n",
       "2106640       3034085     2851930  15646027          10390   \n",
       "2106639       3034085     2851930  15646035          10390   \n",
       "2106638       3034085     2851930  15646428          10390   \n",
       "\n",
       "                           action_date                stage_name  \\\n",
       "223599   2018-10-02 14:14:54.979972+00        Создание кандидата   \n",
       "2106640  2018-10-02 14:15:11.268373+00                 Обработка   \n",
       "2106639  2018-10-02 14:15:23.509419+00  Интервью с руководителем   \n",
       "2106638         2018-10-02 14:24:27+00            Смена вакансии   \n",
       "\n",
       "                              activity_name        result_name  is_open_action  \n",
       "223599                                  NaN                NaN           False  \n",
       "2106640        Провести первичную обработку           Подходит           False  \n",
       "2106639  Назначить интервью с руководителем  Встреча назначена           False  \n",
       "2106638                                 NaN                NaN           False  "
      ]
     },
     "execution_count": 59,
     "metadata": {},
     "output_type": "execute_result"
    }
   ],
   "source": [
    "sorted_df[sorted_df['id_applicant'] == 3034085]"
   ]
  },
  {
   "cell_type": "markdown",
   "id": "0217c805",
   "metadata": {},
   "source": [
    "Еще странная стадия - смена вакансии. Видимо, кандидат изъявил желание поменять вакансию, дальше обычно информации нет."
   ]
  },
  {
   "cell_type": "code",
   "execution_count": 20,
   "id": "c589614e",
   "metadata": {},
   "outputs": [
    {
     "data": {
      "text/plain": [
       "array(['Назначить время на оформление/медосмотр (недозвон)',\n",
       "       'Узнать результаты приема',\n",
       "       'Узнать результаты интервью с руководителем',\n",
       "       'Назначить время на оформление/медосмотр',\n",
       "       'Узнать результаты медосмотра', 'Провести первичную обработку',\n",
       "       'Назначить интервью с руководителем', nan,\n",
       "       'Подготовить анкету кандидата', 'Узнать результаты СБ'],\n",
       "      dtype=object)"
      ]
     },
     "execution_count": 20,
     "metadata": {},
     "output_type": "execute_result"
    }
   ],
   "source": [
    "df_reject = sorted_df.copy()\n",
    "mask = df_reject['result_name'] == 'Отказ кандидата'\n",
    "df_reject = df_reject[mask]\n",
    "df_reject['activity_name'].unique()"
   ]
  },
  {
   "cell_type": "code",
   "execution_count": null,
   "id": "4b7bcdc0",
   "metadata": {},
   "outputs": [],
   "source": [
    "Сам кандидат может отказаться на любом этапе трудоустройства"
   ]
  },
  {
   "cell_type": "code",
   "execution_count": 75,
   "id": "fed9a3d9",
   "metadata": {
    "scrolled": true
   },
   "outputs": [
    {
     "data": {
      "text/html": [
       "<div>\n",
       "<style scoped>\n",
       "    .dataframe tbody tr th:only-of-type {\n",
       "        vertical-align: middle;\n",
       "    }\n",
       "\n",
       "    .dataframe tbody tr th {\n",
       "        vertical-align: top;\n",
       "    }\n",
       "\n",
       "    .dataframe thead th {\n",
       "        text-align: right;\n",
       "    }\n",
       "</style>\n",
       "<table border=\"1\" class=\"dataframe\">\n",
       "  <thead>\n",
       "    <tr style=\"text-align: right;\">\n",
       "      <th></th>\n",
       "      <th>id_applicant</th>\n",
       "      <th>id_partner</th>\n",
       "      <th>id_log</th>\n",
       "      <th>department_id</th>\n",
       "      <th>action_date</th>\n",
       "      <th>stage_name</th>\n",
       "      <th>activity_name</th>\n",
       "      <th>result_name</th>\n",
       "      <th>is_open_action</th>\n",
       "    </tr>\n",
       "  </thead>\n",
       "  <tbody>\n",
       "    <tr>\n",
       "      <th>7065431</th>\n",
       "      <td>2450958</td>\n",
       "      <td>2528369</td>\n",
       "      <td>12332727</td>\n",
       "      <td>31396</td>\n",
       "      <td>2018-04-06 13:33:35.4907+00</td>\n",
       "      <td>Выход на работу</td>\n",
       "      <td>Узнать результаты приема</td>\n",
       "      <td>Принят</td>\n",
       "      <td>False</td>\n",
       "    </tr>\n",
       "    <tr>\n",
       "      <th>3548051</th>\n",
       "      <td>2472763</td>\n",
       "      <td>2539536</td>\n",
       "      <td>12661819</td>\n",
       "      <td>30509</td>\n",
       "      <td>2018-04-27 11:49:13.15228+00</td>\n",
       "      <td>Выход на работу</td>\n",
       "      <td>Узнать результаты приема</td>\n",
       "      <td>Принят</td>\n",
       "      <td>False</td>\n",
       "    </tr>\n",
       "    <tr>\n",
       "      <th>2870786</th>\n",
       "      <td>2585097</td>\n",
       "      <td>2554273</td>\n",
       "      <td>13071059</td>\n",
       "      <td>31118</td>\n",
       "      <td>2018-05-23 14:42:09.096436+00</td>\n",
       "      <td>Выход на работу</td>\n",
       "      <td>Узнать результаты приема</td>\n",
       "      <td>Принят</td>\n",
       "      <td>False</td>\n",
       "    </tr>\n",
       "    <tr>\n",
       "      <th>1650251</th>\n",
       "      <td>2875534</td>\n",
       "      <td>2764587</td>\n",
       "      <td>15737452</td>\n",
       "      <td>7210</td>\n",
       "      <td>2018-10-08 11:55:06.513311+00</td>\n",
       "      <td>Выход на работу</td>\n",
       "      <td>Узнать результаты приема</td>\n",
       "      <td>Принят</td>\n",
       "      <td>False</td>\n",
       "    </tr>\n",
       "    <tr>\n",
       "      <th>1822952</th>\n",
       "      <td>2912428</td>\n",
       "      <td>2785928</td>\n",
       "      <td>15757452</td>\n",
       "      <td>9627</td>\n",
       "      <td>2018-10-09 10:45:59.038938+00</td>\n",
       "      <td>Выход на работу</td>\n",
       "      <td>Узнать результаты приема</td>\n",
       "      <td>Принят</td>\n",
       "      <td>False</td>\n",
       "    </tr>\n",
       "    <tr>\n",
       "      <th>1358842</th>\n",
       "      <td>2985859</td>\n",
       "      <td>2828277</td>\n",
       "      <td>15595165</td>\n",
       "      <td>31326</td>\n",
       "      <td>2018-09-28 12:49:36.485708+00</td>\n",
       "      <td>Выход на работу</td>\n",
       "      <td>Узнать результаты приема</td>\n",
       "      <td>Принят</td>\n",
       "      <td>False</td>\n",
       "    </tr>\n",
       "    <tr>\n",
       "      <th>5553479</th>\n",
       "      <td>2991997</td>\n",
       "      <td>2539204</td>\n",
       "      <td>15616921</td>\n",
       "      <td>34048</td>\n",
       "      <td>2018-10-01 11:19:00.414376+00</td>\n",
       "      <td>Выход на работу</td>\n",
       "      <td>Узнать результаты приема</td>\n",
       "      <td>Принят</td>\n",
       "      <td>False</td>\n",
       "    </tr>\n",
       "    <tr>\n",
       "      <th>3378611</th>\n",
       "      <td>3015405</td>\n",
       "      <td>2809900</td>\n",
       "      <td>15632851</td>\n",
       "      <td>25658</td>\n",
       "      <td>2018-10-02 09:27:35.231795+00</td>\n",
       "      <td>Выход на работу</td>\n",
       "      <td>Узнать результаты приема</td>\n",
       "      <td>Принят</td>\n",
       "      <td>False</td>\n",
       "    </tr>\n",
       "    <tr>\n",
       "      <th>1911614</th>\n",
       "      <td>3048985</td>\n",
       "      <td>2864742</td>\n",
       "      <td>15784254</td>\n",
       "      <td>35125</td>\n",
       "      <td>2018-10-10 14:08:24.299509+00</td>\n",
       "      <td>Выход на работу</td>\n",
       "      <td>Узнать результаты приема</td>\n",
       "      <td>Принят</td>\n",
       "      <td>False</td>\n",
       "    </tr>\n",
       "    <tr>\n",
       "      <th>5173160</th>\n",
       "      <td>3086687</td>\n",
       "      <td>2861731</td>\n",
       "      <td>15906659</td>\n",
       "      <td>17820</td>\n",
       "      <td>2018-10-18 11:37:56.403925+00</td>\n",
       "      <td>Выход на работу</td>\n",
       "      <td>Узнать результаты приема</td>\n",
       "      <td>Принят</td>\n",
       "      <td>False</td>\n",
       "    </tr>\n",
       "    <tr>\n",
       "      <th>4559988</th>\n",
       "      <td>3123554</td>\n",
       "      <td>2901096</td>\n",
       "      <td>16599785</td>\n",
       "      <td>29599</td>\n",
       "      <td>2018-11-29 15:22:42.850881+00</td>\n",
       "      <td>Выход на работу</td>\n",
       "      <td>Узнать результаты приема</td>\n",
       "      <td>Принят</td>\n",
       "      <td>False</td>\n",
       "    </tr>\n",
       "    <tr>\n",
       "      <th>5145156</th>\n",
       "      <td>3161060</td>\n",
       "      <td>2931530</td>\n",
       "      <td>16498977</td>\n",
       "      <td>6855</td>\n",
       "      <td>2018-11-23 16:15:18.211592+00</td>\n",
       "      <td>Выход на работу</td>\n",
       "      <td>Узнать результаты приема</td>\n",
       "      <td>Принят</td>\n",
       "      <td>False</td>\n",
       "    </tr>\n",
       "    <tr>\n",
       "      <th>5054321</th>\n",
       "      <td>3192593</td>\n",
       "      <td>2280598</td>\n",
       "      <td>16653996</td>\n",
       "      <td>19062</td>\n",
       "      <td>2018-12-03 12:13:40.358149+00</td>\n",
       "      <td>Выход на работу</td>\n",
       "      <td>Узнать результаты приема</td>\n",
       "      <td>Принят</td>\n",
       "      <td>False</td>\n",
       "    </tr>\n",
       "    <tr>\n",
       "      <th>5332723</th>\n",
       "      <td>3303246</td>\n",
       "      <td>3017629</td>\n",
       "      <td>17092630</td>\n",
       "      <td>36364</td>\n",
       "      <td>2018-12-26 10:01:32.025256+00</td>\n",
       "      <td>Выход на работу</td>\n",
       "      <td>Узнать результаты приема</td>\n",
       "      <td>Принят</td>\n",
       "      <td>False</td>\n",
       "    </tr>\n",
       "    <tr>\n",
       "      <th>4504411</th>\n",
       "      <td>3310541</td>\n",
       "      <td>3021963</td>\n",
       "      <td>17180246</td>\n",
       "      <td>32796</td>\n",
       "      <td>2019-01-09 15:15:33.049978+00</td>\n",
       "      <td>Выход на работу</td>\n",
       "      <td>Узнать результаты приема</td>\n",
       "      <td>Принят</td>\n",
       "      <td>False</td>\n",
       "    </tr>\n",
       "  </tbody>\n",
       "</table>\n",
       "</div>"
      ],
      "text/plain": [
       "         id_applicant  id_partner    id_log  department_id  \\\n",
       "7065431       2450958     2528369  12332727          31396   \n",
       "3548051       2472763     2539536  12661819          30509   \n",
       "2870786       2585097     2554273  13071059          31118   \n",
       "1650251       2875534     2764587  15737452           7210   \n",
       "1822952       2912428     2785928  15757452           9627   \n",
       "1358842       2985859     2828277  15595165          31326   \n",
       "5553479       2991997     2539204  15616921          34048   \n",
       "3378611       3015405     2809900  15632851          25658   \n",
       "1911614       3048985     2864742  15784254          35125   \n",
       "5173160       3086687     2861731  15906659          17820   \n",
       "4559988       3123554     2901096  16599785          29599   \n",
       "5145156       3161060     2931530  16498977           6855   \n",
       "5054321       3192593     2280598  16653996          19062   \n",
       "5332723       3303246     3017629  17092630          36364   \n",
       "4504411       3310541     3021963  17180246          32796   \n",
       "\n",
       "                           action_date       stage_name  \\\n",
       "7065431    2018-04-06 13:33:35.4907+00  Выход на работу   \n",
       "3548051   2018-04-27 11:49:13.15228+00  Выход на работу   \n",
       "2870786  2018-05-23 14:42:09.096436+00  Выход на работу   \n",
       "1650251  2018-10-08 11:55:06.513311+00  Выход на работу   \n",
       "1822952  2018-10-09 10:45:59.038938+00  Выход на работу   \n",
       "1358842  2018-09-28 12:49:36.485708+00  Выход на работу   \n",
       "5553479  2018-10-01 11:19:00.414376+00  Выход на работу   \n",
       "3378611  2018-10-02 09:27:35.231795+00  Выход на работу   \n",
       "1911614  2018-10-10 14:08:24.299509+00  Выход на работу   \n",
       "5173160  2018-10-18 11:37:56.403925+00  Выход на работу   \n",
       "4559988  2018-11-29 15:22:42.850881+00  Выход на работу   \n",
       "5145156  2018-11-23 16:15:18.211592+00  Выход на работу   \n",
       "5054321  2018-12-03 12:13:40.358149+00  Выход на работу   \n",
       "5332723  2018-12-26 10:01:32.025256+00  Выход на работу   \n",
       "4504411  2019-01-09 15:15:33.049978+00  Выход на работу   \n",
       "\n",
       "                    activity_name result_name  is_open_action  \n",
       "7065431  Узнать результаты приема      Принят           False  \n",
       "3548051  Узнать результаты приема      Принят           False  \n",
       "2870786  Узнать результаты приема      Принят           False  \n",
       "1650251  Узнать результаты приема      Принят           False  \n",
       "1822952  Узнать результаты приема      Принят           False  \n",
       "1358842  Узнать результаты приема      Принят           False  \n",
       "5553479  Узнать результаты приема      Принят           False  \n",
       "3378611  Узнать результаты приема      Принят           False  \n",
       "1911614  Узнать результаты приема      Принят           False  \n",
       "5173160  Узнать результаты приема      Принят           False  \n",
       "4559988  Узнать результаты приема      Принят           False  \n",
       "5145156  Узнать результаты приема      Принят           False  \n",
       "5054321  Узнать результаты приема      Принят           False  \n",
       "5332723  Узнать результаты приема      Принят           False  \n",
       "4504411  Узнать результаты приема      Принят           False  "
      ]
     },
     "execution_count": 75,
     "metadata": {},
     "output_type": "execute_result"
    }
   ],
   "source": [
    "df_exit_3 # те, кого приняли на работу"
   ]
  },
  {
   "cell_type": "markdown",
   "id": "9b6c6f92",
   "metadata": {},
   "source": [
    "Не понятно, в чем разница между \"узнать результаты приема - принят\" и \"Проверить выход на работу - принят\". По логике в обе группы попадают кандидаты, которых трудоустроили."
   ]
  },
  {
   "cell_type": "code",
   "execution_count": 81,
   "id": "eac13a4b",
   "metadata": {},
   "outputs": [
    {
     "data": {
      "text/html": [
       "<div>\n",
       "<style scoped>\n",
       "    .dataframe tbody tr th:only-of-type {\n",
       "        vertical-align: middle;\n",
       "    }\n",
       "\n",
       "    .dataframe tbody tr th {\n",
       "        vertical-align: top;\n",
       "    }\n",
       "\n",
       "    .dataframe thead th {\n",
       "        text-align: right;\n",
       "    }\n",
       "</style>\n",
       "<table border=\"1\" class=\"dataframe\">\n",
       "  <thead>\n",
       "    <tr style=\"text-align: right;\">\n",
       "      <th></th>\n",
       "      <th>id_applicant</th>\n",
       "      <th>id_partner</th>\n",
       "      <th>id_log</th>\n",
       "      <th>department_id</th>\n",
       "      <th>action_date</th>\n",
       "      <th>stage_name</th>\n",
       "      <th>activity_name</th>\n",
       "      <th>result_name</th>\n",
       "      <th>is_open_action</th>\n",
       "    </tr>\n",
       "  </thead>\n",
       "  <tbody>\n",
       "    <tr>\n",
       "      <th>74581</th>\n",
       "      <td>2472763</td>\n",
       "      <td>2539536</td>\n",
       "      <td>-1</td>\n",
       "      <td>30509</td>\n",
       "      <td>2018-04-06 09:31:29.11047+00</td>\n",
       "      <td>Создание кандидата</td>\n",
       "      <td>NaN</td>\n",
       "      <td>NaN</td>\n",
       "      <td>False</td>\n",
       "    </tr>\n",
       "    <tr>\n",
       "      <th>3548048</th>\n",
       "      <td>2472763</td>\n",
       "      <td>2539536</td>\n",
       "      <td>12322550</td>\n",
       "      <td>30509</td>\n",
       "      <td>2018-04-06 09:31:53.393933+00</td>\n",
       "      <td>Обработка</td>\n",
       "      <td>Провести первичную обработку</td>\n",
       "      <td>Подходит</td>\n",
       "      <td>False</td>\n",
       "    </tr>\n",
       "    <tr>\n",
       "      <th>3548047</th>\n",
       "      <td>2472763</td>\n",
       "      <td>2539536</td>\n",
       "      <td>12322551</td>\n",
       "      <td>30509</td>\n",
       "      <td>2018-04-06 09:31:54.249132+00</td>\n",
       "      <td>Интервью с руководителем</td>\n",
       "      <td>Назначить интервью с руководителем</td>\n",
       "      <td>Встреча назначена</td>\n",
       "      <td>False</td>\n",
       "    </tr>\n",
       "    <tr>\n",
       "      <th>3548050</th>\n",
       "      <td>2472763</td>\n",
       "      <td>2539536</td>\n",
       "      <td>12322554</td>\n",
       "      <td>30509</td>\n",
       "      <td>2018-04-06 09:31:55.10961+00</td>\n",
       "      <td>Интервью с руководителем</td>\n",
       "      <td>Узнать результаты интервью с руководителем</td>\n",
       "      <td>Подходит</td>\n",
       "      <td>False</td>\n",
       "    </tr>\n",
       "    <tr>\n",
       "      <th>3548049</th>\n",
       "      <td>2472763</td>\n",
       "      <td>2539536</td>\n",
       "      <td>12322555</td>\n",
       "      <td>30509</td>\n",
       "      <td>2018-04-06 09:31:55.840815+00</td>\n",
       "      <td>СБ</td>\n",
       "      <td>Подготовить анкету кандидата</td>\n",
       "      <td>Подготовлена</td>\n",
       "      <td>False</td>\n",
       "    </tr>\n",
       "    <tr>\n",
       "      <th>3548046</th>\n",
       "      <td>2472763</td>\n",
       "      <td>2539536</td>\n",
       "      <td>12336323</td>\n",
       "      <td>30509</td>\n",
       "      <td>2018-04-06 15:22:53.949873+00</td>\n",
       "      <td>СБ</td>\n",
       "      <td>Узнать результаты СБ</td>\n",
       "      <td>Подходит</td>\n",
       "      <td>False</td>\n",
       "    </tr>\n",
       "    <tr>\n",
       "      <th>3548045</th>\n",
       "      <td>2472763</td>\n",
       "      <td>2539536</td>\n",
       "      <td>12350418</td>\n",
       "      <td>30509</td>\n",
       "      <td>2018-04-09 11:18:53.658687+00</td>\n",
       "      <td>Назначение времени на оформление/медосмотр</td>\n",
       "      <td>Назначить время на оформление/медосмотр</td>\n",
       "      <td>Время назначено</td>\n",
       "      <td>False</td>\n",
       "    </tr>\n",
       "    <tr>\n",
       "      <th>3548044</th>\n",
       "      <td>2472763</td>\n",
       "      <td>2539536</td>\n",
       "      <td>12406071</td>\n",
       "      <td>30509</td>\n",
       "      <td>2018-04-11 16:16:06.000229+00</td>\n",
       "      <td>Оформление</td>\n",
       "      <td>Узнать результаты приема</td>\n",
       "      <td>В ожидании</td>\n",
       "      <td>False</td>\n",
       "    </tr>\n",
       "    <tr>\n",
       "      <th>3548043</th>\n",
       "      <td>2472763</td>\n",
       "      <td>2539536</td>\n",
       "      <td>12442336</td>\n",
       "      <td>30509</td>\n",
       "      <td>2018-04-13 13:50:15.575197+00</td>\n",
       "      <td>Оформление</td>\n",
       "      <td>Узнать результаты приема</td>\n",
       "      <td>В ожидании</td>\n",
       "      <td>False</td>\n",
       "    </tr>\n",
       "    <tr>\n",
       "      <th>3548042</th>\n",
       "      <td>2472763</td>\n",
       "      <td>2539536</td>\n",
       "      <td>12442411</td>\n",
       "      <td>30509</td>\n",
       "      <td>2018-04-13 13:53:08.951483+00</td>\n",
       "      <td>Оформление</td>\n",
       "      <td>Узнать результаты приема</td>\n",
       "      <td>В ожидании</td>\n",
       "      <td>False</td>\n",
       "    </tr>\n",
       "    <tr>\n",
       "      <th>3548041</th>\n",
       "      <td>2472763</td>\n",
       "      <td>2539536</td>\n",
       "      <td>12531511</td>\n",
       "      <td>30509</td>\n",
       "      <td>2018-04-19 14:17:22.571228+00</td>\n",
       "      <td>Оформление</td>\n",
       "      <td>Узнать результаты приема</td>\n",
       "      <td>В ожидании</td>\n",
       "      <td>False</td>\n",
       "    </tr>\n",
       "    <tr>\n",
       "      <th>3548040</th>\n",
       "      <td>2472763</td>\n",
       "      <td>2539536</td>\n",
       "      <td>12581356</td>\n",
       "      <td>30509</td>\n",
       "      <td>2018-04-23 17:39:35.017144+00</td>\n",
       "      <td>Оформление</td>\n",
       "      <td>Узнать результаты приема</td>\n",
       "      <td>В ожидании</td>\n",
       "      <td>False</td>\n",
       "    </tr>\n",
       "    <tr>\n",
       "      <th>3548039</th>\n",
       "      <td>2472763</td>\n",
       "      <td>2539536</td>\n",
       "      <td>12627914</td>\n",
       "      <td>30509</td>\n",
       "      <td>2018-04-25 17:18:29.973466+00</td>\n",
       "      <td>Оформление</td>\n",
       "      <td>Узнать результаты приема</td>\n",
       "      <td>В ожидании</td>\n",
       "      <td>False</td>\n",
       "    </tr>\n",
       "    <tr>\n",
       "      <th>3548051</th>\n",
       "      <td>2472763</td>\n",
       "      <td>2539536</td>\n",
       "      <td>12661819</td>\n",
       "      <td>30509</td>\n",
       "      <td>2018-04-27 11:49:13.15228+00</td>\n",
       "      <td>Выход на работу</td>\n",
       "      <td>Узнать результаты приема</td>\n",
       "      <td>Принят</td>\n",
       "      <td>False</td>\n",
       "    </tr>\n",
       "  </tbody>\n",
       "</table>\n",
       "</div>"
      ],
      "text/plain": [
       "         id_applicant  id_partner    id_log  department_id  \\\n",
       "74581         2472763     2539536        -1          30509   \n",
       "3548048       2472763     2539536  12322550          30509   \n",
       "3548047       2472763     2539536  12322551          30509   \n",
       "3548050       2472763     2539536  12322554          30509   \n",
       "3548049       2472763     2539536  12322555          30509   \n",
       "3548046       2472763     2539536  12336323          30509   \n",
       "3548045       2472763     2539536  12350418          30509   \n",
       "3548044       2472763     2539536  12406071          30509   \n",
       "3548043       2472763     2539536  12442336          30509   \n",
       "3548042       2472763     2539536  12442411          30509   \n",
       "3548041       2472763     2539536  12531511          30509   \n",
       "3548040       2472763     2539536  12581356          30509   \n",
       "3548039       2472763     2539536  12627914          30509   \n",
       "3548051       2472763     2539536  12661819          30509   \n",
       "\n",
       "                           action_date  \\\n",
       "74581     2018-04-06 09:31:29.11047+00   \n",
       "3548048  2018-04-06 09:31:53.393933+00   \n",
       "3548047  2018-04-06 09:31:54.249132+00   \n",
       "3548050   2018-04-06 09:31:55.10961+00   \n",
       "3548049  2018-04-06 09:31:55.840815+00   \n",
       "3548046  2018-04-06 15:22:53.949873+00   \n",
       "3548045  2018-04-09 11:18:53.658687+00   \n",
       "3548044  2018-04-11 16:16:06.000229+00   \n",
       "3548043  2018-04-13 13:50:15.575197+00   \n",
       "3548042  2018-04-13 13:53:08.951483+00   \n",
       "3548041  2018-04-19 14:17:22.571228+00   \n",
       "3548040  2018-04-23 17:39:35.017144+00   \n",
       "3548039  2018-04-25 17:18:29.973466+00   \n",
       "3548051   2018-04-27 11:49:13.15228+00   \n",
       "\n",
       "                                         stage_name  \\\n",
       "74581                            Создание кандидата   \n",
       "3548048                                   Обработка   \n",
       "3548047                    Интервью с руководителем   \n",
       "3548050                    Интервью с руководителем   \n",
       "3548049                                          СБ   \n",
       "3548046                                          СБ   \n",
       "3548045  Назначение времени на оформление/медосмотр   \n",
       "3548044                                  Оформление   \n",
       "3548043                                  Оформление   \n",
       "3548042                                  Оформление   \n",
       "3548041                                  Оформление   \n",
       "3548040                                  Оформление   \n",
       "3548039                                  Оформление   \n",
       "3548051                             Выход на работу   \n",
       "\n",
       "                                      activity_name        result_name  \\\n",
       "74581                                           NaN                NaN   \n",
       "3548048                Провести первичную обработку           Подходит   \n",
       "3548047          Назначить интервью с руководителем  Встреча назначена   \n",
       "3548050  Узнать результаты интервью с руководителем           Подходит   \n",
       "3548049                Подготовить анкету кандидата       Подготовлена   \n",
       "3548046                        Узнать результаты СБ           Подходит   \n",
       "3548045     Назначить время на оформление/медосмотр    Время назначено   \n",
       "3548044                    Узнать результаты приема         В ожидании   \n",
       "3548043                    Узнать результаты приема         В ожидании   \n",
       "3548042                    Узнать результаты приема         В ожидании   \n",
       "3548041                    Узнать результаты приема         В ожидании   \n",
       "3548040                    Узнать результаты приема         В ожидании   \n",
       "3548039                    Узнать результаты приема         В ожидании   \n",
       "3548051                    Узнать результаты приема             Принят   \n",
       "\n",
       "         is_open_action  \n",
       "74581             False  \n",
       "3548048           False  \n",
       "3548047           False  \n",
       "3548050           False  \n",
       "3548049           False  \n",
       "3548046           False  \n",
       "3548045           False  \n",
       "3548044           False  \n",
       "3548043           False  \n",
       "3548042           False  \n",
       "3548041           False  \n",
       "3548040           False  \n",
       "3548039           False  \n",
       "3548051           False  "
      ]
     },
     "execution_count": 81,
     "metadata": {},
     "output_type": "execute_result"
    }
   ],
   "source": [
    "sorted_df[sorted_df['id_applicant'] == 2472763]"
   ]
  },
  {
   "cell_type": "markdown",
   "id": "b1d5a8b8",
   "metadata": {},
   "source": [
    "Выше путь кандидата, которого приняли. Путь аналогичен кандидату, который вышел на работу."
   ]
  }
 ],
 "metadata": {
  "kernelspec": {
   "display_name": "Python 3 (ipykernel)",
   "language": "python",
   "name": "python3"
  },
  "language_info": {
   "codemirror_mode": {
    "name": "ipython",
    "version": 3
   },
   "file_extension": ".py",
   "mimetype": "text/x-python",
   "name": "python",
   "nbconvert_exporter": "python",
   "pygments_lexer": "ipython3",
   "version": "3.9.7"
  }
 },
 "nbformat": 4,
 "nbformat_minor": 5
}
